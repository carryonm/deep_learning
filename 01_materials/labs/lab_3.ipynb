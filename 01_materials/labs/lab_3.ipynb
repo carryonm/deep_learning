{
 "cells": [
  {
   "cell_type": "markdown",
   "metadata": {},
   "source": [
    "# Recommender Systems\n",
    "\n",
    "In this lab, we'll be using Keras to build a recommender system. We'll be using the MovieLens dataset, a common benchmark dataset for recommender systems. \n",
    "\n",
    "MovieLens is a web-based recommender system and virtual community that recommends movies for its users to watch, based on their film preferences using collaborative filtering of members' movie ratings and movie reviews. You can check out the website here: https://movielens.org/\n",
    "\n",
    "We will download a subset of the dataset containing 100k ratings. There are tens of millions of ratings in the full dataset, spanning hundreds of thousands of users and movies. The subset we'll be using is a good example to demonstrate the concepts in this lab."
   ]
  },
  {
   "cell_type": "code",
   "execution_count": 1,
   "metadata": {},
   "outputs": [],
   "source": [
    "%matplotlib inline\n",
    "import matplotlib.pyplot as plt\n",
    "import numpy as np\n",
    "from zipfile import ZipFile\n",
    "from urllib.request import urlretrieve\n",
    "from pathlib import Path\n",
    "\n",
    "ML_100K_URL = \"http://files.grouplens.org/datasets/movielens/ml-100k.zip\"\n",
    "ML_100K_FILENAME = Path(\"ml-100k.zip\")\n",
    "ML_100K_FOLDER = Path(\"ml-100k\")\n",
    "\n",
    "if not ML_100K_FOLDER.exists():\n",
    "    if not ML_100K_FILENAME.exists():\n",
    "        urlretrieve(ML_100K_URL, ML_100K_FILENAME.name)\n",
    "    with ZipFile(ML_100K_FILENAME.name) as zipf:\n",
    "        zipf.extractall()"
   ]
  },
  {
   "cell_type": "markdown",
   "metadata": {},
   "source": [
    "The goal of MovieLens is to enable models to predict the rating a user would give to a movie they have not yet watched. This is a classic example of a recommendation system. The dataset is huge, and contains many parts giving information about the movies, the users, and the ratings. To begin with, we will look at the ratings file. Each line in the ratings file (u.data) is formatted as:\n",
    "\n",
    "`user_id, item_id, rating, timestamp`\n",
    "\n",
    "Which tells us a single user's rating of a single movie.\n",
    "\n",
    "We will start by loading the ratings data into a pandas dataframe and then take a look at the first few rows. If you haven't used Pandas before, it's an extremely powerful library for dealing with tabular data. You can think of it as a Python version of Excel."
   ]
  },
  {
   "cell_type": "code",
   "execution_count": 2,
   "metadata": {},
   "outputs": [
    {
     "data": {
      "text/html": [
       "<div>\n",
       "<style scoped>\n",
       "    .dataframe tbody tr th:only-of-type {\n",
       "        vertical-align: middle;\n",
       "    }\n",
       "\n",
       "    .dataframe tbody tr th {\n",
       "        vertical-align: top;\n",
       "    }\n",
       "\n",
       "    .dataframe thead th {\n",
       "        text-align: right;\n",
       "    }\n",
       "</style>\n",
       "<table border=\"1\" class=\"dataframe\">\n",
       "  <thead>\n",
       "    <tr style=\"text-align: right;\">\n",
       "      <th></th>\n",
       "      <th>user_id</th>\n",
       "      <th>item_id</th>\n",
       "      <th>rating</th>\n",
       "      <th>timestamp</th>\n",
       "    </tr>\n",
       "  </thead>\n",
       "  <tbody>\n",
       "    <tr>\n",
       "      <th>0</th>\n",
       "      <td>196</td>\n",
       "      <td>242</td>\n",
       "      <td>3</td>\n",
       "      <td>881250949</td>\n",
       "    </tr>\n",
       "    <tr>\n",
       "      <th>1</th>\n",
       "      <td>186</td>\n",
       "      <td>302</td>\n",
       "      <td>3</td>\n",
       "      <td>891717742</td>\n",
       "    </tr>\n",
       "    <tr>\n",
       "      <th>2</th>\n",
       "      <td>22</td>\n",
       "      <td>377</td>\n",
       "      <td>1</td>\n",
       "      <td>878887116</td>\n",
       "    </tr>\n",
       "    <tr>\n",
       "      <th>3</th>\n",
       "      <td>244</td>\n",
       "      <td>51</td>\n",
       "      <td>2</td>\n",
       "      <td>880606923</td>\n",
       "    </tr>\n",
       "    <tr>\n",
       "      <th>4</th>\n",
       "      <td>166</td>\n",
       "      <td>346</td>\n",
       "      <td>1</td>\n",
       "      <td>886397596</td>\n",
       "    </tr>\n",
       "    <tr>\n",
       "      <th>...</th>\n",
       "      <td>...</td>\n",
       "      <td>...</td>\n",
       "      <td>...</td>\n",
       "      <td>...</td>\n",
       "    </tr>\n",
       "    <tr>\n",
       "      <th>99995</th>\n",
       "      <td>880</td>\n",
       "      <td>476</td>\n",
       "      <td>3</td>\n",
       "      <td>880175444</td>\n",
       "    </tr>\n",
       "    <tr>\n",
       "      <th>99996</th>\n",
       "      <td>716</td>\n",
       "      <td>204</td>\n",
       "      <td>5</td>\n",
       "      <td>879795543</td>\n",
       "    </tr>\n",
       "    <tr>\n",
       "      <th>99997</th>\n",
       "      <td>276</td>\n",
       "      <td>1090</td>\n",
       "      <td>1</td>\n",
       "      <td>874795795</td>\n",
       "    </tr>\n",
       "    <tr>\n",
       "      <th>99998</th>\n",
       "      <td>13</td>\n",
       "      <td>225</td>\n",
       "      <td>2</td>\n",
       "      <td>882399156</td>\n",
       "    </tr>\n",
       "    <tr>\n",
       "      <th>99999</th>\n",
       "      <td>12</td>\n",
       "      <td>203</td>\n",
       "      <td>3</td>\n",
       "      <td>879959583</td>\n",
       "    </tr>\n",
       "  </tbody>\n",
       "</table>\n",
       "<p>100000 rows × 4 columns</p>\n",
       "</div>"
      ],
      "text/plain": [
       "       user_id  item_id  rating  timestamp\n",
       "0          196      242       3  881250949\n",
       "1          186      302       3  891717742\n",
       "2           22      377       1  878887116\n",
       "3          244       51       2  880606923\n",
       "4          166      346       1  886397596\n",
       "...        ...      ...     ...        ...\n",
       "99995      880      476       3  880175444\n",
       "99996      716      204       5  879795543\n",
       "99997      276     1090       1  874795795\n",
       "99998       13      225       2  882399156\n",
       "99999       12      203       3  879959583\n",
       "\n",
       "[100000 rows x 4 columns]"
      ]
     },
     "execution_count": 2,
     "metadata": {},
     "output_type": "execute_result"
    }
   ],
   "source": [
    "import pandas as pd\n",
    "\n",
    "raw_ratings = pd.read_csv(ML_100K_FOLDER / \"u.data\", sep='\\t',\n",
    "                          names=[\"user_id\", \"item_id\", \"rating\", \"timestamp\"])\n",
    "raw_ratings"
   ]
  },
  {
   "cell_type": "markdown",
   "metadata": {},
   "source": [
    "The second file we'll look at is the movie metadata. This file (u.item) contains information about each movie, including the title and release date. Each line in the file is formatted as:\n",
    "\n",
    "`movie_id | movie_title | release_date | video_release_date | IMDb_URL | unknown | Action | Adventure | Animation | Children's | Comedy | Crime | Documentary | Drama | Fantasy | Film-Noir | Horror | Musical | Mystery | Romance | Sci-Fi | Thriller | War | Western`\n",
    "\n",
    "As you can see, the genres are binary variables. As with one-hot encoding, a 1 indicates that the movie is of that genre, and a 0 indicates that it is not. We aren't going to work with the genre data in this lab, but it's easy to imagine that it could be useful in a real-world recommendation system."
   ]
  },
  {
   "cell_type": "code",
   "execution_count": 3,
   "metadata": {},
   "outputs": [
    {
     "data": {
      "text/html": [
       "<div>\n",
       "<style scoped>\n",
       "    .dataframe tbody tr th:only-of-type {\n",
       "        vertical-align: middle;\n",
       "    }\n",
       "\n",
       "    .dataframe tbody tr th {\n",
       "        vertical-align: top;\n",
       "    }\n",
       "\n",
       "    .dataframe thead th {\n",
       "        text-align: right;\n",
       "    }\n",
       "</style>\n",
       "<table border=\"1\" class=\"dataframe\">\n",
       "  <thead>\n",
       "    <tr style=\"text-align: right;\">\n",
       "      <th></th>\n",
       "      <th>item_id</th>\n",
       "      <th>title</th>\n",
       "      <th>release_date</th>\n",
       "      <th>video_release_date</th>\n",
       "      <th>imdb_url</th>\n",
       "    </tr>\n",
       "  </thead>\n",
       "  <tbody>\n",
       "    <tr>\n",
       "      <th>0</th>\n",
       "      <td>1</td>\n",
       "      <td>Toy Story (1995)</td>\n",
       "      <td>01-Jan-1995</td>\n",
       "      <td>NaN</td>\n",
       "      <td>http://us.imdb.com/M/title-exact?Toy%20Story%2...</td>\n",
       "    </tr>\n",
       "    <tr>\n",
       "      <th>1</th>\n",
       "      <td>2</td>\n",
       "      <td>GoldenEye (1995)</td>\n",
       "      <td>01-Jan-1995</td>\n",
       "      <td>NaN</td>\n",
       "      <td>http://us.imdb.com/M/title-exact?GoldenEye%20(...</td>\n",
       "    </tr>\n",
       "    <tr>\n",
       "      <th>2</th>\n",
       "      <td>3</td>\n",
       "      <td>Four Rooms (1995)</td>\n",
       "      <td>01-Jan-1995</td>\n",
       "      <td>NaN</td>\n",
       "      <td>http://us.imdb.com/M/title-exact?Four%20Rooms%...</td>\n",
       "    </tr>\n",
       "    <tr>\n",
       "      <th>3</th>\n",
       "      <td>4</td>\n",
       "      <td>Get Shorty (1995)</td>\n",
       "      <td>01-Jan-1995</td>\n",
       "      <td>NaN</td>\n",
       "      <td>http://us.imdb.com/M/title-exact?Get%20Shorty%...</td>\n",
       "    </tr>\n",
       "    <tr>\n",
       "      <th>4</th>\n",
       "      <td>5</td>\n",
       "      <td>Copycat (1995)</td>\n",
       "      <td>01-Jan-1995</td>\n",
       "      <td>NaN</td>\n",
       "      <td>http://us.imdb.com/M/title-exact?Copycat%20(1995)</td>\n",
       "    </tr>\n",
       "    <tr>\n",
       "      <th>...</th>\n",
       "      <td>...</td>\n",
       "      <td>...</td>\n",
       "      <td>...</td>\n",
       "      <td>...</td>\n",
       "      <td>...</td>\n",
       "    </tr>\n",
       "    <tr>\n",
       "      <th>1677</th>\n",
       "      <td>1678</td>\n",
       "      <td>Mat' i syn (1997)</td>\n",
       "      <td>06-Feb-1998</td>\n",
       "      <td>NaN</td>\n",
       "      <td>http://us.imdb.com/M/title-exact?Mat%27+i+syn+...</td>\n",
       "    </tr>\n",
       "    <tr>\n",
       "      <th>1678</th>\n",
       "      <td>1679</td>\n",
       "      <td>B. Monkey (1998)</td>\n",
       "      <td>06-Feb-1998</td>\n",
       "      <td>NaN</td>\n",
       "      <td>http://us.imdb.com/M/title-exact?B%2E+Monkey+(...</td>\n",
       "    </tr>\n",
       "    <tr>\n",
       "      <th>1679</th>\n",
       "      <td>1680</td>\n",
       "      <td>Sliding Doors (1998)</td>\n",
       "      <td>01-Jan-1998</td>\n",
       "      <td>NaN</td>\n",
       "      <td>http://us.imdb.com/Title?Sliding+Doors+(1998)</td>\n",
       "    </tr>\n",
       "    <tr>\n",
       "      <th>1680</th>\n",
       "      <td>1681</td>\n",
       "      <td>You So Crazy (1994)</td>\n",
       "      <td>01-Jan-1994</td>\n",
       "      <td>NaN</td>\n",
       "      <td>http://us.imdb.com/M/title-exact?You%20So%20Cr...</td>\n",
       "    </tr>\n",
       "    <tr>\n",
       "      <th>1681</th>\n",
       "      <td>1682</td>\n",
       "      <td>Scream of Stone (Schrei aus Stein) (1991)</td>\n",
       "      <td>08-Mar-1996</td>\n",
       "      <td>NaN</td>\n",
       "      <td>http://us.imdb.com/M/title-exact?Schrei%20aus%...</td>\n",
       "    </tr>\n",
       "  </tbody>\n",
       "</table>\n",
       "<p>1682 rows × 5 columns</p>\n",
       "</div>"
      ],
      "text/plain": [
       "      item_id                                      title release_date  \\\n",
       "0           1                           Toy Story (1995)  01-Jan-1995   \n",
       "1           2                           GoldenEye (1995)  01-Jan-1995   \n",
       "2           3                          Four Rooms (1995)  01-Jan-1995   \n",
       "3           4                          Get Shorty (1995)  01-Jan-1995   \n",
       "4           5                             Copycat (1995)  01-Jan-1995   \n",
       "...       ...                                        ...          ...   \n",
       "1677     1678                          Mat' i syn (1997)  06-Feb-1998   \n",
       "1678     1679                           B. Monkey (1998)  06-Feb-1998   \n",
       "1679     1680                       Sliding Doors (1998)  01-Jan-1998   \n",
       "1680     1681                        You So Crazy (1994)  01-Jan-1994   \n",
       "1681     1682  Scream of Stone (Schrei aus Stein) (1991)  08-Mar-1996   \n",
       "\n",
       "      video_release_date                                           imdb_url  \n",
       "0                    NaN  http://us.imdb.com/M/title-exact?Toy%20Story%2...  \n",
       "1                    NaN  http://us.imdb.com/M/title-exact?GoldenEye%20(...  \n",
       "2                    NaN  http://us.imdb.com/M/title-exact?Four%20Rooms%...  \n",
       "3                    NaN  http://us.imdb.com/M/title-exact?Get%20Shorty%...  \n",
       "4                    NaN  http://us.imdb.com/M/title-exact?Copycat%20(1995)  \n",
       "...                  ...                                                ...  \n",
       "1677                 NaN  http://us.imdb.com/M/title-exact?Mat%27+i+syn+...  \n",
       "1678                 NaN  http://us.imdb.com/M/title-exact?B%2E+Monkey+(...  \n",
       "1679                 NaN      http://us.imdb.com/Title?Sliding+Doors+(1998)  \n",
       "1680                 NaN  http://us.imdb.com/M/title-exact?You%20So%20Cr...  \n",
       "1681                 NaN  http://us.imdb.com/M/title-exact?Schrei%20aus%...  \n",
       "\n",
       "[1682 rows x 5 columns]"
      ]
     },
     "execution_count": 3,
     "metadata": {},
     "output_type": "execute_result"
    }
   ],
   "source": [
    "columns_to_keep = ['item_id', 'title', 'release_date', 'video_release_date', 'imdb_url']\n",
    "items = pd.read_csv(ML_100K_FOLDER / \"u.item\", sep='|', names=columns_to_keep,\n",
    "                    encoding='latin-1', usecols=range(5))\n",
    "items"
   ]
  },
  {
   "cell_type": "markdown",
   "metadata": {},
   "source": [
    "By default, the `release_date` column is a string. We can convert it to a `datetime` object using the `pd.to_datetime` function. This will make it easier to work with in the future (if we want to do things like check which date came first, for example).\n",
    " \n",
    "We can also extract the year from the date and store it in a separate column. This will make it easier to do things like plot the number of movies released each year."
   ]
  },
  {
   "cell_type": "code",
   "execution_count": 4,
   "metadata": {},
   "outputs": [],
   "source": [
    "items['release_date'] = pd.to_datetime(items['release_date']) # Pandas makes this easy!\n",
    "items['release_year'] = items['release_date'].dt.year # For later use"
   ]
  },
  {
   "cell_type": "markdown",
   "metadata": {},
   "source": [
    "For our purposes, it will be easier to work with the data if we merge our two dataframes into a single dataframe. We can do this using the `merge` method. We'll merge the `items` dataframe into the `raw_ratings` dataframe, using the `item_id` column as the key. This will add the movie title and release year to each rating."
   ]
  },
  {
   "cell_type": "code",
   "execution_count": 5,
   "metadata": {},
   "outputs": [],
   "source": [
    "all_ratings = pd.merge(items, raw_ratings)"
   ]
  },
  {
   "cell_type": "code",
   "execution_count": 6,
   "metadata": {},
   "outputs": [
    {
     "data": {
      "text/html": [
       "<div>\n",
       "<style scoped>\n",
       "    .dataframe tbody tr th:only-of-type {\n",
       "        vertical-align: middle;\n",
       "    }\n",
       "\n",
       "    .dataframe tbody tr th {\n",
       "        vertical-align: top;\n",
       "    }\n",
       "\n",
       "    .dataframe thead th {\n",
       "        text-align: right;\n",
       "    }\n",
       "</style>\n",
       "<table border=\"1\" class=\"dataframe\">\n",
       "  <thead>\n",
       "    <tr style=\"text-align: right;\">\n",
       "      <th></th>\n",
       "      <th>item_id</th>\n",
       "      <th>title</th>\n",
       "      <th>release_date</th>\n",
       "      <th>video_release_date</th>\n",
       "      <th>imdb_url</th>\n",
       "      <th>release_year</th>\n",
       "      <th>user_id</th>\n",
       "      <th>rating</th>\n",
       "      <th>timestamp</th>\n",
       "    </tr>\n",
       "  </thead>\n",
       "  <tbody>\n",
       "    <tr>\n",
       "      <th>0</th>\n",
       "      <td>1</td>\n",
       "      <td>Toy Story (1995)</td>\n",
       "      <td>1995-01-01</td>\n",
       "      <td>NaN</td>\n",
       "      <td>http://us.imdb.com/M/title-exact?Toy%20Story%2...</td>\n",
       "      <td>1995.0</td>\n",
       "      <td>308</td>\n",
       "      <td>4</td>\n",
       "      <td>887736532</td>\n",
       "    </tr>\n",
       "    <tr>\n",
       "      <th>1</th>\n",
       "      <td>1</td>\n",
       "      <td>Toy Story (1995)</td>\n",
       "      <td>1995-01-01</td>\n",
       "      <td>NaN</td>\n",
       "      <td>http://us.imdb.com/M/title-exact?Toy%20Story%2...</td>\n",
       "      <td>1995.0</td>\n",
       "      <td>287</td>\n",
       "      <td>5</td>\n",
       "      <td>875334088</td>\n",
       "    </tr>\n",
       "    <tr>\n",
       "      <th>2</th>\n",
       "      <td>1</td>\n",
       "      <td>Toy Story (1995)</td>\n",
       "      <td>1995-01-01</td>\n",
       "      <td>NaN</td>\n",
       "      <td>http://us.imdb.com/M/title-exact?Toy%20Story%2...</td>\n",
       "      <td>1995.0</td>\n",
       "      <td>148</td>\n",
       "      <td>4</td>\n",
       "      <td>877019411</td>\n",
       "    </tr>\n",
       "    <tr>\n",
       "      <th>3</th>\n",
       "      <td>1</td>\n",
       "      <td>Toy Story (1995)</td>\n",
       "      <td>1995-01-01</td>\n",
       "      <td>NaN</td>\n",
       "      <td>http://us.imdb.com/M/title-exact?Toy%20Story%2...</td>\n",
       "      <td>1995.0</td>\n",
       "      <td>280</td>\n",
       "      <td>4</td>\n",
       "      <td>891700426</td>\n",
       "    </tr>\n",
       "    <tr>\n",
       "      <th>4</th>\n",
       "      <td>1</td>\n",
       "      <td>Toy Story (1995)</td>\n",
       "      <td>1995-01-01</td>\n",
       "      <td>NaN</td>\n",
       "      <td>http://us.imdb.com/M/title-exact?Toy%20Story%2...</td>\n",
       "      <td>1995.0</td>\n",
       "      <td>66</td>\n",
       "      <td>3</td>\n",
       "      <td>883601324</td>\n",
       "    </tr>\n",
       "  </tbody>\n",
       "</table>\n",
       "</div>"
      ],
      "text/plain": [
       "   item_id             title release_date  video_release_date  \\\n",
       "0        1  Toy Story (1995)   1995-01-01                 NaN   \n",
       "1        1  Toy Story (1995)   1995-01-01                 NaN   \n",
       "2        1  Toy Story (1995)   1995-01-01                 NaN   \n",
       "3        1  Toy Story (1995)   1995-01-01                 NaN   \n",
       "4        1  Toy Story (1995)   1995-01-01                 NaN   \n",
       "\n",
       "                                            imdb_url  release_year  user_id  \\\n",
       "0  http://us.imdb.com/M/title-exact?Toy%20Story%2...        1995.0      308   \n",
       "1  http://us.imdb.com/M/title-exact?Toy%20Story%2...        1995.0      287   \n",
       "2  http://us.imdb.com/M/title-exact?Toy%20Story%2...        1995.0      148   \n",
       "3  http://us.imdb.com/M/title-exact?Toy%20Story%2...        1995.0      280   \n",
       "4  http://us.imdb.com/M/title-exact?Toy%20Story%2...        1995.0       66   \n",
       "\n",
       "   rating  timestamp  \n",
       "0       4  887736532  \n",
       "1       5  875334088  \n",
       "2       4  877019411  \n",
       "3       4  891700426  \n",
       "4       3  883601324  "
      ]
     },
     "execution_count": 6,
     "metadata": {},
     "output_type": "execute_result"
    }
   ],
   "source": [
    "all_ratings.head()"
   ]
  },
  {
   "cell_type": "markdown",
   "metadata": {},
   "source": [
    "### Data preprocessing\n",
    "\n",
    "It's always important to understand the data you've collected. Thankfully, Pandas continues to make this easy for us. Using the `describe` method, we can get a quick statistical summary of the data."
   ]
  },
  {
   "cell_type": "code",
   "execution_count": 7,
   "metadata": {},
   "outputs": [
    {
     "data": {
      "text/html": [
       "<div>\n",
       "<style scoped>\n",
       "    .dataframe tbody tr th:only-of-type {\n",
       "        vertical-align: middle;\n",
       "    }\n",
       "\n",
       "    .dataframe tbody tr th {\n",
       "        vertical-align: top;\n",
       "    }\n",
       "\n",
       "    .dataframe thead th {\n",
       "        text-align: right;\n",
       "    }\n",
       "</style>\n",
       "<table border=\"1\" class=\"dataframe\">\n",
       "  <thead>\n",
       "    <tr style=\"text-align: right;\">\n",
       "      <th></th>\n",
       "      <th>item_id</th>\n",
       "      <th>release_date</th>\n",
       "      <th>video_release_date</th>\n",
       "      <th>release_year</th>\n",
       "      <th>user_id</th>\n",
       "      <th>rating</th>\n",
       "      <th>timestamp</th>\n",
       "    </tr>\n",
       "  </thead>\n",
       "  <tbody>\n",
       "    <tr>\n",
       "      <th>count</th>\n",
       "      <td>100000.000000</td>\n",
       "      <td>99991</td>\n",
       "      <td>0.0</td>\n",
       "      <td>99991.000000</td>\n",
       "      <td>100000.00000</td>\n",
       "      <td>100000.000000</td>\n",
       "      <td>1.000000e+05</td>\n",
       "    </tr>\n",
       "    <tr>\n",
       "      <th>mean</th>\n",
       "      <td>425.530130</td>\n",
       "      <td>1988-02-09 00:43:11.369223296</td>\n",
       "      <td>NaN</td>\n",
       "      <td>1987.956216</td>\n",
       "      <td>462.48475</td>\n",
       "      <td>3.529860</td>\n",
       "      <td>8.835289e+08</td>\n",
       "    </tr>\n",
       "    <tr>\n",
       "      <th>min</th>\n",
       "      <td>1.000000</td>\n",
       "      <td>1922-01-01 00:00:00</td>\n",
       "      <td>NaN</td>\n",
       "      <td>1922.000000</td>\n",
       "      <td>1.00000</td>\n",
       "      <td>1.000000</td>\n",
       "      <td>8.747247e+08</td>\n",
       "    </tr>\n",
       "    <tr>\n",
       "      <th>25%</th>\n",
       "      <td>175.000000</td>\n",
       "      <td>1986-01-01 00:00:00</td>\n",
       "      <td>NaN</td>\n",
       "      <td>1986.000000</td>\n",
       "      <td>254.00000</td>\n",
       "      <td>3.000000</td>\n",
       "      <td>8.794487e+08</td>\n",
       "    </tr>\n",
       "    <tr>\n",
       "      <th>50%</th>\n",
       "      <td>322.000000</td>\n",
       "      <td>1994-01-01 00:00:00</td>\n",
       "      <td>NaN</td>\n",
       "      <td>1994.000000</td>\n",
       "      <td>447.00000</td>\n",
       "      <td>4.000000</td>\n",
       "      <td>8.828269e+08</td>\n",
       "    </tr>\n",
       "    <tr>\n",
       "      <th>75%</th>\n",
       "      <td>631.000000</td>\n",
       "      <td>1996-09-28 00:00:00</td>\n",
       "      <td>NaN</td>\n",
       "      <td>1996.000000</td>\n",
       "      <td>682.00000</td>\n",
       "      <td>4.000000</td>\n",
       "      <td>8.882600e+08</td>\n",
       "    </tr>\n",
       "    <tr>\n",
       "      <th>max</th>\n",
       "      <td>1682.000000</td>\n",
       "      <td>1998-10-23 00:00:00</td>\n",
       "      <td>NaN</td>\n",
       "      <td>1998.000000</td>\n",
       "      <td>943.00000</td>\n",
       "      <td>5.000000</td>\n",
       "      <td>8.932866e+08</td>\n",
       "    </tr>\n",
       "    <tr>\n",
       "      <th>std</th>\n",
       "      <td>330.798356</td>\n",
       "      <td>NaN</td>\n",
       "      <td>NaN</td>\n",
       "      <td>14.155523</td>\n",
       "      <td>266.61442</td>\n",
       "      <td>1.125674</td>\n",
       "      <td>5.343856e+06</td>\n",
       "    </tr>\n",
       "  </tbody>\n",
       "</table>\n",
       "</div>"
      ],
      "text/plain": [
       "             item_id                   release_date  video_release_date  \\\n",
       "count  100000.000000                          99991                 0.0   \n",
       "mean      425.530130  1988-02-09 00:43:11.369223296                 NaN   \n",
       "min         1.000000            1922-01-01 00:00:00                 NaN   \n",
       "25%       175.000000            1986-01-01 00:00:00                 NaN   \n",
       "50%       322.000000            1994-01-01 00:00:00                 NaN   \n",
       "75%       631.000000            1996-09-28 00:00:00                 NaN   \n",
       "max      1682.000000            1998-10-23 00:00:00                 NaN   \n",
       "std       330.798356                            NaN                 NaN   \n",
       "\n",
       "       release_year       user_id         rating     timestamp  \n",
       "count  99991.000000  100000.00000  100000.000000  1.000000e+05  \n",
       "mean    1987.956216     462.48475       3.529860  8.835289e+08  \n",
       "min     1922.000000       1.00000       1.000000  8.747247e+08  \n",
       "25%     1986.000000     254.00000       3.000000  8.794487e+08  \n",
       "50%     1994.000000     447.00000       4.000000  8.828269e+08  \n",
       "75%     1996.000000     682.00000       4.000000  8.882600e+08  \n",
       "max     1998.000000     943.00000       5.000000  8.932866e+08  \n",
       "std       14.155523     266.61442       1.125674  5.343856e+06  "
      ]
     },
     "execution_count": 7,
     "metadata": {},
     "output_type": "execute_result"
    }
   ],
   "source": [
    "all_ratings.describe()"
   ]
  },
  {
   "cell_type": "markdown",
   "metadata": {},
   "source": [
    "Let's do a bit more pandas magic to compute the popularity of each movie (number of ratings). We will use the `groupby` method to group the dataframe by the `item_id` column and then use the `size` method to compute the number of ratings for each movie. We will use the `reset_index` method to convert the resulting Series into a dataframe with an `item_id` column."
   ]
  },
  {
   "cell_type": "code",
   "execution_count": 8,
   "metadata": {},
   "outputs": [],
   "source": [
    "popularity = all_ratings.groupby('item_id').size().reset_index(name='popularity')\n",
    "items = pd.merge(popularity, items)"
   ]
  },
  {
   "cell_type": "code",
   "execution_count": 9,
   "metadata": {},
   "outputs": [
    {
     "data": {
      "image/png": "[encoded data removed]",
      "text/plain": [
       "<Figure size 640x480 with 1 Axes>"
      ]
     },
     "metadata": {},
     "output_type": "display_data"
    }
   ],
   "source": [
    "items['popularity'].plot.hist(bins=30);"
   ]
  },
  {
   "cell_type": "code",
   "execution_count": 10,
   "metadata": {},
   "outputs": [
    {
     "data": {
      "text/plain": [
       "141"
      ]
     },
     "execution_count": 10,
     "metadata": {},
     "output_type": "execute_result"
    }
   ],
   "source": [
    "(items['popularity'] == 1).sum() # Number of movies with only one rating"
   ]
  },
  {
   "cell_type": "code",
   "execution_count": 11,
   "metadata": {},
   "outputs": [
    {
     "data": {
      "text/plain": [
       "49                  Star Wars (1977)\n",
       "257                   Contact (1997)\n",
       "99                      Fargo (1996)\n",
       "180        Return of the Jedi (1983)\n",
       "293                 Liar Liar (1997)\n",
       "285      English Patient, The (1996)\n",
       "287                    Scream (1996)\n",
       "0                   Toy Story (1995)\n",
       "299             Air Force One (1997)\n",
       "120    Independence Day (ID4) (1996)\n",
       "Name: title, dtype: object"
      ]
     },
     "execution_count": 11,
     "metadata": {},
     "output_type": "execute_result"
    }
   ],
   "source": [
    "items.nlargest(10, 'popularity')['title'] # Get the 10 most popular movies"
   ]
  },
  {
   "cell_type": "code",
   "execution_count": 12,
   "metadata": {},
   "outputs": [
    {
     "data": {
      "text/html": [
       "<div>\n",
       "<style scoped>\n",
       "    .dataframe tbody tr th:only-of-type {\n",
       "        vertical-align: middle;\n",
       "    }\n",
       "\n",
       "    .dataframe tbody tr th {\n",
       "        vertical-align: top;\n",
       "    }\n",
       "\n",
       "    .dataframe thead th {\n",
       "        text-align: right;\n",
       "    }\n",
       "</style>\n",
       "<table border=\"1\" class=\"dataframe\">\n",
       "  <thead>\n",
       "    <tr style=\"text-align: right;\">\n",
       "      <th></th>\n",
       "      <th>item_id</th>\n",
       "      <th>popularity</th>\n",
       "      <th>release_date</th>\n",
       "      <th>video_release_date</th>\n",
       "      <th>release_year</th>\n",
       "      <th>user_id</th>\n",
       "      <th>rating</th>\n",
       "      <th>timestamp</th>\n",
       "    </tr>\n",
       "  </thead>\n",
       "  <tbody>\n",
       "    <tr>\n",
       "      <th>count</th>\n",
       "      <td>100000.000000</td>\n",
       "      <td>100000.000000</td>\n",
       "      <td>99991</td>\n",
       "      <td>0.0</td>\n",
       "      <td>99991.000000</td>\n",
       "      <td>100000.00000</td>\n",
       "      <td>100000.000000</td>\n",
       "      <td>1.000000e+05</td>\n",
       "    </tr>\n",
       "    <tr>\n",
       "      <th>mean</th>\n",
       "      <td>425.530130</td>\n",
       "      <td>168.071900</td>\n",
       "      <td>1988-02-09 00:43:11.369223296</td>\n",
       "      <td>NaN</td>\n",
       "      <td>1987.956216</td>\n",
       "      <td>462.48475</td>\n",
       "      <td>3.529860</td>\n",
       "      <td>8.835289e+08</td>\n",
       "    </tr>\n",
       "    <tr>\n",
       "      <th>min</th>\n",
       "      <td>1.000000</td>\n",
       "      <td>1.000000</td>\n",
       "      <td>1922-01-01 00:00:00</td>\n",
       "      <td>NaN</td>\n",
       "      <td>1922.000000</td>\n",
       "      <td>1.00000</td>\n",
       "      <td>1.000000</td>\n",
       "      <td>8.747247e+08</td>\n",
       "    </tr>\n",
       "    <tr>\n",
       "      <th>25%</th>\n",
       "      <td>175.000000</td>\n",
       "      <td>71.000000</td>\n",
       "      <td>1986-01-01 00:00:00</td>\n",
       "      <td>NaN</td>\n",
       "      <td>1986.000000</td>\n",
       "      <td>254.00000</td>\n",
       "      <td>3.000000</td>\n",
       "      <td>8.794487e+08</td>\n",
       "    </tr>\n",
       "    <tr>\n",
       "      <th>50%</th>\n",
       "      <td>322.000000</td>\n",
       "      <td>145.000000</td>\n",
       "      <td>1994-01-01 00:00:00</td>\n",
       "      <td>NaN</td>\n",
       "      <td>1994.000000</td>\n",
       "      <td>447.00000</td>\n",
       "      <td>4.000000</td>\n",
       "      <td>8.828269e+08</td>\n",
       "    </tr>\n",
       "    <tr>\n",
       "      <th>75%</th>\n",
       "      <td>631.000000</td>\n",
       "      <td>239.000000</td>\n",
       "      <td>1996-09-28 00:00:00</td>\n",
       "      <td>NaN</td>\n",
       "      <td>1996.000000</td>\n",
       "      <td>682.00000</td>\n",
       "      <td>4.000000</td>\n",
       "      <td>8.882600e+08</td>\n",
       "    </tr>\n",
       "    <tr>\n",
       "      <th>max</th>\n",
       "      <td>1682.000000</td>\n",
       "      <td>583.000000</td>\n",
       "      <td>1998-10-23 00:00:00</td>\n",
       "      <td>NaN</td>\n",
       "      <td>1998.000000</td>\n",
       "      <td>943.00000</td>\n",
       "      <td>5.000000</td>\n",
       "      <td>8.932866e+08</td>\n",
       "    </tr>\n",
       "    <tr>\n",
       "      <th>std</th>\n",
       "      <td>330.798356</td>\n",
       "      <td>121.784558</td>\n",
       "      <td>NaN</td>\n",
       "      <td>NaN</td>\n",
       "      <td>14.155523</td>\n",
       "      <td>266.61442</td>\n",
       "      <td>1.125674</td>\n",
       "      <td>5.343856e+06</td>\n",
       "    </tr>\n",
       "  </tbody>\n",
       "</table>\n",
       "</div>"
      ],
      "text/plain": [
       "             item_id     popularity                   release_date  \\\n",
       "count  100000.000000  100000.000000                          99991   \n",
       "mean      425.530130     168.071900  1988-02-09 00:43:11.369223296   \n",
       "min         1.000000       1.000000            1922-01-01 00:00:00   \n",
       "25%       175.000000      71.000000            1986-01-01 00:00:00   \n",
       "50%       322.000000     145.000000            1994-01-01 00:00:00   \n",
       "75%       631.000000     239.000000            1996-09-28 00:00:00   \n",
       "max      1682.000000     583.000000            1998-10-23 00:00:00   \n",
       "std       330.798356     121.784558                            NaN   \n",
       "\n",
       "       video_release_date  release_year       user_id         rating  \\\n",
       "count                 0.0  99991.000000  100000.00000  100000.000000   \n",
       "mean                  NaN   1987.956216     462.48475       3.529860   \n",
       "min                   NaN   1922.000000       1.00000       1.000000   \n",
       "25%                   NaN   1986.000000     254.00000       3.000000   \n",
       "50%                   NaN   1994.000000     447.00000       4.000000   \n",
       "75%                   NaN   1996.000000     682.00000       4.000000   \n",
       "max                   NaN   1998.000000     943.00000       5.000000   \n",
       "std                   NaN     14.155523     266.61442       1.125674   \n",
       "\n",
       "          timestamp  \n",
       "count  1.000000e+05  \n",
       "mean   8.835289e+08  \n",
       "min    8.747247e+08  \n",
       "25%    8.794487e+08  \n",
       "50%    8.828269e+08  \n",
       "75%    8.882600e+08  \n",
       "max    8.932866e+08  \n",
       "std    5.343856e+06  "
      ]
     },
     "execution_count": 12,
     "metadata": {},
     "output_type": "execute_result"
    }
   ],
   "source": [
    "all_ratings = pd.merge(popularity, all_ratings)\n",
    "all_ratings.describe()"
   ]
  },
  {
   "cell_type": "code",
   "execution_count": 13,
   "metadata": {
    "collapsed": false
   },
   "outputs": [],
   "source": [
    "indexed_items = items.set_index('item_id')"
   ]
  },
  {
   "cell_type": "code",
   "execution_count": 14,
   "metadata": {},
   "outputs": [
    {
     "data": {
      "text/html": [
       "<div>\n",
       "<style scoped>\n",
       "    .dataframe tbody tr th:only-of-type {\n",
       "        vertical-align: middle;\n",
       "    }\n",
       "\n",
       "    .dataframe tbody tr th {\n",
       "        vertical-align: top;\n",
       "    }\n",
       "\n",
       "    .dataframe thead th {\n",
       "        text-align: right;\n",
       "    }\n",
       "</style>\n",
       "<table border=\"1\" class=\"dataframe\">\n",
       "  <thead>\n",
       "    <tr style=\"text-align: right;\">\n",
       "      <th></th>\n",
       "      <th>item_id</th>\n",
       "      <th>popularity</th>\n",
       "      <th>title</th>\n",
       "      <th>release_date</th>\n",
       "      <th>video_release_date</th>\n",
       "      <th>imdb_url</th>\n",
       "      <th>release_year</th>\n",
       "      <th>user_id</th>\n",
       "      <th>rating</th>\n",
       "      <th>timestamp</th>\n",
       "    </tr>\n",
       "  </thead>\n",
       "  <tbody>\n",
       "    <tr>\n",
       "      <th>0</th>\n",
       "      <td>1</td>\n",
       "      <td>452</td>\n",
       "      <td>Toy Story (1995)</td>\n",
       "      <td>1995-01-01</td>\n",
       "      <td>NaN</td>\n",
       "      <td>http://us.imdb.com/M/title-exact?Toy%20Story%2...</td>\n",
       "      <td>1995.0</td>\n",
       "      <td>308</td>\n",
       "      <td>4</td>\n",
       "      <td>887736532</td>\n",
       "    </tr>\n",
       "    <tr>\n",
       "      <th>1</th>\n",
       "      <td>1</td>\n",
       "      <td>452</td>\n",
       "      <td>Toy Story (1995)</td>\n",
       "      <td>1995-01-01</td>\n",
       "      <td>NaN</td>\n",
       "      <td>http://us.imdb.com/M/title-exact?Toy%20Story%2...</td>\n",
       "      <td>1995.0</td>\n",
       "      <td>287</td>\n",
       "      <td>5</td>\n",
       "      <td>875334088</td>\n",
       "    </tr>\n",
       "    <tr>\n",
       "      <th>2</th>\n",
       "      <td>1</td>\n",
       "      <td>452</td>\n",
       "      <td>Toy Story (1995)</td>\n",
       "      <td>1995-01-01</td>\n",
       "      <td>NaN</td>\n",
       "      <td>http://us.imdb.com/M/title-exact?Toy%20Story%2...</td>\n",
       "      <td>1995.0</td>\n",
       "      <td>148</td>\n",
       "      <td>4</td>\n",
       "      <td>877019411</td>\n",
       "    </tr>\n",
       "    <tr>\n",
       "      <th>3</th>\n",
       "      <td>1</td>\n",
       "      <td>452</td>\n",
       "      <td>Toy Story (1995)</td>\n",
       "      <td>1995-01-01</td>\n",
       "      <td>NaN</td>\n",
       "      <td>http://us.imdb.com/M/title-exact?Toy%20Story%2...</td>\n",
       "      <td>1995.0</td>\n",
       "      <td>280</td>\n",
       "      <td>4</td>\n",
       "      <td>891700426</td>\n",
       "    </tr>\n",
       "    <tr>\n",
       "      <th>4</th>\n",
       "      <td>1</td>\n",
       "      <td>452</td>\n",
       "      <td>Toy Story (1995)</td>\n",
       "      <td>1995-01-01</td>\n",
       "      <td>NaN</td>\n",
       "      <td>http://us.imdb.com/M/title-exact?Toy%20Story%2...</td>\n",
       "      <td>1995.0</td>\n",
       "      <td>66</td>\n",
       "      <td>3</td>\n",
       "      <td>883601324</td>\n",
       "    </tr>\n",
       "  </tbody>\n",
       "</table>\n",
       "</div>"
      ],
      "text/plain": [
       "   item_id  popularity             title release_date  video_release_date  \\\n",
       "0        1         452  Toy Story (1995)   1995-01-01                 NaN   \n",
       "1        1         452  Toy Story (1995)   1995-01-01                 NaN   \n",
       "2        1         452  Toy Story (1995)   1995-01-01                 NaN   \n",
       "3        1         452  Toy Story (1995)   1995-01-01                 NaN   \n",
       "4        1         452  Toy Story (1995)   1995-01-01                 NaN   \n",
       "\n",
       "                                            imdb_url  release_year  user_id  \\\n",
       "0  http://us.imdb.com/M/title-exact?Toy%20Story%2...        1995.0      308   \n",
       "1  http://us.imdb.com/M/title-exact?Toy%20Story%2...        1995.0      287   \n",
       "2  http://us.imdb.com/M/title-exact?Toy%20Story%2...        1995.0      148   \n",
       "3  http://us.imdb.com/M/title-exact?Toy%20Story%2...        1995.0      280   \n",
       "4  http://us.imdb.com/M/title-exact?Toy%20Story%2...        1995.0       66   \n",
       "\n",
       "   rating  timestamp  \n",
       "0       4  887736532  \n",
       "1       5  875334088  \n",
       "2       4  877019411  \n",
       "3       4  891700426  \n",
       "4       3  883601324  "
      ]
     },
     "execution_count": 14,
     "metadata": {},
     "output_type": "execute_result"
    }
   ],
   "source": [
    "all_ratings.head()"
   ]
  },
  {
   "cell_type": "markdown",
   "metadata": {
    "collapsed": false
   },
   "source": [
    "**Quick Exercise**:\n",
    "\n",
    "As we have seen, the `groupby` method is a powerful tool to quickly compute statistics on the data. Use it to compute the average rating for each movie.\n",
    "\n",
    "**Hint**: you can use the `mean` method after the `groupby` method."
   ]
  },
  {
   "cell_type": "code",
   "execution_count": 15,
   "metadata": {
    "collapsed": false
   },
   "outputs": [
    {
     "data": {
      "text/plain": [
       "title\n",
       "'Til There Was You (1997)                2.333333\n",
       "1-900 (1994)                             2.600000\n",
       "101 Dalmatians (1996)                    2.908257\n",
       "12 Angry Men (1957)                      4.344000\n",
       "187 (1997)                               3.024390\n",
       "                                           ...   \n",
       "Young Guns II (1990)                     2.772727\n",
       "Young Poisoner's Handbook, The (1995)    3.341463\n",
       "Zeus and Roxanne (1997)                  2.166667\n",
       "unknown                                  3.444444\n",
       "Á köldum klaka (Cold Fever) (1994)       3.000000\n",
       "Name: rating, Length: 1664, dtype: float64"
      ]
     },
     "execution_count": 15,
     "metadata": {},
     "output_type": "execute_result"
    }
   ],
   "source": [
    "# Your code here\n",
    "all_ratings.groupby('title')['rating'].mean()"
   ]
  },
  {
   "cell_type": "markdown",
   "metadata": {},
   "source": [
    "Let's split the enriched data in a train / test split to make it possible to do predictive modeling:"
   ]
  },
  {
   "cell_type": "code",
   "execution_count": 16,
   "metadata": {},
   "outputs": [],
   "source": [
    "from sklearn.model_selection import train_test_split\n",
    "\n",
    "ratings_train, ratings_test = train_test_split(\n",
    "    all_ratings, test_size=0.2, random_state=0)\n",
    "\n",
    "user_id_train = np.array(ratings_train['user_id'])\n",
    "item_id_train = np.array(ratings_train['item_id'])\n",
    "rating_train = np.array(ratings_train['rating'])\n",
    "\n",
    "user_id_test = np.array(ratings_test['user_id'])\n",
    "item_id_test = np.array(ratings_test['item_id'])\n",
    "rating_test = np.array(ratings_test['rating'])"
   ]
  },
  {
   "cell_type": "markdown",
   "metadata": {},
   "source": [
    "# Explicit feedback: supervised ratings prediction\n",
    "\n",
    "Now let's begin to do some recommendation! We will build a model that takes a user and a movie as input and outputs a predicted rating. We will be taking advantage of embeddings to represent users and movies. That means that each movie and user will have an abstract representation in a continuous vector space. The model will learn these representations based on the ratings."
   ]
  },
  {
   "cell_type": "markdown",
   "metadata": {},
   "source": [
    "## Predictive ratings  as a regression problem\n",
    "\n",
    "The following code implements the following architecture:\n",
    "\n",
    "<img src=\"https://raw.githubusercontent.com/UofT-DSI/deep_learning/main/notebooks/images/rec_archi_1.svg\" style=\"width: 600px;\" />"
   ]
  },
  {
   "cell_type": "code",
   "execution_count": 17,
   "metadata": {},
   "outputs": [],
   "source": [
    "from keras.layers import Embedding, Flatten, Dense, Dropout\n",
    "from keras.layers import Dot\n",
    "from keras.models import Model"
   ]
  },
  {
   "cell_type": "code",
   "execution_count": 18,
   "metadata": {},
   "outputs": [
    {
     "name": "stderr",
     "output_type": "stream",
     "text": [
      "/opt/miniconda3/envs/dsi_participant/lib/python3.9/site-packages/keras/src/layers/core/embedding.py:90: UserWarning: Argument `input_length` is deprecated. Just remove it.\n",
      "  warnings.warn(\n"
     ]
    }
   ],
   "source": [
    "# For each sample we input the integer identifiers\n",
    "# of a single user and a single item\n",
    "class RegressionModel(Model):\n",
    "    def __init__(self, embedding_size, max_user_id, max_item_id):\n",
    "        super().__init__()\n",
    "        \n",
    "        self.user_embedding = Embedding(output_dim=embedding_size,\n",
    "                                        input_dim=max_user_id + 1,\n",
    "                                        input_length=1,\n",
    "                                        name='user_embedding')\n",
    "        self.item_embedding = Embedding(output_dim=embedding_size,\n",
    "                                        input_dim=max_item_id + 1,\n",
    "                                        input_length=1,\n",
    "                                        name='item_embedding')\n",
    "        \n",
    "        # The following two layers don't have parameters.\n",
    "        self.flatten = Flatten()\n",
    "        self.dot = Dot(axes=1)\n",
    "        \n",
    "    def call(self, inputs):\n",
    "        user_inputs = inputs[0]\n",
    "        item_inputs = inputs[1]\n",
    "        \n",
    "        user_vecs = self.flatten(self.user_embedding(user_inputs))\n",
    "        item_vecs = self.flatten(self.item_embedding(item_inputs))\n",
    "        \n",
    "        y = self.dot([user_vecs, item_vecs])\n",
    "        return y\n",
    "\n",
    "\n",
    "model = RegressionModel(embedding_size=64, max_user_id=all_ratings['user_id'].max(), max_item_id=all_ratings['item_id'].max())\n",
    "model.compile(optimizer=\"adam\", loss='mae')"
   ]
  },
  {
   "cell_type": "markdown",
   "metadata": {},
   "source": [
    "### Monitoring runs\n",
    "\n",
    "When training a model with Keras, we get a `history` object back that contains lots of information about the training run. We can use this to plot the training and validation loss to see how the model has improved during training."
   ]
  },
  {
   "cell_type": "code",
   "execution_count": 19,
   "metadata": {},
   "outputs": [
    {
     "name": "stdout",
     "output_type": "stream",
     "text": [
      "Epoch 1/10\n"
     ]
    },
    {
     "name": "stdout",
     "output_type": "stream",
     "text": [
      "\u001b[1m1125/1125\u001b[0m \u001b[32m━━━━━━━━━━━━━━━━━━━━\u001b[0m\u001b[37m\u001b[0m \u001b[1m2s\u001b[0m 1ms/step - loss: 3.2934 - val_loss: 1.0411\n",
      "Epoch 2/10\n",
      "\u001b[1m1125/1125\u001b[0m \u001b[32m━━━━━━━━━━━━━━━━━━━━\u001b[0m\u001b[37m\u001b[0m \u001b[1m1s\u001b[0m 1ms/step - loss: 0.9012 - val_loss: 0.7894\n",
      "Epoch 3/10\n",
      "\u001b[1m1125/1125\u001b[0m \u001b[32m━━━━━━━━━━━━━━━━━━━━\u001b[0m\u001b[37m\u001b[0m \u001b[1m1s\u001b[0m 1ms/step - loss: 0.7511 - val_loss: 0.7652\n",
      "Epoch 4/10\n",
      "\u001b[1m1125/1125\u001b[0m \u001b[32m━━━━━━━━━━━━━━━━━━━━\u001b[0m\u001b[37m\u001b[0m \u001b[1m1s\u001b[0m 1ms/step - loss: 0.7236 - val_loss: 0.7518\n",
      "Epoch 5/10\n",
      "\u001b[1m1125/1125\u001b[0m \u001b[32m━━━━━━━━━━━━━━━━━━━━\u001b[0m\u001b[37m\u001b[0m \u001b[1m1s\u001b[0m 1ms/step - loss: 0.7036 - val_loss: 0.7439\n",
      "Epoch 6/10\n",
      "\u001b[1m1125/1125\u001b[0m \u001b[32m━━━━━━━━━━━━━━━━━━━━\u001b[0m\u001b[37m\u001b[0m \u001b[1m1s\u001b[0m 1ms/step - loss: 0.6776 - val_loss: 0.7414\n",
      "Epoch 7/10\n",
      "\u001b[1m1125/1125\u001b[0m \u001b[32m━━━━━━━━━━━━━━━━━━━━\u001b[0m\u001b[37m\u001b[0m \u001b[1m1s\u001b[0m 1ms/step - loss: 0.6594 - val_loss: 0.7418\n",
      "Epoch 8/10\n",
      "\u001b[1m1125/1125\u001b[0m \u001b[32m━━━━━━━━━━━━━━━━━━━━\u001b[0m\u001b[37m\u001b[0m \u001b[1m1s\u001b[0m 1ms/step - loss: 0.6391 - val_loss: 0.7417\n",
      "Epoch 9/10\n",
      "\u001b[1m1125/1125\u001b[0m \u001b[32m━━━━━━━━━━━━━━━━━━━━\u001b[0m\u001b[37m\u001b[0m \u001b[1m1s\u001b[0m 1ms/step - loss: 0.6179 - val_loss: 0.7368\n",
      "Epoch 10/10\n",
      "\u001b[1m1125/1125\u001b[0m \u001b[32m━━━━━━━━━━━━━━━━━━━━\u001b[0m\u001b[37m\u001b[0m \u001b[1m1s\u001b[0m 1ms/step - loss: 0.5899 - val_loss: 0.7378\n",
      "CPU times: user 16.1 s, sys: 5.77 s, total: 21.8 s\n",
      "Wall time: 13.4 s\n"
     ]
    }
   ],
   "source": [
    "%%time\n",
    "\n",
    "# Training the model\n",
    "history = model.fit([user_id_train, item_id_train], rating_train,\n",
    "                    batch_size=64, epochs=10, validation_split=0.1,\n",
    "                    shuffle=True)"
   ]
  },
  {
   "cell_type": "code",
   "execution_count": 20,
   "metadata": {},
   "outputs": [
    {
     "data": {
      "image/png": "[encoded data removed]",
      "text/plain": [
       "<Figure size 640x480 with 1 Axes>"
      ]
     },
     "metadata": {},
     "output_type": "display_data"
    }
   ],
   "source": [
    "plt.plot(history.history['loss'], label='train')\n",
    "plt.plot(history.history['val_loss'], label='validation')\n",
    "plt.ylim(0, 2)\n",
    "plt.legend(loc='best')\n",
    "plt.title('Loss');"
   ]
  },
  {
   "cell_type": "markdown",
   "metadata": {},
   "source": [
    "**Questions**:\n",
    "\n",
    "- Does it look like our model has overfit? Why or why not?\n",
    "    - Answer: No, because the loss metric trends down (or almost stays stable for the validation dataset).\n",
    "- Suggest something we could do to prevent overfitting.\n",
    "    - Answer: by regularization, we can add a penalty metric to the loss function.\n",
    "\n",
    "Now that the model is trained, let's check out the quality of predictions:"
   ]
  },
  {
   "cell_type": "code",
   "execution_count": 21,
   "metadata": {},
   "outputs": [],
   "source": [
    "def plot_predictions(y_true, y_pred):\n",
    "    plt.figure(figsize=(4, 4))\n",
    "    plt.xlim(-1, 6)\n",
    "    plt.xlabel(\"True rating\")\n",
    "    plt.ylim(-1, 6)\n",
    "    plt.ylabel(\"Predicted rating\")\n",
    "    plt.scatter(y_true, y_pred, s=60, alpha=0.01)"
   ]
  },
  {
   "cell_type": "code",
   "execution_count": 22,
   "metadata": {},
   "outputs": [
    {
     "name": "stdout",
     "output_type": "stream",
     "text": [
      "\u001b[1m625/625\u001b[0m \u001b[32m━━━━━━━━━━━━━━━━━━━━\u001b[0m\u001b[37m\u001b[0m \u001b[1m0s\u001b[0m 379us/step\n",
      "Final test MSE: 0.897\n",
      "Final test MAE: 0.730\n"
     ]
    },
    {
     "data": {
      "image/png": "[encoded data removed]",
      "text/plain": [
       "<Figure size 400x400 with 1 Axes>"
      ]
     },
     "metadata": {},
     "output_type": "display_data"
    }
   ],
   "source": [
    "from sklearn.metrics import mean_squared_error\n",
    "from sklearn.metrics import mean_absolute_error\n",
    "\n",
    "test_preds = model.predict([user_id_test, item_id_test])\n",
    "print(\"Final test MSE: %0.3f\" % mean_squared_error(test_preds, rating_test))\n",
    "print(\"Final test MAE: %0.3f\" % mean_absolute_error(test_preds, rating_test))\n",
    "plot_predictions(rating_test, test_preds)"
   ]
  },
  {
   "cell_type": "markdown",
   "metadata": {
    "collapsed": false
   },
   "source": [
    "This graph shows us the range of predicted ratings our model gives, organized by the true rating. We can see that generally, the higher the true rating the higher the predicted rating, although there is quite a range of predictions for each instance. That's okay - our model is very simple, and human preferences are very complex!\n",
    "\n",
    "Taking a look at the Mean Absolute Error, hopefully you got something around 0.75. This means that, on average, our predicted ratings are about 0.75 stars off from the true ratings. This is a pretty good result for a first attempt. We could probably do better with a more complex model, but we'll leave that for another time."
   ]
  },
  {
   "cell_type": "markdown",
   "metadata": {},
   "source": [
    "### Model Embeddings\n",
    "\n",
    "Our model was built with two embedding layers. These layers have learned a representation of both the users and the movies in our dataset. We can extract these representations and use them to find similar movies or users. We can also do interesting exploratory analysis, like finding the most popular movies among our users, or finding the users that are most interested in a given movie."
   ]
  },
  {
   "cell_type": "code",
   "execution_count": 23,
   "metadata": {},
   "outputs": [
    {
     "data": {
      "text/plain": [
       "[(944, 64), (1683, 64)]"
      ]
     },
     "execution_count": 23,
     "metadata": {},
     "output_type": "execute_result"
    }
   ],
   "source": [
    "# weights and shape\n",
    "weights = model.get_weights()\n",
    "[w.shape for w in weights]"
   ]
  },
  {
   "cell_type": "code",
   "execution_count": 24,
   "metadata": {},
   "outputs": [],
   "source": [
    "user_embeddings = weights[0]\n",
    "item_embeddings = weights[1]"
   ]
  },
  {
   "cell_type": "code",
   "execution_count": 25,
   "metadata": {},
   "outputs": [
    {
     "name": "stdout",
     "output_type": "stream",
     "text": [
      "Title for item_id=181: Return of the Jedi (1983)\n"
     ]
    }
   ],
   "source": [
    "item_id = 181\n",
    "print(f\"Title for item_id={item_id}: {indexed_items['title'][item_id]}\")"
   ]
  },
  {
   "cell_type": "code",
   "execution_count": 26,
   "metadata": {},
   "outputs": [
    {
     "name": "stdout",
     "output_type": "stream",
     "text": [
      "Embedding vector for item_id=181\n",
      "[ 3.46613079e-01 -2.95355678e-01 -3.65835190e-01 -4.90888506e-01\n",
      "  3.90715241e-01 -3.82123411e-01 -3.74799311e-01  3.02246898e-01\n",
      "  8.17680508e-02 -5.84138036e-01 -3.83523822e-01  1.14289366e-01\n",
      " -3.69457364e-01  3.71601224e-01 -6.29899859e-01  3.92822295e-01\n",
      " -3.08151364e-01 -3.72452021e-01 -4.15455490e-01  2.60343198e-02\n",
      "  1.68727130e-01 -4.94812667e-01  4.28486556e-01 -1.95879102e-01\n",
      " -2.89724439e-01 -6.33145794e-02 -3.48967403e-01  1.36395708e-01\n",
      " -8.98565054e-02  3.73055845e-01 -4.49990124e-01  6.15873225e-02\n",
      "  1.05361611e-01  1.48293585e-01 -3.63159120e-01 -6.71666639e-05\n",
      " -1.12198427e-01 -4.84552383e-01 -3.89234871e-01 -1.18349083e-01\n",
      "  4.89961177e-01  3.81716907e-01 -4.45993572e-01  2.02854648e-01\n",
      " -3.59234631e-01  3.63210082e-01 -4.70324785e-01 -3.66954774e-01\n",
      "  1.84471592e-01 -1.80179194e-01  2.23937631e-01  3.78969222e-01\n",
      " -5.00278547e-02 -3.14449482e-02 -4.01984572e-01  4.93452162e-01\n",
      "  2.62022287e-01  3.49054337e-01  1.66387692e-01  8.70901048e-02\n",
      "  1.55991659e-01  3.95271212e-01  3.16216260e-01  4.58835065e-01]\n",
      "shape: (64,)\n"
     ]
    }
   ],
   "source": [
    "print(f\"Embedding vector for item_id={item_id}\")\n",
    "print(item_embeddings[item_id])\n",
    "print(\"shape:\", item_embeddings[item_id].shape)"
   ]
  },
  {
   "cell_type": "markdown",
   "metadata": {
    "collapsed": false
   },
   "source": [
    "As we discussed in lecture, our embeddings are not directly interpretable - we can't look at, say, a value of 0.297 in the embedding vector and say \"this means that the movie is a drama\". As an aside, there is a field of research dedicated to making _interpretable_ embeddings, but it's not something we'll cover in this course. "
   ]
  },
  {
   "cell_type": "markdown",
   "metadata": {},
   "source": [
    "### Finding our most similar items\n",
    "\n",
    "Now we can have some fun, investigating the embeddings we've learned. We can start by finding the most similar items to a given item. We can do this by computing the cosine similarity between the item's embedding and the embedding of every other item. We can use the `cosine_similarity` function from `sklearn` to do this."
   ]
  },
  {
   "cell_type": "code",
   "execution_count": 27,
   "metadata": {
    "collapsed": false
   },
   "outputs": [],
   "source": [
    "from sklearn.metrics.pairwise import cosine_similarity\n",
    "\n",
    "def cosine(a, b):\n",
    "    # Reshape to the shape our function expects\n",
    "    a = a.reshape(1, -1)\n",
    "    b = b.reshape(1, -1)\n",
    "    return cosine_similarity(a, b)[0, 0]"
   ]
  },
  {
   "cell_type": "code",
   "execution_count": 28,
   "metadata": {},
   "outputs": [
    {
     "name": "stdout",
     "output_type": "stream",
     "text": [
      "Star Wars (1977)\n",
      "Return of the Jedi (1983)\n",
      "Cosine similarity: 0.907\n"
     ]
    }
   ],
   "source": [
    "def print_similarity(item_a, item_b, item_embeddings, titles):\n",
    "    print(titles[item_a])\n",
    "    print(titles[item_b])\n",
    "    similarity = cosine(item_embeddings[item_a],\n",
    "                        item_embeddings[item_b])\n",
    "    print(f\"Cosine similarity: {similarity:.3}\")\n",
    "    \n",
    "print_similarity(50, 181, item_embeddings, indexed_items[\"title\"])"
   ]
  },
  {
   "cell_type": "markdown",
   "metadata": {
    "collapsed": false
   },
   "source": [
    "It makes sense that the original Star Wars, and its later sequel Return of the Jedi have a high similarity. Let's try some other examples:"
   ]
  },
  {
   "cell_type": "code",
   "execution_count": 29,
   "metadata": {},
   "outputs": [
    {
     "name": "stdout",
     "output_type": "stream",
     "text": [
      "Return of the Jedi (1983)\n",
      "Scream (1996)\n",
      "Cosine similarity: 0.744\n"
     ]
    }
   ],
   "source": [
    "print_similarity(181, 288, item_embeddings, indexed_items[\"title\"])"
   ]
  },
  {
   "cell_type": "code",
   "execution_count": 30,
   "metadata": {},
   "outputs": [
    {
     "name": "stdout",
     "output_type": "stream",
     "text": [
      "Return of the Jedi (1983)\n",
      "Toy Story (1995)\n",
      "Cosine similarity: 0.776\n"
     ]
    }
   ],
   "source": [
    "print_similarity(181, 1, item_embeddings, indexed_items[\"title\"])"
   ]
  },
  {
   "cell_type": "code",
   "execution_count": 31,
   "metadata": {},
   "outputs": [
    {
     "name": "stdout",
     "output_type": "stream",
     "text": [
      "Return of the Jedi (1983)\n",
      "Return of the Jedi (1983)\n",
      "Cosine similarity: 1.0\n"
     ]
    }
   ],
   "source": [
    "print_similarity(181, 181, item_embeddings, indexed_items[\"title\"])"
   ]
  },
  {
   "cell_type": "markdown",
   "metadata": {
    "collapsed": false
   },
   "source": [
    "*Quick Exercise*:\n",
    "\n",
    "- Find some other films and compare their similarity. Do the results make sense to you? Can you find a pair of films that are very _dissimilar_?"
   ]
  },
  {
   "cell_type": "code",
   "execution_count": 32,
   "metadata": {
    "collapsed": false
   },
   "outputs": [
    {
     "name": "stdout",
     "output_type": "stream",
     "text": [
      "Four Weddings and a Funeral (1994)\n",
      "Star Wars (1977)\n",
      "Cosine similarity: 0.754\n"
     ]
    }
   ],
   "source": [
    "# Code to help you search for a movie title\n",
    "partial_title = \"Four\"\n",
    "indexed_items[indexed_items['title'].str.contains(partial_title)]\n",
    "\n",
    "# Your code here\n",
    "print_similarity(70, 50, item_embeddings, indexed_items[\"title\"])"
   ]
  },
  {
   "cell_type": "markdown",
   "metadata": {
    "collapsed": false
   },
   "source": [
    "Sometimes, even without knowing anything about a user, we can recommend films by asking them about a film that they do like. The code below compares the similarity of a given film to all others, and returns the most similar films."
   ]
  },
  {
   "cell_type": "code",
   "execution_count": 33,
   "metadata": {},
   "outputs": [
    {
     "data": {
      "text/plain": [
       "[(50, 'Star Wars (1977)', 0.99999994),\n",
       " (172, 'Empire Strikes Back, The (1980)', 0.9345182),\n",
       " (181, 'Return of the Jedi (1983)', 0.9073977),\n",
       " (174, 'Raiders of the Lost Ark (1981)', 0.8938374),\n",
       " (12, 'Usual Suspects, The (1995)', 0.8805398),\n",
       " (96, 'Terminator 2: Judgment Day (1991)', 0.8741681),\n",
       " (7, 'Twelve Monkeys (1995)', 0.8576049),\n",
       " (144, 'Die Hard (1988)', 0.8542192),\n",
       " (135, '2001: A Space Odyssey (1968)', 0.85380703),\n",
       " (129, 'Bound (1996)', 0.8509917)]"
      ]
     },
     "execution_count": 33,
     "metadata": {},
     "output_type": "execute_result"
    }
   ],
   "source": [
    "def most_similar(item_id, item_embeddings, titles,\n",
    "                 top_n=30):\n",
    "    # Compute the cosine similarity between the item and all other items\n",
    "    sims = cosine_similarity(item_embeddings[item_id].reshape(1, -1),\n",
    "                             item_embeddings).ravel()\n",
    "    \n",
    "    # [::-1] makes it possible to reverse the order of a numpy\n",
    "    # array, this is required because most similar items have\n",
    "    # a larger cosine similarity value\n",
    "    sorted_indexes = np.argsort(sims)[::-1]\n",
    "    idxs = sorted_indexes[0:top_n]\n",
    "    return list(zip(idxs, titles[idxs], sims[idxs]))\n",
    "\n",
    "# Find the most similar films to \"Star Wars\"\n",
    "most_similar(50, item_embeddings, indexed_items[\"title\"], top_n=10)"
   ]
  },
  {
   "cell_type": "code",
   "execution_count": 35,
   "metadata": {},
   "outputs": [
    {
     "data": {
      "text/plain": [
       "[(227, 'Star Trek VI: The Undiscovered Country (1991)', 0.99999994),\n",
       " (228, 'Star Trek: The Wrath of Khan (1982)', 0.90275437),\n",
       " (51, 'Legends of the Fall (1994)', 0.8708115),\n",
       " (710, 'Better Off Dead... (1985)', 0.8692735),\n",
       " (95, 'Aladdin (1992)', 0.8562076),\n",
       " (230, 'Star Trek IV: The Voyage Home (1986)', 0.85157096),\n",
       " (94, 'Home Alone (1990)', 0.8474941),\n",
       " (257, 'Men in Black (1997)', 0.8459444),\n",
       " (590, 'Hellraiser: Bloodline (1996)', 0.8458967),\n",
       " (755, 'Jumanji (1995)', 0.8435749)]"
      ]
     },
     "execution_count": 35,
     "metadata": {},
     "output_type": "execute_result"
    }
   ],
   "source": [
    "# Find the most similar films to \"Star Trek VI: The Undiscovered Country\"\n",
    "most_similar(227, item_embeddings, indexed_items[\"title\"], top_n=10)"
   ]
  },
  {
   "cell_type": "markdown",
   "metadata": {},
   "source": [
    "The similarities do not always make sense: the number of ratings is low and the embedding  does not automatically capture semantic relationships in that context. Better representations arise with higher number of ratings, and less overfitting  in models or maybe better loss function, such as those based on implicit feedback."
   ]
  },
  {
   "cell_type": "markdown",
   "metadata": {},
   "source": [
    "### Visualizing embeddings using TSNE\n",
    "\n",
    "The [t-SNE](https://en.wikipedia.org/wiki/T-distributed_stochastic_neighbor_embedding) algorithm enables us to visualize high dimensional vectors in a 2D space by preserving local neighborhoods. We can use it to get a 2D visualization of the item embeddings and see if similar items are close in the embedding space."
   ]
  },
  {
   "cell_type": "code",
   "execution_count": 39,
   "metadata": {},
   "outputs": [],
   "source": [
    "from sklearn.manifold import TSNE\n",
    "\n",
    "item_tsne = TSNE(learning_rate=\"auto\", init=\"pca\", perplexity=30).fit_transform(item_embeddings)"
   ]
  },
  {
   "cell_type": "code",
   "execution_count": 43,
   "metadata": {},
   "outputs": [
    {
     "data": {
      "image/png": "[encoded data removed]",
      "text/plain": [
       "<Figure size 1000x1000 with 1 Axes>"
      ]
     },
     "metadata": {},
     "output_type": "display_data"
    }
   ],
   "source": [
    "import matplotlib.pyplot as plt\n",
    "\n",
    "plt.figure(figsize=(10, 10))\n",
    "plt.scatter(item_tsne[:, 0], item_tsne[:, 1]);\n",
    "plt.xticks(()); plt.yticks(());\n",
    "plt.show()"
   ]
  },
  {
   "cell_type": "code",
   "execution_count": 49,
   "metadata": {
    "tags": []
   },
   "outputs": [
    {
     "data": {
      "application/vnd.plotly.v1+json": {
       "config": {
        "plotlyServerURL": "https://plot.ly"
       },
       "data": [
        {
         "customdata": [
          [
           1,
           "Toy Story (1995)",
           452
          ],
          [
           2,
           "GoldenEye (1995)",
           131
          ],
          [
           3,
           "Four Rooms (1995)",
           90
          ],
          [
           4,
           "Get Shorty (1995)",
           209
          ],
          [
           5,
           "Copycat (1995)",
           86
          ],
          [
           6,
           "Shanghai Triad (Yao a yao yao dao waipo qiao) (1995)",
           26
          ],
          [
           7,
           "Twelve Monkeys (1995)",
           392
          ],
          [
           8,
           "Babe (1995)",
           219
          ],
          [
           9,
           "Dead Man Walking (1995)",
           299
          ],
          [
           10,
           "Richard III (1995)",
           89
          ],
          [
           11,
           "Seven (Se7en) (1995)",
           236
          ],
          [
           12,
           "Usual Suspects, The (1995)",
           267
          ],
          [
           13,
           "Mighty Aphrodite (1995)",
           184
          ],
          [
           14,
           "Postino, Il (1994)",
           183
          ],
          [
           15,
           "Mr. Holland's Opus (1995)",
           293
          ],
          [
           16,
           "French Twist (Gazon maudit) (1995)",
           39
          ],
          [
           17,
           "From Dusk Till Dawn (1996)",
           92
          ],
          [
           18,
           "White Balloon, The (1995)",
           10
          ],
          [
           19,
           "Antonia's Line (1995)",
           69
          ],
          [
           20,
           "Angels and Insects (1995)",
           72
          ],
          [
           21,
           "Muppet Treasure Island (1996)",
           84
          ],
          [
           22,
           "Braveheart (1995)",
           297
          ],
          [
           23,
           "Taxi Driver (1976)",
           182
          ],
          [
           24,
           "Rumble in the Bronx (1995)",
           174
          ],
          [
           25,
           "Birdcage, The (1996)",
           293
          ],
          [
           26,
           "Brothers McMullen, The (1995)",
           73
          ],
          [
           27,
           "Bad Boys (1995)",
           57
          ],
          [
           28,
           "Apollo 13 (1995)",
           276
          ],
          [
           29,
           "Batman Forever (1995)",
           114
          ],
          [
           30,
           "Belle de jour (1967)",
           37
          ],
          [
           31,
           "Crimson Tide (1995)",
           154
          ],
          [
           32,
           "Crumb (1994)",
           81
          ],
          [
           33,
           "Desperado (1995)",
           97
          ],
          [
           34,
           "Doom Generation, The (1995)",
           7
          ],
          [
           35,
           "Free Willy 2: The Adventure Home (1995)",
           11
          ],
          [
           36,
           "Mad Love (1995)",
           13
          ],
          [
           37,
           "Nadja (1994)",
           8
          ],
          [
           38,
           "Net, The (1995)",
           120
          ],
          [
           39,
           "Strange Days (1995)",
           87
          ],
          [
           40,
           "To Wong Foo, Thanks for Everything! Julie Newmar (1995)",
           57
          ],
          [
           41,
           "Billy Madison (1995)",
           37
          ],
          [
           42,
           "Clerks (1994)",
           148
          ],
          [
           43,
           "Disclosure (1994)",
           40
          ],
          [
           44,
           "Dolores Claiborne (1994)",
           79
          ],
          [
           45,
           "Eat Drink Man Woman (1994)",
           80
          ],
          [
           46,
           "Exotica (1994)",
           27
          ],
          [
           47,
           "Ed Wood (1994)",
           133
          ],
          [
           48,
           "Hoop Dreams (1994)",
           117
          ],
          [
           49,
           "I.Q. (1994)",
           81
          ],
          [
           50,
           "Star Wars (1977)",
           583
          ],
          [
           51,
           "Legends of the Fall (1994)",
           81
          ],
          [
           52,
           "Madness of King George, The (1994)",
           91
          ],
          [
           53,
           "Natural Born Killers (1994)",
           128
          ],
          [
           54,
           "Outbreak (1995)",
           104
          ],
          [
           55,
           "Professional, The (1994)",
           149
          ],
          [
           56,
           "Pulp Fiction (1994)",
           394
          ],
          [
           57,
           "Priest (1994)",
           40
          ],
          [
           58,
           "Quiz Show (1994)",
           175
          ],
          [
           59,
           "Three Colors: Red (1994)",
           83
          ],
          [
           60,
           "Three Colors: Blue (1993)",
           64
          ],
          [
           61,
           "Three Colors: White (1994)",
           59
          ],
          [
           62,
           "Stargate (1994)",
           127
          ],
          [
           63,
           "Santa Clause, The (1994)",
           82
          ],
          [
           64,
           "Shawshank Redemption, The (1994)",
           283
          ],
          [
           65,
           "What's Eating Gilbert Grape (1993)",
           115
          ],
          [
           66,
           "While You Were Sleeping (1995)",
           162
          ],
          [
           67,
           "Ace Ventura: Pet Detective (1994)",
           103
          ],
          [
           68,
           "Crow, The (1994)",
           134
          ],
          [
           69,
           "Forrest Gump (1994)",
           321
          ],
          [
           70,
           "Four Weddings and a Funeral (1994)",
           251
          ],
          [
           71,
           "Lion King, The (1994)",
           220
          ],
          [
           72,
           "Mask, The (1994)",
           129
          ],
          [
           73,
           "Maverick (1994)",
           128
          ],
          [
           74,
           "Faster Pussycat! Kill! Kill! (1965)",
           7
          ],
          [
           75,
           "Brother Minister: The Assassination of Malcolm X (1994)",
           5
          ],
          [
           76,
           "Carlito's Way (1993)",
           54
          ],
          [
           77,
           "Firm, The (1993)",
           151
          ],
          [
           78,
           "Free Willy (1993)",
           33
          ],
          [
           79,
           "Fugitive, The (1993)",
           336
          ],
          [
           80,
           "Hot Shots! Part Deux (1993)",
           68
          ],
          [
           81,
           "Hudsucker Proxy, The (1994)",
           110
          ],
          [
           82,
           "Jurassic Park (1993)",
           261
          ],
          [
           83,
           "Much Ado About Nothing (1993)",
           176
          ],
          [
           84,
           "Robert A. Heinlein's The Puppet Masters (1994)",
           18
          ],
          [
           85,
           "Ref, The (1994)",
           58
          ],
          [
           86,
           "Remains of the Day, The (1993)",
           150
          ],
          [
           87,
           "Searching for Bobby Fischer (1993)",
           138
          ],
          [
           88,
           "Sleepless in Seattle (1993)",
           213
          ],
          [
           89,
           "Blade Runner (1982)",
           275
          ],
          [
           90,
           "So I Married an Axe Murderer (1993)",
           95
          ],
          [
           91,
           "Nightmare Before Christmas, The (1993)",
           143
          ],
          [
           92,
           "True Romance (1993)",
           104
          ],
          [
           93,
           "Welcome to the Dollhouse (1995)",
           112
          ],
          [
           94,
           "Home Alone (1990)",
           137
          ],
          [
           95,
           "Aladdin (1992)",
           219
          ],
          [
           96,
           "Terminator 2: Judgment Day (1991)",
           295
          ],
          [
           97,
           "Dances with Wolves (1990)",
           256
          ],
          [
           98,
           "Silence of the Lambs, The (1991)",
           390
          ],
          [
           99,
           "Snow White and the Seven Dwarfs (1937)",
           172
          ],
          [
           100,
           "Fargo (1996)",
           508
          ],
          [
           101,
           "Heavy Metal (1981)",
           73
          ],
          [
           102,
           "Aristocats, The (1970)",
           54
          ],
          [
           103,
           "All Dogs Go to Heaven 2 (1996)",
           15
          ],
          [
           104,
           "Theodore Rex (1995)",
           5
          ],
          [
           105,
           "Sgt. Bilko (1996)",
           74
          ],
          [
           106,
           "Diabolique (1996)",
           71
          ],
          [
           107,
           "Moll Flanders (1996)",
           42
          ],
          [
           108,
           "Kids in the Hall: Brain Candy (1996)",
           65
          ],
          [
           109,
           "Mystery Science Theater 3000: The Movie (1996)",
           130
          ],
          [
           110,
           "Operation Dumbo Drop (1995)",
           31
          ],
          [
           111,
           "Truth About Cats & Dogs, The (1996)",
           272
          ],
          [
           112,
           "Flipper (1996)",
           20
          ],
          [
           113,
           "Horseman on the Roof, The (Hussard sur le toit, Le) (1995)",
           9
          ],
          [
           114,
           "Wallace & Gromit: The Best of Aardman Animation (1996)",
           67
          ],
          [
           115,
           "Haunted World of Edward D. Wood Jr., The (1995)",
           15
          ],
          [
           116,
           "Cold Comfort Farm (1995)",
           125
          ],
          [
           117,
           "Rock, The (1996)",
           378
          ],
          [
           118,
           "Twister (1996)",
           293
          ],
          [
           119,
           "Maya Lin: A Strong Clear Vision (1994)",
           4
          ],
          [
           120,
           "Striptease (1996)",
           67
          ],
          [
           121,
           "Independence Day (ID4) (1996)",
           429
          ],
          [
           122,
           "Cable Guy, The (1996)",
           106
          ],
          [
           123,
           "Frighteners, The (1996)",
           115
          ],
          [
           124,
           "Lone Star (1996)",
           187
          ],
          [
           125,
           "Phenomenon (1996)",
           244
          ],
          [
           126,
           "Spitfire Grill, The (1996)",
           97
          ],
          [
           127,
           "Godfather, The (1972)",
           413
          ],
          [
           128,
           "Supercop (1992)",
           65
          ],
          [
           129,
           "Bound (1996)",
           129
          ],
          [
           130,
           "Kansas City (1996)",
           23
          ],
          [
           131,
           "Breakfast at Tiffany's (1961)",
           95
          ],
          [
           132,
           "Wizard of Oz, The (1939)",
           246
          ],
          [
           133,
           "Gone with the Wind (1939)",
           171
          ],
          [
           134,
           "Citizen Kane (1941)",
           198
          ],
          [
           135,
           "2001: A Space Odyssey (1968)",
           259
          ],
          [
           136,
           "Mr. Smith Goes to Washington (1939)",
           105
          ],
          [
           137,
           "Big Night (1996)",
           171
          ],
          [
           138,
           "D3: The Mighty Ducks (1996)",
           19
          ],
          [
           139,
           "Love Bug, The (1969)",
           50
          ],
          [
           140,
           "Homeward Bound: The Incredible Journey (1993)",
           61
          ],
          [
           141,
           "20,000 Leagues Under the Sea (1954)",
           72
          ],
          [
           142,
           "Bedknobs and Broomsticks (1971)",
           57
          ],
          [
           143,
           "Sound of Music, The (1965)",
           222
          ],
          [
           144,
           "Die Hard (1988)",
           243
          ],
          [
           145,
           "Lawnmower Man, The (1992)",
           65
          ],
          [
           146,
           "Unhook the Stars (1996)",
           10
          ],
          [
           147,
           "Long Kiss Goodnight, The (1996)",
           185
          ],
          [
           148,
           "Ghost and the Darkness, The (1996)",
           128
          ],
          [
           149,
           "Jude (1996)",
           23
          ],
          [
           150,
           "Swingers (1996)",
           157
          ],
          [
           151,
           "Willy Wonka and the Chocolate Factory (1971)",
           326
          ],
          [
           152,
           "Sleeper (1973)",
           82
          ],
          [
           153,
           "Fish Called Wanda, A (1988)",
           247
          ],
          [
           154,
           "Monty Python's Life of Brian (1979)",
           174
          ],
          [
           155,
           "Dirty Dancing (1987)",
           98
          ],
          [
           156,
           "Reservoir Dogs (1992)",
           148
          ],
          [
           157,
           "Platoon (1986)",
           127
          ],
          [
           158,
           "Weekend at Bernie's (1989)",
           60
          ],
          [
           159,
           "Basic Instinct (1992)",
           101
          ],
          [
           160,
           "Glengarry Glen Ross (1992)",
           69
          ],
          [
           161,
           "Top Gun (1986)",
           220
          ],
          [
           162,
           "On Golden Pond (1981)",
           106
          ],
          [
           163,
           "Return of the Pink Panther, The (1974)",
           92
          ],
          [
           164,
           "Abyss, The (1989)",
           151
          ],
          [
           165,
           "Jean de Florette (1986)",
           64
          ],
          [
           166,
           "Manon of the Spring (Manon des sources) (1986)",
           58
          ],
          [
           167,
           "Private Benjamin (1980)",
           67
          ],
          [
           168,
           "Monty Python and the Holy Grail (1974)",
           316
          ],
          [
           169,
           "Wrong Trousers, The (1993)",
           118
          ],
          [
           170,
           "Cinema Paradiso (1988)",
           121
          ],
          [
           171,
           "Delicatessen (1991)",
           65
          ],
          [
           172,
           "Empire Strikes Back, The (1980)",
           367
          ],
          [
           173,
           "Princess Bride, The (1987)",
           324
          ],
          [
           174,
           "Raiders of the Lost Ark (1981)",
           420
          ],
          [
           175,
           "Brazil (1985)",
           208
          ],
          [
           176,
           "Aliens (1986)",
           284
          ],
          [
           177,
           "Good, The Bad and The Ugly, The (1966)",
           137
          ],
          [
           178,
           "12 Angry Men (1957)",
           125
          ],
          [
           179,
           "Clockwork Orange, A (1971)",
           221
          ],
          [
           180,
           "Apocalypse Now (1979)",
           221
          ],
          [
           181,
           "Return of the Jedi (1983)",
           507
          ],
          [
           182,
           "GoodFellas (1990)",
           226
          ],
          [
           183,
           "Alien (1979)",
           291
          ],
          [
           184,
           "Army of Darkness (1993)",
           116
          ],
          [
           185,
           "Psycho (1960)",
           239
          ],
          [
           186,
           "Blues Brothers, The (1980)",
           251
          ],
          [
           187,
           "Godfather: Part II, The (1974)",
           209
          ],
          [
           188,
           "Full Metal Jacket (1987)",
           170
          ],
          [
           189,
           "Grand Day Out, A (1992)",
           66
          ],
          [
           190,
           "Henry V (1989)",
           124
          ],
          [
           191,
           "Amadeus (1984)",
           276
          ],
          [
           192,
           "Raging Bull (1980)",
           116
          ],
          [
           193,
           "Right Stuff, The (1983)",
           157
          ],
          [
           194,
           "Sting, The (1973)",
           241
          ],
          [
           195,
           "Terminator, The (1984)",
           301
          ],
          [
           196,
           "Dead Poets Society (1989)",
           251
          ],
          [
           197,
           "Graduate, The (1967)",
           239
          ],
          [
           198,
           "Nikita (La Femme Nikita) (1990)",
           127
          ],
          [
           199,
           "Bridge on the River Kwai, The (1957)",
           165
          ],
          [
           200,
           "Shining, The (1980)",
           206
          ],
          [
           201,
           "Evil Dead II (1987)",
           89
          ],
          [
           202,
           "Groundhog Day (1993)",
           280
          ],
          [
           203,
           "Unforgiven (1992)",
           182
          ],
          [
           204,
           "Back to the Future (1985)",
           350
          ],
          [
           205,
           "Patton (1970)",
           136
          ],
          [
           206,
           "Akira (1988)",
           50
          ],
          [
           207,
           "Cyrano de Bergerac (1990)",
           66
          ],
          [
           208,
           "Young Frankenstein (1974)",
           200
          ],
          [
           209,
           "This Is Spinal Tap (1984)",
           191
          ],
          [
           210,
           "Indiana Jones and the Last Crusade (1989)",
           331
          ],
          [
           211,
           "M*A*S*H (1970)",
           206
          ],
          [
           212,
           "Unbearable Lightness of Being, The (1988)",
           92
          ],
          [
           213,
           "Room with a View, A (1986)",
           134
          ],
          [
           214,
           "Pink Floyd - The Wall (1982)",
           114
          ],
          [
           215,
           "Field of Dreams (1989)",
           212
          ],
          [
           216,
           "When Harry Met Sally... (1989)",
           290
          ],
          [
           217,
           "Bram Stoker's Dracula (1992)",
           120
          ],
          [
           218,
           "Cape Fear (1991)",
           171
          ],
          [
           219,
           "Nightmare on Elm Street, A (1984)",
           111
          ],
          [
           220,
           "Mirror Has Two Faces, The (1996)",
           66
          ],
          [
           221,
           "Breaking the Waves (1996)",
           74
          ],
          [
           222,
           "Star Trek: First Contact (1996)",
           365
          ],
          [
           223,
           "Sling Blade (1996)",
           136
          ],
          [
           224,
           "Ridicule (1996)",
           44
          ],
          [
           225,
           "101 Dalmatians (1996)",
           109
          ],
          [
           226,
           "Die Hard 2 (1990)",
           166
          ],
          [
           227,
           "Star Trek VI: The Undiscovered Country (1991)",
           161
          ],
          [
           228,
           "Star Trek: The Wrath of Khan (1982)",
           244
          ],
          [
           229,
           "Star Trek III: The Search for Spock (1984)",
           171
          ],
          [
           230,
           "Star Trek IV: The Voyage Home (1986)",
           199
          ],
          [
           231,
           "Batman Returns (1992)",
           142
          ],
          [
           232,
           "Young Guns (1988)",
           101
          ],
          [
           233,
           "Under Siege (1992)",
           124
          ],
          [
           234,
           "Jaws (1975)",
           280
          ],
          [
           235,
           "Mars Attacks! (1996)",
           217
          ],
          [
           236,
           "Citizen Ruth (1996)",
           45
          ],
          [
           237,
           "Jerry Maguire (1996)",
           384
          ],
          [
           238,
           "Raising Arizona (1987)",
           256
          ],
          [
           239,
           "Sneakers (1992)",
           150
          ],
          [
           240,
           "Beavis and Butt-head Do America (1996)",
           156
          ],
          [
           241,
           "Last of the Mohicans, The (1992)",
           128
          ],
          [
           242,
           "Kolya (1996)",
           117
          ],
          [
           243,
           "Jungle2Jungle (1997)",
           132
          ],
          [
           244,
           "Smilla's Sense of Snow (1997)",
           48
          ],
          [
           245,
           "Devil's Own, The (1997)",
           240
          ],
          [
           246,
           "Chasing Amy (1997)",
           124
          ],
          [
           247,
           "Turbo: A Power Rangers Movie (1997)",
           5
          ],
          [
           248,
           "Grosse Pointe Blank (1997)",
           160
          ],
          [
           249,
           "Austin Powers: International Man of Mystery (1997)",
           130
          ],
          [
           250,
           "Fifth Element, The (1997)",
           197
          ],
          [
           251,
           "Shall We Dance? (1996)",
           46
          ],
          [
           252,
           "Lost World: Jurassic Park, The (1997)",
           158
          ],
          [
           253,
           "Pillow Book, The (1995)",
           26
          ],
          [
           254,
           "Batman & Robin (1997)",
           62
          ],
          [
           255,
           "My Best Friend's Wedding (1997)",
           172
          ],
          [
           256,
           "When the Cats Away (Chacun cherche son chat) (1996)",
           16
          ],
          [
           257,
           "Men in Black (1997)",
           303
          ],
          [
           258,
           "Contact (1997)",
           509
          ],
          [
           259,
           "George of the Jungle (1997)",
           162
          ],
          [
           260,
           "Event Horizon (1997)",
           127
          ],
          [
           261,
           "Air Bud (1997)",
           43
          ],
          [
           262,
           "In the Company of Men (1997)",
           66
          ],
          [
           263,
           "Steel (1997)",
           19
          ],
          [
           264,
           "Mimic (1997)",
           101
          ],
          [
           265,
           "Hunt for Red October, The (1990)",
           227
          ],
          [
           266,
           "Kull the Conqueror (1997)",
           35
          ],
          [
           267,
           "unknown",
           9
          ],
          [
           268,
           "Chasing Amy (1997)",
           255
          ],
          [
           269,
           "Full Monty, The (1997)",
           315
          ],
          [
           270,
           "Gattaca (1997)",
           136
          ],
          [
           271,
           "Starship Troopers (1997)",
           211
          ],
          [
           272,
           "Good Will Hunting (1997)",
           198
          ],
          [
           273,
           "Heat (1995)",
           223
          ],
          [
           274,
           "Sabrina (1995)",
           190
          ],
          [
           275,
           "Sense and Sensibility (1995)",
           268
          ],
          [
           276,
           "Leaving Las Vegas (1995)",
           298
          ],
          [
           277,
           "Restoration (1995)",
           71
          ],
          [
           278,
           "Bed of Roses (1996)",
           60
          ],
          [
           279,
           "Once Upon a Time... When We Were Colored (1995)",
           28
          ],
          [
           280,
           "Up Close and Personal (1996)",
           85
          ],
          [
           281,
           "River Wild, The (1994)",
           146
          ],
          [
           282,
           "Time to Kill, A (1996)",
           232
          ],
          [
           283,
           "Emma (1996)",
           177
          ],
          [
           284,
           "Tin Cup (1996)",
           193
          ],
          [
           285,
           "Secrets & Lies (1996)",
           162
          ],
          [
           286,
           "English Patient, The (1996)",
           481
          ],
          [
           287,
           "Marvin's Room (1996)",
           78
          ],
          [
           288,
           "Scream (1996)",
           478
          ],
          [
           289,
           "Evita (1996)",
           259
          ],
          [
           290,
           "Fierce Creatures (1997)",
           96
          ],
          [
           291,
           "Absolute Power (1997)",
           127
          ],
          [
           292,
           "Rosewood (1997)",
           114
          ],
          [
           293,
           "Donnie Brasco (1997)",
           147
          ],
          [
           294,
           "Liar Liar (1997)",
           485
          ],
          [
           295,
           "Breakdown (1997)",
           77
          ],
          [
           296,
           "Promesse, La (1996)",
           6
          ],
          [
           297,
           "Ulee's Gold (1997)",
           50
          ],
          [
           298,
           "Face/Off (1997)",
           194
          ],
          [
           299,
           "Hoodlum (1997)",
           73
          ],
          [
           300,
           "Air Force One (1997)",
           431
          ],
          [
           301,
           "In & Out (1997)",
           230
          ],
          [
           302,
           "L.A. Confidential (1997)",
           297
          ],
          [
           303,
           "Ulee's Gold (1997)",
           134
          ],
          [
           304,
           "Fly Away Home (1996)",
           149
          ],
          [
           305,
           "Ice Storm, The (1997)",
           87
          ],
          [
           306,
           "Mrs. Brown (Her Majesty, Mrs. Brown) (1997)",
           96
          ],
          [
           307,
           "Devil's Advocate, The (1997)",
           188
          ],
          [
           308,
           "FairyTale: A True Story (1997)",
           30
          ],
          [
           309,
           "Deceiver (1997)",
           28
          ],
          [
           310,
           "Rainmaker, The (1997)",
           145
          ],
          [
           311,
           "Wings of the Dove, The (1997)",
           75
          ],
          [
           312,
           "Midnight in the Garden of Good and Evil (1997)",
           80
          ],
          [
           313,
           "Titanic (1997)",
           350
          ],
          [
           314,
           "3 Ninjas: High Noon At Mega Mountain (1998)",
           5
          ],
          [
           315,
           "Apt Pupil (1998)",
           160
          ],
          [
           316,
           "As Good As It Gets (1997)",
           112
          ],
          [
           317,
           "In the Name of the Father (1993)",
           102
          ],
          [
           318,
           "Schindler's List (1993)",
           298
          ],
          [
           319,
           "Everyone Says I Love You (1996)",
           168
          ],
          [
           320,
           "Paradise Lost: The Child Murders at Robin Hood Hills (1996)",
           20
          ],
          [
           321,
           "Mother (1996)",
           169
          ],
          [
           322,
           "Murder at 1600 (1997)",
           218
          ],
          [
           323,
           "Dante's Peak (1997)",
           240
          ],
          [
           324,
           "Lost Highway (1997)",
           125
          ],
          [
           325,
           "Crash (1996)",
           128
          ],
          [
           326,
           "G.I. Jane (1997)",
           175
          ],
          [
           327,
           "Cop Land (1997)",
           175
          ],
          [
           328,
           "Conspiracy Theory (1997)",
           295
          ],
          [
           329,
           "Desperate Measures (1998)",
           45
          ],
          [
           330,
           "187 (1997)",
           41
          ],
          [
           331,
           "Edge, The (1997)",
           113
          ],
          [
           332,
           "Kiss the Girls (1997)",
           143
          ],
          [
           333,
           "Game, The (1997)",
           251
          ],
          [
           334,
           "U Turn (1997)",
           64
          ],
          [
           335,
           "How to Be a Player (1997)",
           21
          ],
          [
           336,
           "Playing God (1997)",
           43
          ],
          [
           337,
           "House of Yes, The (1997)",
           18
          ],
          [
           338,
           "Bean (1997)",
           91
          ],
          [
           339,
           "Mad City (1997)",
           47
          ],
          [
           340,
           "Boogie Nights (1997)",
           189
          ],
          [
           341,
           "Critical Care (1997)",
           11
          ],
          [
           342,
           "Man Who Knew Too Little, The (1997)",
           52
          ],
          [
           343,
           "Alien: Resurrection (1997)",
           124
          ],
          [
           344,
           "Apostle, The (1997)",
           55
          ],
          [
           345,
           "Deconstructing Harry (1997)",
           65
          ],
          [
           346,
           "Jackie Brown (1997)",
           126
          ],
          [
           347,
           "Wag the Dog (1997)",
           137
          ],
          [
           348,
           "Desperate Measures (1998)",
           27
          ],
          [
           349,
           "Hard Rain (1998)",
           31
          ],
          [
           350,
           "Fallen (1998)",
           41
          ],
          [
           351,
           "Prophecy II, The (1998)",
           20
          ],
          [
           352,
           "Spice World (1997)",
           26
          ],
          [
           353,
           "Deep Rising (1998)",
           14
          ],
          [
           354,
           "Wedding Singer, The (1998)",
           72
          ],
          [
           355,
           "Sphere (1998)",
           41
          ],
          [
           356,
           "Client, The (1994)",
           97
          ],
          [
           357,
           "One Flew Over the Cuckoo's Nest (1975)",
           264
          ],
          [
           358,
           "Spawn (1997)",
           143
          ],
          [
           359,
           "Assignment, The (1997)",
           18
          ],
          [
           360,
           "Wonderland (1997)",
           10
          ],
          [
           361,
           "Incognito (1997)",
           10
          ],
          [
           362,
           "Blues Brothers 2000 (1998)",
           28
          ],
          [
           363,
           "Sudden Death (1995)",
           47
          ],
          [
           364,
           "Ace Ventura: When Nature Calls (1995)",
           37
          ],
          [
           365,
           "Powder (1995)",
           48
          ],
          [
           366,
           "Dangerous Minds (1995)",
           47
          ],
          [
           367,
           "Clueless (1995)",
           170
          ],
          [
           368,
           "Bio-Dome (1996)",
           31
          ],
          [
           369,
           "Black Sheep (1996)",
           55
          ],
          [
           370,
           "Mary Reilly (1996)",
           39
          ],
          [
           371,
           "Bridges of Madison County, The (1995)",
           67
          ],
          [
           372,
           "Jeffrey (1995)",
           34
          ],
          [
           373,
           "Judge Dredd (1995)",
           39
          ],
          [
           374,
           "Mighty Morphin Power Rangers: The Movie (1995)",
           11
          ],
          [
           375,
           "Showgirls (1995)",
           23
          ],
          [
           376,
           "Houseguest (1994)",
           24
          ],
          [
           377,
           "Heavyweights (1994)",
           13
          ],
          [
           378,
           "Miracle on 34th Street (1994)",
           101
          ],
          [
           379,
           "Tales From the Crypt Presents: Demon Knight (1995)",
           43
          ],
          [
           380,
           "Star Trek: Generations (1994)",
           116
          ],
          [
           381,
           "Muriel's Wedding (1994)",
           100
          ],
          [
           382,
           "Adventures of Priscilla, Queen of the Desert, The (1994)",
           111
          ],
          [
           383,
           "Flintstones, The (1994)",
           31
          ],
          [
           384,
           "Naked Gun 33 1/3: The Final Insult (1994)",
           69
          ],
          [
           385,
           "True Lies (1994)",
           208
          ],
          [
           386,
           "Addams Family Values (1993)",
           87
          ],
          [
           387,
           "Age of Innocence, The (1993)",
           65
          ],
          [
           388,
           "Beverly Hills Cop III (1994)",
           28
          ],
          [
           389,
           "Black Beauty (1994)",
           27
          ],
          [
           390,
           "Fear of a Black Hat (1993)",
           10
          ],
          [
           391,
           "Last Action Hero (1993)",
           59
          ],
          [
           392,
           "Man Without a Face, The (1993)",
           68
          ],
          [
           393,
           "Mrs. Doubtfire (1993)",
           192
          ],
          [
           394,
           "Radioland Murders (1994)",
           12
          ],
          [
           395,
           "Robin Hood: Men in Tights (1993)",
           56
          ],
          [
           396,
           "Serial Mom (1994)",
           54
          ],
          [
           397,
           "Striking Distance (1993)",
           12
          ],
          [
           398,
           "Super Mario Bros. (1993)",
           26
          ],
          [
           399,
           "Three Musketeers, The (1993)",
           89
          ],
          [
           400,
           "Little Rascals, The (1994)",
           18
          ],
          [
           401,
           "Brady Bunch Movie, The (1995)",
           76
          ],
          [
           402,
           "Ghost (1990)",
           170
          ],
          [
           403,
           "Batman (1989)",
           201
          ],
          [
           404,
           "Pinocchio (1940)",
           101
          ],
          [
           405,
           "Mission: Impossible (1996)",
           344
          ],
          [
           406,
           "Thinner (1996)",
           49
          ],
          [
           407,
           "Spy Hard (1996)",
           43
          ],
          [
           408,
           "Close Shave, A (1995)",
           112
          ],
          [
           409,
           "Jack (1996)",
           70
          ],
          [
           410,
           "Kingpin (1996)",
           162
          ],
          [
           411,
           "Nutty Professor, The (1996)",
           163
          ],
          [
           412,
           "Very Brady Sequel, A (1996)",
           93
          ],
          [
           413,
           "Tales from the Crypt Presents: Bordello of Blood (1996)",
           55
          ],
          [
           414,
           "My Favorite Year (1982)",
           62
          ],
          [
           415,
           "Apple Dumpling Gang, The (1975)",
           25
          ],
          [
           416,
           "Old Yeller (1957)",
           64
          ],
          [
           417,
           "Parent Trap, The (1961)",
           73
          ],
          [
           418,
           "Cinderella (1950)",
           129
          ],
          [
           419,
           "Mary Poppins (1964)",
           178
          ],
          [
           420,
           "Alice in Wonderland (1951)",
           81
          ],
          [
           421,
           "William Shakespeare's Romeo and Juliet (1996)",
           106
          ],
          [
           422,
           "Aladdin and the King of Thieves (1996)",
           26
          ],
          [
           423,
           "E.T. the Extra-Terrestrial (1982)",
           300
          ],
          [
           424,
           "Children of the Corn: The Gathering (1996)",
           19
          ],
          [
           425,
           "Bob Roberts (1992)",
           85
          ],
          [
           426,
           "Transformers: The Movie, The (1986)",
           32
          ],
          [
           427,
           "To Kill a Mockingbird (1962)",
           219
          ],
          [
           428,
           "Harold and Maude (1971)",
           121
          ],
          [
           429,
           "Day the Earth Stood Still, The (1951)",
           97
          ],
          [
           430,
           "Duck Soup (1933)",
           93
          ],
          [
           431,
           "Highlander (1986)",
           153
          ],
          [
           432,
           "Fantasia (1940)",
           174
          ],
          [
           433,
           "Heathers (1989)",
           171
          ],
          [
           434,
           "Forbidden Planet (1956)",
           67
          ],
          [
           435,
           "Butch Cassidy and the Sundance Kid (1969)",
           216
          ],
          [
           436,
           "American Werewolf in London, An (1981)",
           99
          ],
          [
           437,
           "Amityville 1992: It's About Time (1992)",
           5
          ],
          [
           438,
           "Amityville 3-D (1983)",
           6
          ],
          [
           439,
           "Amityville: A New Generation (1993)",
           5
          ],
          [
           440,
           "Amityville II: The Possession (1982)",
           14
          ],
          [
           441,
           "Amityville Horror, The (1979)",
           53
          ],
          [
           442,
           "Amityville Curse, The (1990)",
           4
          ],
          [
           443,
           "Birds, The (1963)",
           162
          ],
          [
           444,
           "Blob, The (1958)",
           46
          ],
          [
           445,
           "Body Snatcher, The (1945)",
           22
          ],
          [
           446,
           "Burnt Offerings (1976)",
           9
          ],
          [
           447,
           "Carrie (1976)",
           121
          ],
          [
           448,
           "Omen, The (1976)",
           85
          ],
          [
           449,
           "Star Trek: The Motion Picture (1979)",
           117
          ],
          [
           450,
           "Star Trek V: The Final Frontier (1989)",
           63
          ],
          [
           451,
           "Grease (1978)",
           170
          ],
          [
           452,
           "Jaws 2 (1978)",
           66
          ],
          [
           453,
           "Jaws 3-D (1983)",
           16
          ],
          [
           454,
           "Bastard Out of Carolina (1996)",
           16
          ],
          [
           455,
           "Jackie Chan's First Strike (1996)",
           145
          ],
          [
           456,
           "Beverly Hills Ninja (1997)",
           48
          ],
          [
           457,
           "Free Willy 3: The Rescue (1997)",
           27
          ],
          [
           458,
           "Nixon (1995)",
           90
          ],
          [
           459,
           "Cry, the Beloved Country (1995)",
           24
          ],
          [
           460,
           "Crossing Guard, The (1995)",
           28
          ],
          [
           461,
           "Smoke (1995)",
           74
          ],
          [
           462,
           "Like Water For Chocolate (Como agua para chocolate) (1992)",
           148
          ],
          [
           463,
           "Secret of Roan Inish, The (1994)",
           71
          ],
          [
           464,
           "Vanya on 42nd Street (1994)",
           27
          ],
          [
           465,
           "Jungle Book, The (1994)",
           85
          ],
          [
           466,
           "Red Rock West (1992)",
           52
          ],
          [
           467,
           "Bronx Tale, A (1993)",
           48
          ],
          [
           468,
           "Rudy (1993)",
           64
          ],
          [
           469,
           "Short Cuts (1993)",
           67
          ],
          [
           470,
           "Tombstone (1993)",
           108
          ],
          [
           471,
           "Courage Under Fire (1996)",
           221
          ],
          [
           472,
           "Dragonheart (1996)",
           158
          ],
          [
           473,
           "James and the Giant Peach (1996)",
           126
          ],
          [
           474,
           "Dr. Strangelove or: How I Learned to Stop Worrying and Love the Bomb (1963)",
           194
          ],
          [
           475,
           "Trainspotting (1996)",
           250
          ],
          [
           476,
           "First Wives Club, The (1996)",
           160
          ],
          [
           477,
           "Matilda (1996)",
           95
          ],
          [
           478,
           "Philadelphia Story, The (1940)",
           104
          ],
          [
           479,
           "Vertigo (1958)",
           179
          ],
          [
           480,
           "North by Northwest (1959)",
           179
          ],
          [
           481,
           "Apartment, The (1960)",
           63
          ],
          [
           482,
           "Some Like It Hot (1959)",
           128
          ],
          [
           483,
           "Casablanca (1942)",
           243
          ],
          [
           484,
           "Maltese Falcon, The (1941)",
           138
          ],
          [
           485,
           "My Fair Lady (1964)",
           125
          ],
          [
           486,
           "Sabrina (1954)",
           64
          ],
          [
           487,
           "Roman Holiday (1953)",
           68
          ],
          [
           488,
           "Sunset Blvd. (1950)",
           65
          ],
          [
           489,
           "Notorious (1946)",
           52
          ],
          [
           490,
           "To Catch a Thief (1955)",
           50
          ],
          [
           491,
           "Adventures of Robin Hood, The (1938)",
           67
          ],
          [
           492,
           "East of Eden (1955)",
           59
          ],
          [
           493,
           "Thin Man, The (1934)",
           60
          ],
          [
           494,
           "His Girl Friday (1940)",
           56
          ],
          [
           495,
           "Around the World in 80 Days (1956)",
           59
          ],
          [
           496,
           "It's a Wonderful Life (1946)",
           231
          ],
          [
           497,
           "Bringing Up Baby (1938)",
           68
          ],
          [
           498,
           "African Queen, The (1951)",
           152
          ],
          [
           499,
           "Cat on a Hot Tin Roof (1958)",
           62
          ],
          [
           500,
           "Fly Away Home (1996)",
           31
          ],
          [
           501,
           "Dumbo (1941)",
           123
          ],
          [
           502,
           "Bananas (1971)",
           57
          ],
          [
           503,
           "Candidate, The (1972)",
           39
          ],
          [
           504,
           "Bonnie and Clyde (1967)",
           122
          ],
          [
           505,
           "Dial M for Murder (1954)",
           68
          ],
          [
           506,
           "Rebel Without a Cause (1955)",
           90
          ],
          [
           507,
           "Streetcar Named Desire, A (1951)",
           98
          ],
          [
           508,
           "People vs. Larry Flynt, The (1996)",
           215
          ],
          [
           509,
           "My Left Foot (1989)",
           121
          ],
          [
           510,
           "Magnificent Seven, The (1954)",
           121
          ],
          [
           511,
           "Lawrence of Arabia (1962)",
           173
          ],
          [
           512,
           "Wings of Desire (1987)",
           57
          ],
          [
           513,
           "Third Man, The (1949)",
           72
          ],
          [
           514,
           "Annie Hall (1977)",
           180
          ],
          [
           515,
           "Boot, Das (1981)",
           201
          ],
          [
           516,
           "Local Hero (1983)",
           63
          ],
          [
           517,
           "Manhattan (1979)",
           91
          ],
          [
           518,
           "Miller's Crossing (1990)",
           89
          ],
          [
           519,
           "Treasure of the Sierra Madre, The (1948)",
           80
          ],
          [
           520,
           "Great Escape, The (1963)",
           124
          ],
          [
           521,
           "Deer Hunter, The (1978)",
           120
          ],
          [
           522,
           "Down by Law (1986)",
           35
          ],
          [
           523,
           "Cool Hand Luke (1967)",
           164
          ],
          [
           524,
           "Great Dictator, The (1940)",
           46
          ],
          [
           525,
           "Big Sleep, The (1946)",
           73
          ],
          [
           526,
           "Ben-Hur (1959)",
           124
          ],
          [
           527,
           "Gandhi (1982)",
           195
          ],
          [
           528,
           "Killing Fields, The (1984)",
           121
          ],
          [
           529,
           "My Life as a Dog (Mitt liv som hund) (1985)",
           93
          ],
          [
           530,
           "Man Who Would Be King, The (1975)",
           80
          ],
          [
           531,
           "Shine (1996)",
           129
          ],
          [
           532,
           "Kama Sutra: A Tale of Love (1996)",
           22
          ],
          [
           533,
           "Daytrippers, The (1996)",
           15
          ],
          [
           534,
           "Traveller (1997)",
           13
          ],
          [
           535,
           "Addicted to Love (1997)",
           54
          ],
          [
           536,
           "Ponette (1996)",
           10
          ],
          [
           537,
           "My Own Private Idaho (1991)",
           30
          ],
          [
           538,
           "Anastasia (1997)",
           66
          ],
          [
           539,
           "Mouse Hunt (1997)",
           44
          ],
          [
           540,
           "Money Train (1995)",
           43
          ],
          [
           541,
           "Mortal Kombat (1995)",
           49
          ],
          [
           542,
           "Pocahontas (1995)",
           51
          ],
          [
           543,
           "Misérables, Les (1995)",
           21
          ],
          [
           544,
           "Things to Do in Denver when You're Dead (1995)",
           71
          ],
          [
           545,
           "Vampire in Brooklyn (1995)",
           12
          ],
          [
           546,
           "Broken Arrow (1996)",
           254
          ],
          [
           547,
           "Young Poisoner's Handbook, The (1995)",
           41
          ],
          [
           548,
           "NeverEnding Story III, The (1994)",
           12
          ],
          [
           549,
           "Rob Roy (1995)",
           92
          ],
          [
           550,
           "Die Hard: With a Vengeance (1995)",
           151
          ],
          [
           551,
           "Lord of Illusions (1995)",
           24
          ],
          [
           552,
           "Species (1995)",
           45
          ],
          [
           553,
           "Walk in the Clouds, A (1995)",
           63
          ],
          [
           554,
           "Waterworld (1995)",
           102
          ],
          [
           555,
           "White Man's Burden (1995)",
           10
          ],
          [
           556,
           "Wild Bill (1995)",
           12
          ],
          [
           557,
           "Farinelli: il castrato (1994)",
           17
          ],
          [
           558,
           "Heavenly Creatures (1994)",
           70
          ],
          [
           559,
           "Interview with the Vampire (1994)",
           137
          ],
          [
           560,
           "Kid in King Arthur's Court, A (1995)",
           22
          ],
          [
           561,
           "Mary Shelley's Frankenstein (1994)",
           59
          ],
          [
           562,
           "Quick and the Dead, The (1995)",
           48
          ],
          [
           563,
           "Stephen King's The Langoliers (1995)",
           29
          ],
          [
           564,
           "Tales from the Hood (1995)",
           27
          ],
          [
           565,
           "Village of the Damned (1995)",
           22
          ],
          [
           566,
           "Clear and Present Danger (1994)",
           179
          ],
          [
           567,
           "Wes Craven's New Nightmare (1994)",
           35
          ],
          [
           568,
           "Speed (1994)",
           230
          ],
          [
           569,
           "Wolf (1994)",
           67
          ],
          [
           570,
           "Wyatt Earp (1994)",
           50
          ],
          [
           571,
           "Another Stakeout (1993)",
           28
          ],
          [
           572,
           "Blown Away (1994)",
           29
          ],
          [
           573,
           "Body Snatchers (1993)",
           33
          ],
          [
           574,
           "Boxing Helena (1993)",
           15
          ],
          [
           575,
           "City Slickers II: The Legend of Curly's Gold (1994)",
           44
          ],
          [
           576,
           "Cliffhanger (1993)",
           93
          ],
          [
           577,
           "Coneheads (1993)",
           41
          ],
          [
           578,
           "Demolition Man (1993)",
           92
          ],
          [
           579,
           "Fatal Instinct (1993)",
           19
          ],
          [
           580,
           "Englishman Who Went Up a Hill, But Came Down a Mountain, The (1995)",
           32
          ],
          [
           581,
           "Kalifornia (1993)",
           59
          ],
          [
           582,
           "Piano, The (1993)",
           168
          ],
          [
           583,
           "Romeo Is Bleeding (1993)",
           37
          ],
          [
           584,
           "Secret Garden, The (1993)",
           79
          ],
          [
           585,
           "Son in Law (1993)",
           39
          ],
          [
           586,
           "Terminal Velocity (1994)",
           34
          ],
          [
           587,
           "Hour of the Pig, The (1993)",
           14
          ],
          [
           588,
           "Beauty and the Beast (1991)",
           202
          ],
          [
           589,
           "Wild Bunch, The (1969)",
           43
          ],
          [
           590,
           "Hellraiser: Bloodline (1996)",
           18
          ],
          [
           591,
           "Primal Fear (1996)",
           178
          ],
          [
           592,
           "True Crime (1995)",
           9
          ],
          [
           593,
           "Stalingrad (1993)",
           12
          ],
          [
           594,
           "Heavy (1995)",
           5
          ],
          [
           595,
           "Fan, The (1996)",
           64
          ],
          [
           596,
           "Hunchback of Notre Dame, The (1996)",
           127
          ],
          [
           597,
           "Eraser (1996)",
           206
          ],
          [
           598,
           "Big Squeeze, The (1996)",
           4
          ],
          [
           599,
           "Police Story 4: Project S (Chao ji ji hua) (1993)",
           1
          ],
          [
           600,
           "Daniel Defoe's Robinson Crusoe (1996)",
           2
          ],
          [
           601,
           "For Whom the Bell Tolls (1943)",
           20
          ],
          [
           602,
           "American in Paris, An (1951)",
           50
          ],
          [
           603,
           "Rear Window (1954)",
           209
          ],
          [
           604,
           "It Happened One Night (1934)",
           81
          ],
          [
           605,
           "Meet Me in St. Louis (1944)",
           31
          ],
          [
           606,
           "All About Eve (1950)",
           66
          ],
          [
           607,
           "Rebecca (1940)",
           66
          ],
          [
           608,
           "Spellbound (1945)",
           30
          ],
          [
           609,
           "Father of the Bride (1950)",
           60
          ],
          [
           610,
           "Gigi (1958)",
           41
          ],
          [
           611,
           "Laura (1944)",
           40
          ],
          [
           612,
           "Lost Horizon (1937)",
           34
          ],
          [
           613,
           "My Man Godfrey (1936)",
           27
          ],
          [
           614,
           "Giant (1956)",
           51
          ],
          [
           615,
           "39 Steps, The (1935)",
           59
          ],
          [
           616,
           "Night of the Living Dead (1968)",
           64
          ],
          [
           617,
           "Blue Angel, The (Blaue Engel, Der) (1930)",
           18
          ],
          [
           618,
           "Picnic (1955)",
           18
          ],
          [
           619,
           "Extreme Measures (1996)",
           64
          ],
          [
           620,
           "Chamber, The (1996)",
           43
          ],
          [
           621,
           "Davy Crockett, King of the Wild Frontier (1955)",
           11
          ],
          [
           622,
           "Swiss Family Robinson (1960)",
           39
          ],
          [
           623,
           "Angels in the Outfield (1994)",
           39
          ],
          [
           624,
           "Three Caballeros, The (1945)",
           22
          ],
          [
           625,
           "Sword in the Stone, The (1963)",
           82
          ],
          [
           626,
           "So Dear to My Heart (1949)",
           4
          ],
          [
           627,
           "Robin Hood: Prince of Thieves (1991)",
           75
          ],
          [
           628,
           "Sleepers (1996)",
           169
          ],
          [
           629,
           "Victor/Victoria (1982)",
           77
          ],
          [
           630,
           "Great Race, The (1965)",
           31
          ],
          [
           631,
           "Crying Game, The (1992)",
           119
          ],
          [
           632,
           "Sophie's Choice (1982)",
           58
          ],
          [
           633,
           "Christmas Carol, A (1938)",
           69
          ],
          [
           634,
           "Microcosmos: Le peuple de l'herbe (1996)",
           24
          ],
          [
           635,
           "Fog, The (1980)",
           23
          ],
          [
           636,
           "Escape from New York (1981)",
           91
          ],
          [
           637,
           "Howling, The (1981)",
           38
          ],
          [
           638,
           "Return of Martin Guerre, The (Retour de Martin Guerre, Le) (1982)",
           44
          ],
          [
           639,
           "Tin Drum, The (Blechtrommel, Die) (1979)",
           40
          ],
          [
           640,
           "Cook the Thief His Wife & Her Lover, The (1989)",
           82
          ],
          [
           641,
           "Paths of Glory (1957)",
           33
          ],
          [
           642,
           "Grifters, The (1990)",
           89
          ],
          [
           643,
           "The Innocent (1994)",
           4
          ],
          [
           644,
           "Thin Blue Line, The (1988)",
           35
          ],
          [
           645,
           "Paris Is Burning (1990)",
           27
          ],
          [
           646,
           "Once Upon a Time in the West (1969)",
           38
          ],
          [
           647,
           "Ran (1985)",
           70
          ],
          [
           648,
           "Quiet Man, The (1952)",
           67
          ],
          [
           649,
           "Once Upon a Time in America (1984)",
           50
          ],
          [
           650,
           "Seventh Seal, The (Sjunde inseglet, Det) (1957)",
           72
          ],
          [
           651,
           "Glory (1989)",
           171
          ],
          [
           652,
           "Rosencrantz and Guildenstern Are Dead (1990)",
           90
          ],
          [
           653,
           "Touch of Evil (1958)",
           34
          ],
          [
           654,
           "Chinatown (1974)",
           147
          ],
          [
           655,
           "Stand by Me (1986)",
           227
          ],
          [
           656,
           "M (1931)",
           44
          ],
          [
           657,
           "Manchurian Candidate, The (1962)",
           131
          ],
          [
           658,
           "Pump Up the Volume (1990)",
           79
          ],
          [
           659,
           "Arsenic and Old Lace (1944)",
           115
          ],
          [
           660,
           "Fried Green Tomatoes (1991)",
           153
          ],
          [
           661,
           "High Noon (1952)",
           88
          ],
          [
           662,
           "Somewhere in Time (1980)",
           82
          ],
          [
           663,
           "Being There (1979)",
           116
          ],
          [
           664,
           "Paris, Texas (1984)",
           46
          ],
          [
           665,
           "Alien 3 (1992)",
           100
          ],
          [
           666,
           "Blood For Dracula (Andy Warhol's Dracula) (1974)",
           5
          ],
          [
           667,
           "Audrey Rose (1977)",
           12
          ],
          [
           668,
           "Blood Beach (1981)",
           6
          ],
          [
           669,
           "Body Parts (1991)",
           13
          ],
          [
           670,
           "Body Snatchers (1993)",
           36
          ],
          [
           671,
           "Bride of Frankenstein (1935)",
           46
          ],
          [
           672,
           "Candyman (1992)",
           65
          ],
          [
           673,
           "Cape Fear (1962)",
           86
          ],
          [
           674,
           "Cat People (1982)",
           48
          ],
          [
           675,
           "Nosferatu (Nosferatu, eine Symphonie des Grauens) (1922)",
           54
          ],
          [
           676,
           "Crucible, The (1996)",
           77
          ],
          [
           677,
           "Fire on the Mountain (1996)",
           1
          ],
          [
           678,
           "Volcano (1997)",
           219
          ],
          [
           679,
           "Conan the Barbarian (1981)",
           107
          ],
          [
           680,
           "Kull the Conqueror (1997)",
           34
          ],
          [
           681,
           "Wishmaster (1997)",
           27
          ],
          [
           682,
           "I Know What You Did Last Summer (1997)",
           100
          ],
          [
           683,
           "Rocket Man (1997)",
           49
          ],
          [
           684,
           "In the Line of Fire (1993)",
           169
          ],
          [
           685,
           "Executive Decision (1996)",
           157
          ],
          [
           686,
           "Perfect World, A (1993)",
           50
          ],
          [
           687,
           "McHale's Navy (1997)",
           69
          ],
          [
           688,
           "Leave It to Beaver (1997)",
           44
          ],
          [
           689,
           "Jackal, The (1997)",
           87
          ],
          [
           690,
           "Seven Years in Tibet (1997)",
           155
          ],
          [
           691,
           "Dark City (1998)",
           16
          ],
          [
           692,
           "American President, The (1995)",
           164
          ],
          [
           693,
           "Casino (1995)",
           91
          ],
          [
           694,
           "Persuasion (1995)",
           44
          ],
          [
           695,
           "Kicking and Screaming (1995)",
           13
          ],
          [
           696,
           "City Hall (1996)",
           79
          ],
          [
           697,
           "Basketball Diaries, The (1995)",
           40
          ],
          [
           698,
           "Browning Version, The (1994)",
           10
          ],
          [
           699,
           "Little Women (1994)",
           102
          ],
          [
           700,
           "Miami Rhapsody (1995)",
           15
          ],
          [
           701,
           "Wonderful, Horrible Life of Leni Riefenstahl, The (1993)",
           10
          ],
          [
           702,
           "Barcelona (1994)",
           53
          ],
          [
           703,
           "Widows' Peak (1994)",
           19
          ],
          [
           704,
           "House of the Spirits, The (1993)",
           24
          ],
          [
           705,
           "Singin' in the Rain (1952)",
           137
          ],
          [
           706,
           "Bad Moon (1996)",
           6
          ],
          [
           707,
           "Enchanted April (1991)",
           70
          ],
          [
           708,
           "Sex, Lies, and Videotape (1989)",
           101
          ],
          [
           709,
           "Strictly Ballroom (1992)",
           104
          ],
          [
           710,
           "Better Off Dead... (1985)",
           79
          ],
          [
           711,
           "Substance of Fire, The (1996)",
           1
          ],
          [
           712,
           "Tin Men (1987)",
           51
          ],
          [
           713,
           "Othello (1995)",
           72
          ],
          [
           714,
           "Carrington (1995)",
           13
          ],
          [
           715,
           "To Die For (1995)",
           87
          ],
          [
           716,
           "Home for the Holidays (1995)",
           58
          ],
          [
           717,
           "Juror, The (1996)",
           82
          ],
          [
           718,
           "In the Bleak Midwinter (1995)",
           16
          ],
          [
           719,
           "Canadian Bacon (1994)",
           29
          ],
          [
           720,
           "First Knight (1995)",
           86
          ],
          [
           721,
           "Mallrats (1995)",
           54
          ],
          [
           722,
           "Nine Months (1995)",
           58
          ],
          [
           723,
           "Boys on the Side (1995)",
           34
          ],
          [
           724,
           "Circle of Friends (1995)",
           76
          ],
          [
           725,
           "Exit to Eden (1994)",
           16
          ],
          [
           726,
           "Fluke (1995)",
           14
          ],
          [
           727,
           "Immortal Beloved (1994)",
           63
          ],
          [
           728,
           "Junior (1994)",
           45
          ],
          [
           729,
           "Nell (1994)",
           81
          ],
          [
           730,
           "Queen Margot (Reine Margot, La) (1994)",
           24
          ],
          [
           731,
           "Corrina, Corrina (1994)",
           39
          ],
          [
           732,
           "Dave (1993)",
           180
          ],
          [
           733,
           "Go Fish (1994)",
           15
          ],
          [
           734,
           "Made in America (1993)",
           27
          ],
          [
           735,
           "Philadelphia (1993)",
           137
          ],
          [
           736,
           "Shadowlands (1993)",
           78
          ],
          [
           737,
           "Sirens (1994)",
           59
          ],
          [
           738,
           "Threesome (1994)",
           31
          ],
          [
           739,
           "Pretty Woman (1990)",
           164
          ],
          [
           740,
           "Jane Eyre (1996)",
           63
          ],
          [
           741,
           "Last Supper, The (1995)",
           58
          ],
          [
           742,
           "Ransom (1996)",
           267
          ],
          [
           743,
           "Crow: City of Angels, The (1996)",
           39
          ],
          [
           744,
           "Michael Collins (1996)",
           92
          ],
          [
           745,
           "Ruling Class, The (1972)",
           16
          ],
          [
           746,
           "Real Genius (1985)",
           119
          ],
          [
           747,
           "Benny & Joon (1993)",
           102
          ],
          [
           748,
           "Saint, The (1997)",
           316
          ],
          [
           749,
           "MatchMaker, The (1997)",
           51
          ],
          [
           750,
           "Amistad (1997)",
           124
          ],
          [
           751,
           "Tomorrow Never Dies (1997)",
           180
          ],
          [
           752,
           "Replacement Killers, The (1998)",
           39
          ],
          [
           753,
           "Burnt By the Sun (1994)",
           24
          ],
          [
           754,
           "Red Corner (1997)",
           57
          ],
          [
           755,
           "Jumanji (1995)",
           96
          ],
          [
           756,
           "Father of the Bride Part II (1995)",
           128
          ],
          [
           757,
           "Across the Sea of Time (1995)",
           4
          ],
          [
           758,
           "Lawnmower Man 2: Beyond Cyberspace (1996)",
           21
          ],
          [
           759,
           "Fair Game (1995)",
           11
          ],
          [
           760,
           "Screamers (1995)",
           46
          ],
          [
           761,
           "Nick of Time (1995)",
           44
          ],
          [
           762,
           "Beautiful Girls (1996)",
           115
          ],
          [
           763,
           "Happy Gilmore (1996)",
           149
          ],
          [
           764,
           "If Lucy Fell (1996)",
           29
          ],
          [
           765,
           "Boomerang (1992)",
           32
          ],
          [
           766,
           "Man of the Year (1995)",
           9
          ],
          [
           767,
           "Addiction, The (1995)",
           11
          ],
          [
           768,
           "Casper (1995)",
           52
          ],
          [
           769,
           "Congo (1995)",
           42
          ],
          [
           770,
           "Devil in a Blue Dress (1995)",
           57
          ],
          [
           771,
           "Johnny Mnemonic (1995)",
           41
          ],
          [
           772,
           "Kids (1995)",
           49
          ],
          [
           773,
           "Mute Witness (1994)",
           17
          ],
          [
           774,
           "Prophecy, The (1995)",
           32
          ],
          [
           775,
           "Something to Talk About (1995)",
           26
          ],
          [
           776,
           "Three Wishes (1995)",
           9
          ],
          [
           777,
           "Castle Freak (1995)",
           4
          ],
          [
           778,
           "Don Juan DeMarco (1995)",
           76
          ],
          [
           779,
           "Drop Zone (1994)",
           31
          ],
          [
           780,
           "Dumb & Dumber (1994)",
           69
          ],
          [
           781,
           "French Kiss (1995)",
           84
          ],
          [
           782,
           "Little Odessa (1994)",
           10
          ],
          [
           783,
           "Milk Money (1994)",
           37
          ],
          [
           784,
           "Beyond Bedlam (1993)",
           2
          ],
          [
           785,
           "Only You (1994)",
           39
          ],
          [
           786,
           "Perez Family, The (1995)",
           14
          ],
          [
           787,
           "Roommates (1995)",
           13
          ],
          [
           788,
           "Relative Fear (1994)",
           3
          ],
          [
           789,
           "Swimming with Sharks (1995)",
           47
          ],
          [
           790,
           "Tommy Boy (1995)",
           66
          ],
          [
           791,
           "Baby-Sitters Club, The (1995)",
           10
          ],
          [
           792,
           "Bullets Over Broadway (1994)",
           86
          ],
          [
           793,
           "Crooklyn (1994)",
           10
          ],
          [
           794,
           "It Could Happen to You (1994)",
           46
          ],
          [
           795,
           "Richie Rich (1994)",
           21
          ],
          [
           796,
           "Speechless (1994)",
           36
          ],
          [
           797,
           "Timecop (1994)",
           31
          ],
          [
           798,
           "Bad Company (1995)",
           9
          ],
          [
           799,
           "Boys Life (1995)",
           5
          ],
          [
           800,
           "In the Mouth of Madness (1995)",
           26
          ],
          [
           801,
           "Air Up There, The (1994)",
           16
          ],
          [
           802,
           "Hard Target (1993)",
           40
          ],
          [
           803,
           "Heaven & Earth (1993)",
           9
          ],
          [
           804,
           "Jimmy Hollywood (1994)",
           8
          ],
          [
           805,
           "Manhattan Murder Mystery (1993)",
           27
          ],
          [
           806,
           "Menace II Society (1993)",
           50
          ],
          [
           807,
           "Poetic Justice (1993)",
           9
          ],
          [
           808,
           "Program, The (1993)",
           31
          ],
          [
           809,
           "Rising Sun (1993)",
           43
          ],
          [
           810,
           "Shadow, The (1994)",
           45
          ],
          [
           811,
           "Thirty-Two Short Films About Glenn Gould (1993)",
           18
          ],
          [
           812,
           "Andre (1994)",
           18
          ],
          [
           813,
           "Celluloid Closet, The (1995)",
           56
          ],
          [
           814,
           "Great Day in Harlem, A (1994)",
           1
          ],
          [
           815,
           "One Fine Day (1996)",
           112
          ],
          [
           816,
           "Candyman: Farewell to the Flesh (1995)",
           21
          ],
          [
           817,
           "Frisk (1995)",
           3
          ],
          [
           818,
           "Girl 6 (1996)",
           25
          ],
          [
           819,
           "Eddie (1996)",
           40
          ],
          [
           820,
           "Space Jam (1996)",
           93
          ],
          [
           821,
           "Mrs. Winterbourne (1996)",
           22
          ],
          [
           822,
           "Faces (1968)",
           4
          ],
          [
           823,
           "Mulholland Falls (1996)",
           82
          ],
          [
           824,
           "Great White Hype, The (1996)",
           49
          ],
          [
           825,
           "Arrival, The (1996)",
           83
          ],
          [
           826,
           "Phantom, The (1996)",
           80
          ],
          [
           827,
           "Daylight (1996)",
           57
          ],
          [
           828,
           "Alaska (1996)",
           13
          ],
          [
           829,
           "Fled (1996)",
           34
          ],
          [
           830,
           "Power 98 (1995)",
           1
          ],
          [
           831,
           "Escape from L.A. (1996)",
           91
          ],
          [
           832,
           "Bogus (1996)",
           22
          ],
          [
           833,
           "Bulletproof (1996)",
           49
          ],
          [
           834,
           "Halloween: The Curse of Michael Myers (1995)",
           25
          ],
          [
           835,
           "Gay Divorcee, The (1934)",
           15
          ],
          [
           836,
           "Ninotchka (1939)",
           26
          ],
          [
           837,
           "Meet John Doe (1941)",
           25
          ],
          [
           838,
           "In the Line of Duty 2 (1987)",
           4
          ],
          [
           839,
           "Loch Ness (1995)",
           4
          ],
          [
           840,
           "Last Man Standing (1996)",
           53
          ],
          [
           841,
           "Glimmer Man, The (1996)",
           48
          ],
          [
           842,
           "Pollyanna (1960)",
           27
          ],
          [
           843,
           "Shaggy Dog, The (1959)",
           30
          ],
          [
           844,
           "Freeway (1996)",
           42
          ],
          [
           845,
           "That Thing You Do! (1996)",
           176
          ],
          [
           846,
           "To Gillian on Her 37th Birthday (1996)",
           44
          ],
          [
           847,
           "Looking for Richard (1996)",
           55
          ],
          [
           848,
           "Murder, My Sweet (1944)",
           9
          ],
          [
           849,
           "Days of Thunder (1990)",
           53
          ],
          [
           850,
           "Perfect Candidate, A (1996)",
           4
          ],
          [
           851,
           "Two or Three Things I Know About Her (1966)",
           4
          ],
          [
           852,
           "Bloody Child, The (1996)",
           1
          ],
          [
           853,
           "Braindead (1992)",
           14
          ],
          [
           854,
           "Bad Taste (1987)",
           16
          ],
          [
           855,
           "Diva (1981)",
           66
          ],
          [
           856,
           "Night on Earth (1991)",
           36
          ],
          [
           857,
           "Paris Was a Woman (1995)",
           1
          ],
          [
           858,
           "Amityville: Dollhouse (1996)",
           3
          ],
          [
           859,
           "April Fool's Day (1986)",
           15
          ],
          [
           860,
           "Believers, The (1987)",
           16
          ],
          [
           861,
           "Nosferatu a Venezia (1986)",
           3
          ],
          [
           862,
           "Jingle All the Way (1996)",
           18
          ],
          [
           863,
           "Garden of Finzi-Contini, The (Giardino dei Finzi-Contini, Il) (1970)",
           24
          ],
          [
           864,
           "My Fellow Americans (1996)",
           86
          ],
          [
           865,
           "Ice Storm, The (1997)",
           21
          ],
          [
           866,
           "Michael (1996)",
           119
          ],
          [
           867,
           "Whole Wide World, The (1996)",
           6
          ],
          [
           868,
           "Hearts and Minds (1996)",
           5
          ],
          [
           869,
           "Fools Rush In (1997)",
           24
          ],
          [
           870,
           "Touch (1997)",
           9
          ],
          [
           871,
           "Vegas Vacation (1997)",
           75
          ],
          [
           872,
           "Love Jones (1997)",
           42
          ],
          [
           873,
           "Picture Perfect (1997)",
           81
          ],
          [
           874,
           "Career Girls (1997)",
           39
          ],
          [
           875,
           "She's So Lovely (1997)",
           53
          ],
          [
           876,
           "Money Talks (1997)",
           47
          ],
          [
           877,
           "Excess Baggage (1997)",
           52
          ],
          [
           878,
           "That Darn Cat! (1997)",
           33
          ],
          [
           879,
           "Peacemaker, The (1997)",
           136
          ],
          [
           880,
           "Soul Food (1997)",
           59
          ],
          [
           881,
           "Money Talks (1997)",
           45
          ],
          [
           882,
           "Washington Square (1997)",
           34
          ],
          [
           883,
           "Telling Lies in America (1997)",
           13
          ],
          [
           884,
           "Year of the Horse (1997)",
           7
          ],
          [
           885,
           "Phantoms (1998)",
           13
          ],
          [
           886,
           "Life Less Ordinary, A (1997)",
           53
          ],
          [
           887,
           "Eve's Bayou (1997)",
           64
          ],
          [
           888,
           "One Night Stand (1997)",
           15
          ],
          [
           889,
           "Tango Lesson, The (1997)",
           13
          ],
          [
           890,
           "Mortal Kombat: Annihilation (1997)",
           43
          ],
          [
           891,
           "Bent (1997)",
           6
          ],
          [
           892,
           "Flubber (1997)",
           53
          ],
          [
           893,
           "For Richer or Poorer (1997)",
           14
          ],
          [
           894,
           "Home Alone 3 (1997)",
           19
          ],
          [
           895,
           "Scream 2 (1997)",
           106
          ],
          [
           896,
           "Sweet Hereafter, The (1997)",
           44
          ],
          [
           897,
           "Time Tracers (1995)",
           2
          ],
          [
           898,
           "Postman, The (1997)",
           58
          ],
          [
           899,
           "Winter Guest, The (1997)",
           9
          ],
          [
           900,
           "Kundun (1997)",
           42
          ],
          [
           901,
           "Mr. Magoo (1997)",
           12
          ],
          [
           902,
           "Big Lebowski, The (1998)",
           42
          ],
          [
           903,
           "Afterglow (1997)",
           18
          ],
          [
           904,
           "Ma vie en rose (My Life in Pink) (1997)",
           20
          ],
          [
           905,
           "Great Expectations (1998)",
           27
          ],
          [
           906,
           "Oscar & Lucinda (1997)",
           21
          ],
          [
           907,
           "Vermin (1998)",
           2
          ],
          [
           908,
           "Half Baked (1998)",
           20
          ],
          [
           909,
           "Dangerous Beauty (1998)",
           13
          ],
          [
           910,
           "Nil By Mouth (1997)",
           4
          ],
          [
           911,
           "Twilight (1998)",
           4
          ],
          [
           912,
           "U.S. Marshalls (1998)",
           9
          ],
          [
           913,
           "Love and Death on Long Island (1997)",
           2
          ],
          [
           914,
           "Wild Things (1998)",
           11
          ],
          [
           915,
           "Primary Colors (1998)",
           13
          ],
          [
           916,
           "Lost in Space (1998)",
           18
          ],
          [
           917,
           "Mercury Rising (1998)",
           7
          ],
          [
           918,
           "City of Angels (1998)",
           8
          ],
          [
           919,
           "City of Lost Children, The (1995)",
           96
          ],
          [
           920,
           "Two Bits (1995)",
           5
          ],
          [
           921,
           "Farewell My Concubine (1993)",
           46
          ],
          [
           922,
           "Dead Man (1995)",
           34
          ],
          [
           923,
           "Raise the Red Lantern (1991)",
           58
          ],
          [
           924,
           "White Squall (1996)",
           85
          ],
          [
           925,
           "Unforgettable (1996)",
           34
          ],
          [
           926,
           "Down Periscope (1996)",
           101
          ],
          [
           927,
           "Flower of My Secret, The (Flor de mi secreto, La) (1995)",
           6
          ],
          [
           928,
           "Craft, The (1996)",
           104
          ],
          [
           929,
           "Harriet the Spy (1996)",
           40
          ],
          [
           930,
           "Chain Reaction (1996)",
           80
          ],
          [
           931,
           "Island of Dr. Moreau, The (1996)",
           57
          ],
          [
           932,
           "First Kid (1996)",
           40
          ],
          [
           933,
           "Funeral, The (1996)",
           21
          ],
          [
           934,
           "Preacher's Wife, The (1996)",
           68
          ],
          [
           935,
           "Paradise Road (1997)",
           7
          ],
          [
           936,
           "Brassed Off (1996)",
           32
          ],
          [
           937,
           "Thousand Acres, A (1997)",
           37
          ],
          [
           938,
           "Smile Like Yours, A (1997)",
           25
          ],
          [
           939,
           "Murder in the First (1995)",
           60
          ],
          [
           940,
           "Airheads (1994)",
           32
          ],
          [
           941,
           "With Honors (1994)",
           46
          ],
          [
           942,
           "What's Love Got to Do with It (1993)",
           45
          ],
          [
           943,
           "Killing Zoe (1994)",
           40
          ],
          [
           944,
           "Renaissance Man (1994)",
           43
          ],
          [
           945,
           "Charade (1963)",
           40
          ],
          [
           946,
           "Fox and the Hound, The (1981)",
           61
          ],
          [
           947,
           "Big Blue, The (Grand bleu, Le) (1988)",
           17
          ],
          [
           948,
           "Booty Call (1997)",
           48
          ],
          [
           949,
           "How to Make an American Quilt (1995)",
           71
          ],
          [
           950,
           "Georgia (1995)",
           30
          ],
          [
           951,
           "Indian in the Cupboard, The (1995)",
           39
          ],
          [
           952,
           "Blue in the Face (1995)",
           45
          ],
          [
           953,
           "Unstrung Heroes (1995)",
           22
          ],
          [
           954,
           "Unzipped (1995)",
           11
          ],
          [
           955,
           "Before Sunrise (1995)",
           49
          ],
          [
           956,
           "Nobody's Fool (1994)",
           46
          ],
          [
           957,
           "Pushing Hands (1992)",
           2
          ],
          [
           958,
           "To Live (Huozhe) (1994)",
           14
          ],
          [
           959,
           "Dazed and Confused (1993)",
           64
          ],
          [
           960,
           "Naked (1993)",
           25
          ],
          [
           961,
           "Orlando (1993)",
           34
          ],
          [
           962,
           "Ruby in Paradise (1993)",
           23
          ],
          [
           963,
           "Some Folks Call It a Sling Blade (1993)",
           41
          ],
          [
           964,
           "Month by the Lake, A (1995)",
           9
          ],
          [
           965,
           "Funny Face (1957)",
           21
          ],
          [
           966,
           "Affair to Remember, An (1957)",
           26
          ],
          [
           967,
           "Little Lord Fauntleroy (1936)",
           12
          ],
          [
           968,
           "Inspector General, The (1949)",
           18
          ],
          [
           969,
           "Winnie the Pooh and the Blustery Day (1968)",
           75
          ],
          [
           970,
           "Hear My Song (1991)",
           8
          ],
          [
           971,
           "Mediterraneo (1991)",
           34
          ],
          [
           972,
           "Passion Fish (1992)",
           28
          ],
          [
           973,
           "Grateful Dead (1995)",
           4
          ],
          [
           974,
           "Eye for an Eye (1996)",
           32
          ],
          [
           975,
           "Fear (1996)",
           44
          ],
          [
           976,
           "Solo (1996)",
           12
          ],
          [
           977,
           "Substitute, The (1996)",
           49
          ],
          [
           978,
           "Heaven's Prisoners (1996)",
           27
          ],
          [
           979,
           "Trigger Effect, The (1996)",
           35
          ],
          [
           980,
           "Mother Night (1996)",
           22
          ],
          [
           981,
           "Dangerous Ground (1997)",
           8
          ],
          [
           982,
           "Maximum Risk (1996)",
           20
          ],
          [
           983,
           "Rich Man's Wife, The (1996)",
           15
          ],
          [
           984,
           "Shadow Conspiracy (1997)",
           44
          ],
          [
           985,
           "Blood & Wine (1997)",
           22
          ],
          [
           986,
           "Turbulence (1997)",
           23
          ],
          [
           987,
           "Underworld (1997)",
           4
          ],
          [
           988,
           "Beautician and the Beast, The (1997)",
           86
          ],
          [
           989,
           "Cats Don't Dance (1997)",
           32
          ],
          [
           990,
           "Anna Karenina (1997)",
           33
          ],
          [
           991,
           "Keys to Tulsa (1997)",
           25
          ],
          [
           992,
           "Head Above Water (1996)",
           4
          ],
          [
           993,
           "Hercules (1997)",
           66
          ],
          [
           994,
           "Last Time I Committed Suicide, The (1997)",
           7
          ],
          [
           995,
           "Kiss Me, Guido (1997)",
           31
          ],
          [
           996,
           "Big Green, The (1995)",
           14
          ],
          [
           997,
           "Stuart Saves His Family (1995)",
           16
          ],
          [
           998,
           "Cabin Boy (1994)",
           16
          ],
          [
           999,
           "Clean Slate (1994)",
           10
          ],
          [
           1000,
           "Lightning Jack (1994)",
           10
          ],
          [
           1001,
           "Stupids, The (1996)",
           17
          ],
          [
           1002,
           "Pest, The (1997)",
           8
          ],
          [
           1003,
           "That Darn Cat! (1997)",
           8
          ],
          [
           1004,
           "Geronimo: An American Legend (1993)",
           9
          ],
          [
           1005,
           "Double vie de Véronique, La (Double Life of Veronique, The) (1991)",
           22
          ],
          [
           1006,
           "Until the End of the World (Bis ans Ende der Welt) (1991)",
           23
          ],
          [
           1007,
           "Waiting for Guffman (1996)",
           47
          ],
          [
           1008,
           "I Shot Andy Warhol (1996)",
           37
          ],
          [
           1009,
           "Stealing Beauty (1996)",
           64
          ],
          [
           1010,
           "Basquiat (1996)",
           44
          ],
          [
           1011,
           "2 Days in the Valley (1996)",
           93
          ],
          [
           1012,
           "Private Parts (1997)",
           100
          ],
          [
           1013,
           "Anaconda (1997)",
           38
          ],
          [
           1014,
           "Romy and Michele's High School Reunion (1997)",
           98
          ],
          [
           1015,
           "Shiloh (1997)",
           12
          ],
          [
           1016,
           "Con Air (1997)",
           137
          ],
          [
           1017,
           "Trees Lounge (1996)",
           50
          ],
          [
           1018,
           "Tie Me Up! Tie Me Down! (1990)",
           32
          ],
          [
           1019,
           "Die xue shuang xiong (Killer, The) (1989)",
           31
          ],
          [
           1020,
           "Gaslight (1944)",
           35
          ],
          [
           1021,
           "8 1/2 (1963)",
           38
          ],
          [
           1022,
           "Fast, Cheap & Out of Control (1997)",
           32
          ],
          [
           1023,
           "Fathers' Day (1997)",
           31
          ],
          [
           1024,
           "Mrs. Dalloway (1997)",
           15
          ],
          [
           1025,
           "Fire Down Below (1997)",
           44
          ],
          [
           1026,
           "Lay of the Land, The (1997)",
           4
          ],
          [
           1027,
           "Shooter, The (1995)",
           3
          ],
          [
           1028,
           "Grumpier Old Men (1995)",
           148
          ],
          [
           1029,
           "Jury Duty (1995)",
           14
          ],
          [
           1030,
           "Beverly Hillbillies, The (1993)",
           20
          ],
          [
           1031,
           "Lassie (1994)",
           7
          ],
          [
           1032,
           "Little Big League (1994)",
           16
          ],
          [
           1033,
           "Homeward Bound II: Lost in San Francisco (1996)",
           32
          ],
          [
           1034,
           "Quest, The (1996)",
           27
          ],
          [
           1035,
           "Cool Runnings (1993)",
           68
          ],
          [
           1036,
           "Drop Dead Fred (1991)",
           24
          ],
          [
           1037,
           "Grease 2 (1982)",
           24
          ],
          [
           1038,
           "Switchback (1997)",
           17
          ],
          [
           1039,
           "Hamlet (1996)",
           90
          ],
          [
           1040,
           "Two if by Sea (1996)",
           25
          ],
          [
           1041,
           "Forget Paris (1995)",
           62
          ],
          [
           1042,
           "Just Cause (1995)",
           28
          ],
          [
           1043,
           "Rent-a-Kid (1995)",
           8
          ],
          [
           1044,
           "Paper, The (1994)",
           40
          ],
          [
           1045,
           "Fearless (1993)",
           25
          ],
          [
           1046,
           "Malice (1993)",
           46
          ],
          [
           1047,
           "Multiplicity (1996)",
           134
          ],
          [
           1048,
           "She's the One (1996)",
           73
          ],
          [
           1049,
           "House Arrest (1996)",
           25
          ],
          [
           1050,
           "Ghost and Mrs. Muir, The (1947)",
           43
          ],
          [
           1051,
           "Associate, The (1996)",
           41
          ],
          [
           1052,
           "Dracula: Dead and Loving It (1995)",
           25
          ],
          [
           1053,
           "Now and Then (1995)",
           24
          ],
          [
           1054,
           "Mr. Wrong (1996)",
           23
          ],
          [
           1055,
           "Simple Twist of Fate, A (1994)",
           10
          ],
          [
           1056,
           "Cronos (1992)",
           10
          ],
          [
           1057,
           "Pallbearer, The (1996)",
           22
          ],
          [
           1058,
           "War, The (1994)",
           15
          ],
          [
           1059,
           "Don't Be a Menace to South Central While Drinking Your Juice in the Hood (1996)",
           35
          ],
          [
           1060,
           "Adventures of Pinocchio, The (1996)",
           39
          ],
          [
           1061,
           "Evening Star, The (1996)",
           29
          ],
          [
           1062,
           "Four Days in September (1997)",
           12
          ],
          [
           1063,
           "Little Princess, A (1995)",
           41
          ],
          [
           1064,
           "Crossfire (1947)",
           4
          ],
          [
           1065,
           "Koyaanisqatsi (1983)",
           53
          ],
          [
           1066,
           "Balto (1995)",
           16
          ],
          [
           1067,
           "Bottle Rocket (1996)",
           44
          ],
          [
           1068,
           "Star Maker, The (Uomo delle stelle, L') (1995)",
           12
          ],
          [
           1069,
           "Amateur (1994)",
           18
          ],
          [
           1070,
           "Living in Oblivion (1995)",
           27
          ],
          [
           1071,
           "Party Girl (1995)",
           16
          ],
          [
           1072,
           "Pyromaniac's Love Story, A (1995)",
           7
          ],
          [
           1073,
           "Shallow Grave (1994)",
           66
          ],
          [
           1074,
           "Reality Bites (1994)",
           77
          ],
          [
           1075,
           "Man of No Importance, A (1994)",
           7
          ],
          [
           1076,
           "Pagemaster, The (1994)",
           12
          ],
          [
           1077,
           "Love and a .45 (1994)",
           8
          ],
          [
           1078,
           "Oliver & Company (1988)",
           22
          ],
          [
           1079,
           "Joe's Apartment (1996)",
           45
          ],
          [
           1080,
           "Celestial Clockwork (1994)",
           2
          ],
          [
           1081,
           "Curdled (1996)",
           8
          ],
          [
           1082,
           "Female Perversions (1996)",
           8
          ],
          [
           1083,
           "Albino Alligator (1996)",
           6
          ],
          [
           1084,
           "Anne Frank Remembered (1995)",
           21
          ],
          [
           1085,
           "Carried Away (1996)",
           11
          ],
          [
           1086,
           "It's My Party (1995)",
           21
          ],
          [
           1087,
           "Bloodsport 2 (1995)",
           10
          ],
          [
           1088,
           "Double Team (1997)",
           13
          ],
          [
           1089,
           "Speed 2: Cruise Control (1997)",
           38
          ],
          [
           1090,
           "Sliver (1993)",
           37
          ],
          [
           1091,
           "Pete's Dragon (1977)",
           43
          ],
          [
           1092,
           "Dear God (1996)",
           12
          ],
          [
           1093,
           "Live Nude Girls (1995)",
           23
          ],
          [
           1094,
           "Thin Line Between Love and Hate, A (1996)",
           12
          ],
          [
           1095,
           "High School High (1996)",
           29
          ],
          [
           1096,
           "Commandments (1997)",
           3
          ],
          [
           1097,
           "Hate (Haine, La) (1995)",
           18
          ],
          [
           1098,
           "Flirting With Disaster (1996)",
           42
          ],
          [
           1099,
           "Red Firecracker, Green Firecracker (1994)",
           13
          ],
          [
           1100,
           "What Happened Was... (1994)",
           8
          ],
          [
           1101,
           "Six Degrees of Separation (1993)",
           74
          ],
          [
           1102,
           "Two Much (1996)",
           7
          ],
          [
           1103,
           "Trust (1990)",
           19
          ],
          [
           1104,
           "C'est arrivé près de chez vous (1992)",
           4
          ],
          [
           1105,
           "Firestorm (1998)",
           18
          ],
          [
           1106,
           "Newton Boys, The (1998)",
           4
          ],
          [
           1107,
           "Beyond Rangoon (1995)",
           18
          ],
          [
           1108,
           "Feast of July (1995)",
           5
          ],
          [
           1109,
           "Death and the Maiden (1994)",
           28
          ],
          [
           1110,
           "Tank Girl (1995)",
           41
          ],
          [
           1111,
           "Double Happiness (1994)",
           7
          ],
          [
           1112,
           "Cobb (1994)",
           15
          ],
          [
           1113,
           "Mrs. Parker and the Vicious Circle (1994)",
           22
          ],
          [
           1114,
           "Faithful (1996)",
           10
          ],
          [
           1115,
           "Twelfth Night (1996)",
           29
          ],
          [
           1116,
           "Mark of Zorro, The (1940)",
           13
          ],
          [
           1117,
           "Surviving Picasso (1996)",
           19
          ],
          [
           1118,
           "Up in Smoke (1978)",
           47
          ],
          [
           1119,
           "Some Kind of Wonderful (1987)",
           59
          ],
          [
           1120,
           "I'm Not Rappaport (1996)",
           17
          ],
          [
           1121,
           "Umbrellas of Cherbourg, The (Parapluies de Cherbourg, Les) (1964)",
           21
          ],
          [
           1122,
           "They Made Me a Criminal (1939)",
           1
          ],
          [
           1123,
           "Last Time I Saw Paris, The (1954)",
           3
          ],
          [
           1124,
           "Farewell to Arms, A (1932)",
           12
          ],
          [
           1125,
           "Innocents, The (1961)",
           4
          ],
          [
           1126,
           "Old Man and the Sea, The (1958)",
           32
          ],
          [
           1127,
           "Truman Show, The (1998)",
           11
          ],
          [
           1128,
           "Heidi Fleiss: Hollywood Madam (1995) ",
           13
          ],
          [
           1129,
           "Chungking Express (1994)",
           28
          ],
          [
           1130,
           "Jupiter's Wife (1994)",
           1
          ],
          [
           1131,
           "Safe (1995)",
           13
          ],
          [
           1132,
           "Feeling Minnesota (1996)",
           32
          ],
          [
           1133,
           "Escape to Witch Mountain (1975)",
           30
          ],
          [
           1134,
           "Get on the Bus (1996)",
           38
          ],
          [
           1135,
           "Doors, The (1991)",
           46
          ],
          [
           1136,
           "Ghosts of Mississippi (1996)",
           29
          ],
          [
           1137,
           "Beautiful Thing (1996)",
           29
          ],
          [
           1138,
           "Best Men (1997)",
           5
          ],
          [
           1139,
           "Hackers (1995)",
           33
          ],
          [
           1140,
           "Road to Wellville, The (1994)",
           17
          ],
          [
           1141,
           "War Room, The (1993)",
           9
          ],
          [
           1142,
           "When We Were Kings (1996)",
           44
          ],
          [
           1143,
           "Hard Eight (1996)",
           15
          ],
          [
           1144,
           "Quiet Room, The (1996)",
           3
          ],
          [
           1145,
           "Blue Chips (1994)",
           9
          ],
          [
           1146,
           "Calendar Girl (1993)",
           3
          ],
          [
           1147,
           "My Family (1995)",
           21
          ],
          [
           1148,
           "Tom & Viv (1994)",
           9
          ],
          [
           1149,
           "Walkabout (1971)",
           26
          ],
          [
           1150,
           "Last Dance (1996)",
           9
          ],
          [
           1151,
           "Original Gangstas (1996)",
           7
          ],
          [
           1152,
           "In Love and War (1996)",
           28
          ],
          [
           1153,
           "Backbeat (1993)",
           19
          ],
          [
           1154,
           "Alphaville (1965)",
           12
          ],
          [
           1155,
           "Rendezvous in Paris (Rendez-vous de Paris, Les) (1995)",
           3
          ],
          [
           1156,
           "Cyclo (1995)",
           1
          ],
          [
           1157,
           "Relic, The (1997)",
           25
          ],
          [
           1158,
           "Fille seule, La (A Single Girl) (1995)",
           4
          ],
          [
           1159,
           "Stalker (1979)",
           11
          ],
          [
           1160,
           "Love! Valour! Compassion! (1997)",
           26
          ],
          [
           1161,
           "Palookaville (1996)",
           13
          ],
          [
           1162,
           "Phat Beach (1996)",
           5
          ],
          [
           1163,
           "Portrait of a Lady, The (1996)",
           25
          ],
          [
           1164,
           "Zeus and Roxanne (1997)",
           6
          ],
          [
           1165,
           "Big Bully (1996)",
           14
          ],
          [
           1166,
           "Love & Human Remains (1993)",
           12
          ],
          [
           1167,
           "Sum of Us, The (1994)",
           11
          ],
          [
           1168,
           "Little Buddha (1993)",
           22
          ],
          [
           1169,
           "Fresh (1994)",
           10
          ],
          [
           1170,
           "Spanking the Monkey (1994)",
           27
          ],
          [
           1171,
           "Wild Reeds (1994)",
           14
          ],
          [
           1172,
           "Women, The (1939)",
           15
          ],
          [
           1173,
           "Bliss (1997)",
           7
          ],
          [
           1174,
           "Caught (1996)",
           8
          ],
          [
           1175,
           "Hugo Pool (1997)",
           5
          ],
          [
           1176,
           "Welcome To Sarajevo (1997)",
           22
          ],
          [
           1177,
           "Dunston Checks In (1996)",
           7
          ],
          [
           1178,
           "Major Payne (1994)",
           19
          ],
          [
           1179,
           "Man of the House (1995)",
           9
          ],
          [
           1180,
           "I Love Trouble (1994)",
           10
          ],
          [
           1181,
           "Low Down Dirty Shame, A (1994)",
           10
          ],
          [
           1182,
           "Cops and Robbersons (1994)",
           13
          ],
          [
           1183,
           "Cowboy Way, The (1994)",
           19
          ],
          [
           1184,
           "Endless Summer 2, The (1994)",
           10
          ],
          [
           1185,
           "In the Army Now (1994)",
           18
          ],
          [
           1186,
           "Inkwell, The (1994)",
           3
          ],
          [
           1187,
           "Switchblade Sisters (1975)",
           13
          ],
          [
           1188,
           "Young Guns II (1990)",
           44
          ],
          [
           1189,
           "Prefontaine (1997)",
           3
          ],
          [
           1190,
           "That Old Feeling (1997)",
           11
          ],
          [
           1191,
           "Letter From Death Row, A (1998)",
           3
          ],
          [
           1192,
           "Boys of St. Vincent, The (1993)",
           13
          ],
          [
           1193,
           "Before the Rain (Pred dozhdot) (1994)",
           10
          ],
          [
           1194,
           "Once Were Warriors (1994)",
           31
          ],
          [
           1195,
           "Strawberry and Chocolate (Fresa y chocolate) (1993)",
           11
          ],
          [
           1196,
           "Savage Nights (Nuits fauves, Les) (1992)",
           3
          ],
          [
           1197,
           "Family Thing, A (1996)",
           45
          ],
          [
           1198,
           "Purple Noon (1960)",
           7
          ],
          [
           1199,
           "Cemetery Man (Dellamorte Dellamore) (1994)",
           23
          ],
          [
           1200,
           "Kim (1950)",
           7
          ],
          [
           1201,
           "Marlene Dietrich: Shadow and Light (1996) ",
           1
          ],
          [
           1202,
           "Maybe, Maybe Not (Bewegte Mann, Der) (1994)",
           8
          ],
          [
           1203,
           "Top Hat (1935)",
           21
          ],
          [
           1204,
           "To Be or Not to Be (1942)",
           18
          ],
          [
           1205,
           "Secret Agent, The (1996)",
           6
          ],
          [
           1206,
           "Amos & Andrew (1993)",
           19
          ],
          [
           1207,
           "Jade (1995)",
           17
          ],
          [
           1208,
           "Kiss of Death (1995)",
           20
          ],
          [
           1209,
           "Mixed Nuts (1994)",
           15
          ],
          [
           1210,
           "Virtuosity (1995)",
           38
          ],
          [
           1211,
           "Blue Sky (1994)",
           12
          ],
          [
           1212,
           "Flesh and Bone (1993)",
           6
          ],
          [
           1213,
           "Guilty as Sin (1993)",
           6
          ],
          [
           1214,
           "In the Realm of the Senses (Ai no corrida) (1976)",
           9
          ],
          [
           1215,
           "Barb Wire (1996)",
           30
          ],
          [
           1216,
           "Kissed (1996)",
           6
          ],
          [
           1217,
           "Assassins (1995)",
           39
          ],
          [
           1218,
           "Friday (1995)",
           26
          ],
          [
           1219,
           "Goofy Movie, A (1995)",
           20
          ],
          [
           1220,
           "Higher Learning (1995)",
           30
          ],
          [
           1221,
           "When a Man Loves a Woman (1994)",
           39
          ],
          [
           1222,
           "Judgment Night (1993)",
           25
          ],
          [
           1223,
           "King of the Hill (1993)",
           4
          ],
          [
           1224,
           "Scout, The (1994)",
           12
          ],
          [
           1225,
           "Angus (1995)",
           14
          ],
          [
           1226,
           "Night Falls on Manhattan (1997)",
           32
          ],
          [
           1227,
           "Awfully Big Adventure, An (1995)",
           8
          ],
          [
           1228,
           "Under Siege 2: Dark Territory (1995)",
           48
          ],
          [
           1229,
           "Poison Ivy II (1995)",
           13
          ],
          [
           1230,
           "Ready to Wear (Pret-A-Porter) (1994)",
           18
          ],
          [
           1231,
           "Marked for Death (1990)",
           22
          ],
          [
           1232,
           "Madonna: Truth or Dare (1991)",
           17
          ],
          [
           1233,
           "Nénette et Boni (1996)",
           6
          ],
          [
           1234,
           "Chairman of the Board (1998)",
           8
          ],
          [
           1235,
           "Big Bang Theory, The (1994)",
           1
          ],
          [
           1236,
           "Other Voices, Other Rooms (1997)",
           1
          ],
          [
           1237,
           "Twisted (1996)",
           6
          ],
          [
           1238,
           "Full Speed (1996)",
           8
          ],
          [
           1239,
           "Cutthroat Island (1995)",
           18
          ],
          [
           1240,
           "Ghost in the Shell (Kokaku kidotai) (1995)",
           26
          ],
          [
           1241,
           "Van, The (1996)",
           6
          ],
          [
           1242,
           "Old Lady Who Walked in the Sea, The (Vieille qui marchait dans la mer, La) (1991)",
           5
          ],
          [
           1243,
           "Night Flier (1997)",
           7
          ],
          [
           1244,
           "Metro (1997)",
           36
          ],
          [
           1245,
           "Gridlock'd (1997)",
           19
          ],
          [
           1246,
           "Bushwhacked (1995)",
           7
          ],
          [
           1247,
           "Bad Girls (1994)",
           6
          ],
          [
           1248,
           "Blink (1994)",
           19
          ],
          [
           1249,
           "For Love or Money (1993)",
           12
          ],
          [
           1250,
           "Best of the Best 3: No Turning Back (1995)",
           6
          ],
          [
           1251,
           "A Chef in Love (1996)",
           8
          ],
          [
           1252,
           "Contempt (Mépris, Le) (1963)",
           9
          ],
          [
           1253,
           "Tie That Binds, The (1995)",
           7
          ],
          [
           1254,
           "Gone Fishin' (1997)",
           11
          ],
          [
           1255,
           "Broken English (1996)",
           8
          ],
          [
           1256,
           "Designated Mourner, The (1997)",
           3
          ],
          [
           1257,
           "Designated Mourner, The (1997)",
           4
          ],
          [
           1258,
           "Trial and Error (1997)",
           23
          ],
          [
           1259,
           "Pie in the Sky (1995)",
           4
          ],
          [
           1260,
           "Total Eclipse (1995)",
           4
          ],
          [
           1261,
           "Run of the Country, The (1995)",
           4
          ],
          [
           1262,
           "Walking and Talking (1996)",
           8
          ],
          [
           1263,
           "Foxfire (1996)",
           15
          ],
          [
           1264,
           "Nothing to Lose (1994)",
           7
          ],
          [
           1265,
           "Star Maps (1997)",
           19
          ],
          [
           1266,
           "Bread and Chocolate (Pane e cioccolata) (1973)",
           12
          ],
          [
           1267,
           "Clockers (1995)",
           33
          ],
          [
           1268,
           "Bitter Moon (1992)",
           10
          ],
          [
           1269,
           "Love in the Afternoon (1957)",
           10
          ],
          [
           1270,
           "Life with Mikey (1993)",
           7
          ],
          [
           1271,
           "North (1994)",
           7
          ],
          [
           1272,
           "Talking About Sex (1994)",
           5
          ],
          [
           1273,
           "Color of Night (1994)",
           15
          ],
          [
           1274,
           "Robocop 3 (1993)",
           11
          ],
          [
           1275,
           "Killer (Bulletproof Heart) (1994)",
           4
          ],
          [
           1276,
           "Sunset Park (1996)",
           8
          ],
          [
           1277,
           "Set It Off (1996)",
           19
          ],
          [
           1278,
           "Selena (1997)",
           16
          ],
          [
           1279,
           "Wild America (1997)",
           9
          ],
          [
           1280,
           "Gang Related (1997)",
           16
          ],
          [
           1281,
           "Manny & Lo (1996)",
           13
          ],
          [
           1282,
           "Grass Harp, The (1995)",
           9
          ],
          [
           1283,
           "Out to Sea (1997)",
           19
          ],
          [
           1284,
           "Before and After (1996)",
           26
          ],
          [
           1285,
           "Princess Caraboo (1994)",
           15
          ],
          [
           1286,
           "Shall We Dance? (1937)",
           17
          ],
          [
           1287,
           "Ed (1996)",
           6
          ],
          [
           1288,
           "Denise Calls Up (1995)",
           7
          ],
          [
           1289,
           "Jack and Sarah (1995)",
           7
          ],
          [
           1290,
           "Country Life (1994)",
           2
          ],
          [
           1291,
           "Celtic Pride (1996)",
           15
          ],
          [
           1292,
           "Simple Wish, A (1997)",
           3
          ],
          [
           1293,
           "Star Kid (1997)",
           3
          ],
          [
           1294,
           "Ayn Rand: A Sense of Life (1997)",
           7
          ],
          [
           1295,
           "Kicked in the Head (1997)",
           7
          ],
          [
           1296,
           "Indian Summer (1996)",
           20
          ],
          [
           1297,
           "Love Affair (1994)",
           12
          ],
          [
           1298,
           "Band Wagon, The (1953)",
           9
          ],
          [
           1299,
           "Penny Serenade (1941)",
           8
          ],
          [
           1300,
           "'Til There Was You (1997)",
           9
          ],
          [
           1301,
           "Stripes (1981)",
           5
          ],
          [
           1302,
           "Late Bloomers (1996)",
           5
          ],
          [
           1303,
           "Getaway, The (1994)",
           18
          ],
          [
           1304,
           "New York Cop (1996)",
           2
          ],
          [
           1305,
           "National Lampoon's Senior Trip (1995)",
           7
          ],
          [
           1306,
           "Delta of Venus (1994)",
           2
          ],
          [
           1307,
           "Carmen Miranda: Bananas Is My Business (1994)",
           2
          ],
          [
           1308,
           "Babyfever (1994)",
           2
          ],
          [
           1309,
           "Very Natural Thing, A (1974)",
           1
          ],
          [
           1310,
           "Walk in the Sun, A (1945)",
           1
          ],
          [
           1311,
           "Waiting to Exhale (1995)",
           16
          ],
          [
           1312,
           "Pompatus of Love, The (1996)",
           7
          ],
          [
           1313,
           "Palmetto (1998)",
           14
          ],
          [
           1314,
           "Surviving the Game (1994)",
           11
          ],
          [
           1315,
           "Inventing the Abbotts (1997)",
           23
          ],
          [
           1316,
           "Horse Whisperer, The (1998)",
           7
          ],
          [
           1317,
           "Journey of August King, The (1995)",
           4
          ],
          [
           1318,
           "Catwalk (1995)",
           3
          ],
          [
           1319,
           "Neon Bible, The (1995)",
           4
          ],
          [
           1320,
           "Homage (1995)",
           1
          ],
          [
           1321,
           "Open Season (1996)",
           2
          ],
          [
           1322,
           "Metisse (Café au Lait) (1993)",
           6
          ],
          [
           1323,
           "Wooden Man's Bride, The (Wu Kui) (1994)",
           3
          ],
          [
           1324,
           "Loaded (1994)",
           5
          ],
          [
           1325,
           "August (1996)",
           1
          ],
          [
           1326,
           "Boys (1996)",
           6
          ],
          [
           1327,
           "Captives (1994)",
           3
          ],
          [
           1328,
           "Of Love and Shadows (1994)",
           6
          ],
          [
           1329,
           "Low Life, The (1994)",
           1
          ],
          [
           1330,
           "An Unforgettable Summer (1994)",
           4
          ],
          [
           1331,
           "Last Klezmer: Leopold Kozlowski, His Life and Music, The (1995)",
           4
          ],
          [
           1332,
           "My Life and Times With Antonin Artaud (En compagnie d'Antonin Artaud) (1993)",
           2
          ],
          [
           1333,
           "Midnight Dancers (Sibak) (1994)",
           5
          ],
          [
           1334,
           "Somebody to Love (1994)",
           2
          ],
          [
           1335,
           "American Buffalo (1996)",
           11
          ],
          [
           1336,
           "Kazaam (1996)",
           10
          ],
          [
           1337,
           "Larger Than Life (1996)",
           9
          ],
          [
           1338,
           "Two Deaths (1995)",
           4
          ],
          [
           1339,
           "Stefano Quantestorie (1993)",
           1
          ],
          [
           1340,
           "Crude Oasis, The (1995)",
           1
          ],
          [
           1341,
           "Hedd Wyn (1992)",
           1
          ],
          [
           1342,
           "Convent, The (Convento, O) (1995)",
           2
          ],
          [
           1343,
           "Lotto Land (1995)",
           1
          ],
          [
           1344,
           "Story of Xinghua, The (1993)",
           5
          ],
          [
           1345,
           "Day the Sun Turned Cold, The (Tianguo niezi) (1994)",
           2
          ],
          [
           1346,
           "Dingo (1992)",
           5
          ],
          [
           1347,
           "Ballad of Narayama, The (Narayama Bushiko) (1958)",
           4
          ],
          [
           1348,
           "Every Other Weekend (1990)",
           1
          ],
          [
           1349,
           "Mille bolle blu (1993)",
           1
          ],
          [
           1350,
           "Crows and Sparrows (1949)",
           2
          ],
          [
           1351,
           "Lover's Knot (1996)",
           3
          ],
          [
           1352,
           "Shadow of Angels (Schatten der Engel) (1976)",
           1
          ],
          [
           1353,
           "1-900 (1994)",
           5
          ],
          [
           1354,
           "Venice/Venice (1992)",
           2
          ],
          [
           1355,
           "Infinity (1996)",
           6
          ],
          [
           1356,
           "Ed's Next Move (1996)",
           3
          ],
          [
           1357,
           "For the Moment (1994)",
           3
          ],
          [
           1358,
           "The Deadly Cure (1996)",
           2
          ],
          [
           1359,
           "Boys in Venice (1996)",
           2
          ],
          [
           1360,
           "Sexual Life of the Belgians, The (1994)",
           2
          ],
          [
           1361,
           "Search for One-eye Jimmy, The (1996)",
           3
          ],
          [
           1362,
           "American Strays (1996)",
           2
          ],
          [
           1363,
           "Leopard Son, The (1996)",
           1
          ],
          [
           1364,
           "Bird of Prey (1996)",
           1
          ],
          [
           1365,
           "Johnny 100 Pesos (1993)",
           2
          ],
          [
           1366,
           "JLG/JLG - autoportrait de décembre (1994)",
           1
          ],
          [
           1367,
           "Faust (1994)",
           5
          ],
          [
           1368,
           "Mina Tannenbaum (1994)",
           6
          ],
          [
           1369,
           "Forbidden Christ, The (Cristo proibito, Il) (1950)",
           4
          ],
          [
           1370,
           "I Can't Sleep (J'ai pas sommeil) (1994)",
           3
          ],
          [
           1371,
           "Machine, The (1994)",
           2
          ],
          [
           1372,
           "Stranger, The (1994)",
           3
          ],
          [
           1373,
           "Good Morning (1971)",
           1
          ],
          [
           1374,
           "Falling in Love Again (1980)",
           2
          ],
          [
           1375,
           "Cement Garden, The (1993)",
           10
          ],
          [
           1376,
           "Meet Wally Sparks (1997)",
           7
          ],
          [
           1377,
           "Hotel de Love (1996)",
           4
          ],
          [
           1378,
           "Rhyme & Reason (1997)",
           5
          ],
          [
           1379,
           "Love and Other Catastrophes (1996)",
           7
          ],
          [
           1380,
           "Hollow Reed (1996)",
           6
          ],
          [
           1381,
           "Losing Chase (1996)",
           8
          ],
          [
           1382,
           "Bonheur, Le (1965)",
           4
          ],
          [
           1383,
           "Second Jungle Book: Mowgli & Baloo, The (1997)",
           6
          ],
          [
           1384,
           "Squeeze (1996)",
           3
          ],
          [
           1385,
           "Roseanna's Grave (For Roseanna) (1997)",
           5
          ],
          [
           1386,
           "Tetsuo II: Body Hammer (1992)",
           6
          ],
          [
           1387,
           "Fall (1997)",
           3
          ],
          [
           1388,
           "Gabbeh (1996)",
           6
          ],
          [
           1389,
           "Mondo (1996)",
           3
          ],
          [
           1390,
           "Innocent Sleep, The (1995)",
           2
          ],
          [
           1391,
           "For Ever Mozart (1996)",
           3
          ],
          [
           1392,
           "Locusts, The (1997)",
           5
          ],
          [
           1393,
           "Stag (1997)",
           9
          ],
          [
           1394,
           "Swept from the Sea (1997)",
           7
          ],
          [
           1395,
           "Hurricane Streets (1998)",
           6
          ],
          [
           1396,
           "Stonewall (1995)",
           5
          ],
          [
           1397,
           "Of Human Bondage (1934)",
           5
          ],
          [
           1398,
           "Anna (1996)",
           2
          ],
          [
           1399,
           "Stranger in the House (1997)",
           7
          ],
          [
           1400,
           "Picture Bride (1995)",
           10
          ],
          [
           1401,
           "M. Butterfly (1993)",
           18
          ],
          [
           1402,
           "Ciao, Professore! (1993)",
           4
          ],
          [
           1403,
           "Caro Diario (Dear Diary) (1994)",
           4
          ],
          [
           1404,
           "Withnail and I (1987)",
           13
          ],
          [
           1405,
           "Boy's Life 2 (1997)",
           6
          ],
          [
           1406,
           "When Night Is Falling (1995)",
           5
          ],
          [
           1407,
           "Specialist, The (1994)",
           20
          ],
          [
           1408,
           "Gordy (1995)",
           3
          ],
          [
           1409,
           "Swan Princess, The (1994)",
           7
          ],
          [
           1410,
           "Harlem (1993)",
           4
          ],
          [
           1411,
           "Barbarella (1968)",
           28
          ],
          [
           1412,
           "Land Before Time III: The Time of the Great Giving (1995) (V)",
           6
          ],
          [
           1413,
           "Street Fighter (1994)",
           8
          ],
          [
           1414,
           "Coldblooded (1995)",
           1
          ],
          [
           1415,
           "Next Karate Kid, The (1994)",
           9
          ],
          [
           1416,
           "No Escape (1994)",
           5
          ],
          [
           1417,
           "Turning, The (1992)",
           2
          ],
          [
           1418,
           "Joy Luck Club, The (1993)",
           3
          ],
          [
           1419,
           "Highlander III: The Sorcerer (1994)",
           16
          ],
          [
           1420,
           "Gilligan's Island: The Movie (1998)",
           3
          ],
          [
           1421,
           "My Crazy Life (Mi vida loca) (1993)",
           11
          ],
          [
           1422,
           "Suture (1993)",
           4
          ],
          [
           1423,
           "Walking Dead, The (1995)",
           4
          ],
          [
           1424,
           "I Like It Like That (1994)",
           3
          ],
          [
           1425,
           "I'll Do Anything (1994)",
           10
          ],
          [
           1426,
           "Grace of My Heart (1996)",
           8
          ],
          [
           1427,
           "Drunks (1995)",
           5
          ],
          [
           1428,
           "SubUrbia (1997)",
           12
          ],
          [
           1429,
           "Sliding Doors (1998)",
           4
          ],
          [
           1430,
           "Ill Gotten Gains (1997)",
           3
          ],
          [
           1431,
           "Legal Deceit (1997)",
           5
          ],
          [
           1432,
           "Mighty, The (1998)",
           3
          ],
          [
           1433,
           "Men of Means (1998)",
           2
          ],
          [
           1434,
           "Shooting Fish (1997)",
           10
          ],
          [
           1435,
           "Steal Big, Steal Little (1995)",
           7
          ],
          [
           1436,
           "Mr. Jones (1993)",
           2
          ],
          [
           1437,
           "House Party 3 (1994)",
           9
          ],
          [
           1438,
           "Panther (1995)",
           5
          ],
          [
           1439,
           "Jason's Lyric (1994)",
           8
          ],
          [
           1440,
           "Above the Rim (1994)",
           5
          ],
          [
           1441,
           "Moonlight and Valentino (1995)",
           7
          ],
          [
           1442,
           "Scarlet Letter, The (1995)",
           5
          ],
          [
           1443,
           "8 Seconds (1994)",
           4
          ],
          [
           1444,
           "That Darn Cat! (1965)",
           19
          ],
          [
           1445,
           "Ladybird Ladybird (1994)",
           4
          ],
          [
           1446,
           "Bye Bye, Love (1995)",
           15
          ],
          [
           1447,
           "Century (1993)",
           1
          ],
          [
           1448,
           "My Favorite Season (1993)",
           3
          ],
          [
           1449,
           "Pather Panchali (1955)",
           8
          ],
          [
           1450,
           "Golden Earrings (1947)",
           2
          ],
          [
           1451,
           "Foreign Correspondent (1940)",
           15
          ],
          [
           1452,
           "Lady of Burlesque (1943)",
           1
          ],
          [
           1453,
           "Angel on My Shoulder (1946)",
           1
          ],
          [
           1454,
           "Angel and the Badman (1947)",
           6
          ],
          [
           1455,
           "Outlaw, The (1943)",
           2
          ],
          [
           1456,
           "Beat the Devil (1954)",
           7
          ],
          [
           1457,
           "Love Is All There Is (1996)",
           1
          ],
          [
           1458,
           "Damsel in Distress, A (1937)",
           1
          ],
          [
           1459,
           "Madame Butterfly (1995)",
           7
          ],
          [
           1460,
           "Sleepover (1995)",
           1
          ],
          [
           1461,
           "Here Comes Cookie (1935)",
           1
          ],
          [
           1462,
           "Thieves (Voleurs, Les) (1996)",
           7
          ],
          [
           1463,
           "Boys, Les (1997)",
           3
          ],
          [
           1464,
           "Stars Fell on Henrietta, The (1995)",
           3
          ],
          [
           1465,
           "Last Summer in the Hamptons (1995)",
           3
          ],
          [
           1466,
           "Margaret's Museum (1995)",
           6
          ],
          [
           1467,
           "Saint of Fort Washington, The (1993)",
           2
          ],
          [
           1468,
           "Cure, The (1995)",
           6
          ],
          [
           1469,
           "Tom and Huck (1995)",
           12
          ],
          [
           1470,
           "Gumby: The Movie (1995)",
           5
          ],
          [
           1471,
           "Hideaway (1995)",
           9
          ],
          [
           1472,
           "Visitors, The (Visiteurs, Les) (1993)",
           2
          ],
          [
           1473,
           "Little Princess, The (1939)",
           9
          ],
          [
           1474,
           "Nina Takes a Lover (1994)",
           6
          ],
          [
           1475,
           "Bhaji on the Beach (1993)",
           8
          ],
          [
           1476,
           "Raw Deal (1948)",
           1
          ],
          [
           1477,
           "Nightwatch (1997)",
           2
          ],
          [
           1478,
           "Dead Presidents (1995)",
           18
          ],
          [
           1479,
           "Reckless (1995)",
           8
          ],
          [
           1480,
           "Herbie Rides Again (1974)",
           11
          ],
          [
           1481,
           "S.F.W. (1994)",
           2
          ],
          [
           1482,
           "Gate of Heavenly Peace, The (1995)",
           1
          ],
          [
           1483,
           "Man in the Iron Mask, The (1998)",
           12
          ],
          [
           1484,
           "Jerky Boys, The (1994)",
           3
          ],
          [
           1485,
           "Colonel Chabert, Le (1994)",
           4
          ],
          [
           1486,
           "Girl in the Cadillac (1995)",
           1
          ],
          [
           1487,
           "Even Cowgirls Get the Blues (1993)",
           5
          ],
          [
           1488,
           "Germinal (1993)",
           4
          ],
          [
           1489,
           "Chasers (1994)",
           5
          ],
          [
           1490,
           "Fausto (1993)",
           3
          ],
          [
           1491,
           "Tough and Deadly (1995)",
           2
          ],
          [
           1492,
           "Window to Paris (1994)",
           1
          ],
          [
           1493,
           "Modern Affair, A (1995)",
           1
          ],
          [
           1494,
           "Mostro, Il (1994)",
           1
          ],
          [
           1495,
           "Flirt (1995)",
           5
          ],
          [
           1496,
           "Carpool (1996)",
           5
          ],
          [
           1497,
           "Line King: Al Hirschfeld, The (1996)",
           2
          ],
          [
           1498,
           "Farmer & Chase (1995)",
           1
          ],
          [
           1499,
           "Grosse Fatigue (1994)",
           4
          ],
          [
           1500,
           "Santa with Muscles (1996)",
           2
          ],
          [
           1501,
           "Prisoner of the Mountains (Kavkazsky Plennik) (1996)",
           5
          ],
          [
           1502,
           "Naked in New York (1994)",
           2
          ],
          [
           1503,
           "Gold Diggers: The Secret of Bear Mountain (1995)",
           10
          ],
          [
           1504,
           "Bewegte Mann, Der (1994)",
           3
          ],
          [
           1505,
           "Killer: A Journal of Murder (1995)",
           1
          ],
          [
           1506,
           "Nelly & Monsieur Arnaud (1995)",
           3
          ],
          [
           1507,
           "Three Lives and Only One Death (1996)",
           1
          ],
          [
           1508,
           "Babysitter, The (1995)",
           3
          ],
          [
           1509,
           "Getting Even with Dad (1994)",
           5
          ],
          [
           1510,
           "Mad Dog Time (1996)",
           1
          ],
          [
           1511,
           "Children of the Revolution (1996)",
           5
          ],
          [
           1512,
           "World of Apu, The (Apur Sansar) (1959)",
           6
          ],
          [
           1513,
           "Sprung (1997)",
           3
          ],
          [
           1514,
           "Dream With the Fishes (1997)",
           7
          ],
          [
           1515,
           "Wings of Courage (1995)",
           1
          ],
          [
           1516,
           "Wedding Gift, The (1994)",
           3
          ],
          [
           1517,
           "Race the Sun (1996)",
           5
          ],
          [
           1518,
           "Losing Isaiah (1995)",
           12
          ],
          [
           1519,
           "New Jersey Drive (1995)",
           2
          ],
          [
           1520,
           "Fear, The (1995)",
           1
          ],
          [
           1521,
           "Mr. Wonderful (1993)",
           4
          ],
          [
           1522,
           "Trial by Jury (1994)",
           7
          ],
          [
           1523,
           "Good Man in Africa, A (1994)",
           2
          ],
          [
           1524,
           "Kaspar Hauser (1993)",
           8
          ],
          [
           1525,
           "Object of My Affection, The (1998)",
           1
          ],
          [
           1526,
           "Witness (1985)",
           1
          ],
          [
           1527,
           "Senseless (1998)",
           7
          ],
          [
           1528,
           "Nowhere (1997)",
           3
          ],
          [
           1529,
           "Underground (1995)",
           5
          ],
          [
           1530,
           "Jefferson in Paris (1995)",
           5
          ],
          [
           1531,
           "Far From Home: The Adventures of Yellow Dog (1995)",
           7
          ],
          [
           1532,
           "Foreign Student (1994)",
           2
          ],
          [
           1533,
           "I Don't Want to Talk About It (De eso no se habla) (1993)",
           1
          ],
          [
           1534,
           "Twin Town (1997)",
           6
          ],
          [
           1535,
           "Enfer, L' (1994)",
           4
          ],
          [
           1536,
           "Aiqing wansui (1994)",
           1
          ],
          [
           1537,
           "Cosi (1996)",
           4
          ],
          [
           1538,
           "All Over Me (1997)",
           3
          ],
          [
           1539,
           "Being Human (1993)",
           4
          ],
          [
           1540,
           "Amazing Panda Adventure, The (1995)",
           10
          ],
          [
           1541,
           "Beans of Egypt, Maine, The (1994)",
           2
          ],
          [
           1542,
           "Scarlet Letter, The (1926)",
           2
          ],
          [
           1543,
           "Johns (1996)",
           1
          ],
          [
           1544,
           "It Takes Two (1995)",
           3
          ],
          [
           1545,
           "Frankie Starlight (1995)",
           4
          ],
          [
           1546,
           "Shadows (Cienie) (1988)",
           1
          ],
          [
           1547,
           "Show, The (1995)",
           2
          ],
          [
           1548,
           "The Courtyard (1995)",
           1
          ],
          [
           1549,
           "Dream Man (1995)",
           2
          ],
          [
           1550,
           "Destiny Turns on the Radio (1995)",
           2
          ],
          [
           1551,
           "Glass Shield, The (1994)",
           2
          ],
          [
           1552,
           "Hunted, The (1995)",
           3
          ],
          [
           1553,
           "Underneath, The (1995)",
           4
          ],
          [
           1554,
           "Safe Passage (1994)",
           2
          ],
          [
           1555,
           "Secret Adventures of Tom Thumb, The (1993)",
           5
          ],
          [
           1556,
           "Condition Red (1995)",
           2
          ],
          [
           1557,
           "Yankee Zulu (1994)",
           1
          ],
          [
           1558,
           "Aparajito (1956)",
           7
          ],
          [
           1559,
           "Hostile Intentions (1994)",
           1
          ],
          [
           1560,
           "Clean Slate (Coup de Torchon) (1981)",
           4
          ],
          [
           1561,
           "Tigrero: A Film That Was Never Made (1994)",
           1
          ],
          [
           1562,
           "Eye of Vichy, The (Oeil de Vichy, L') (1993)",
           1
          ],
          [
           1563,
           "Promise, The (Versprechen, Das) (1994)",
           1
          ],
          [
           1564,
           "To Cross the Rubicon (1991)",
           1
          ],
          [
           1565,
           "Daens (1992)",
           1
          ],
          [
           1566,
           "Man from Down Under, The (1943)",
           1
          ],
          [
           1567,
           "Careful (1992)",
           1
          ],
          [
           1568,
           "Vermont Is For Lovers (1992)",
           1
          ],
          [
           1569,
           "Vie est belle, La (Life is Rosey) (1987)",
           1
          ],
          [
           1570,
           "Quartier Mozart (1992)",
           1
          ],
          [
           1571,
           "Touki Bouki (Journey of the Hyena) (1973)",
           1
          ],
          [
           1572,
           "Wend Kuuni (God's Gift) (1982)",
           1
          ],
          [
           1573,
           "Spirits of the Dead (Tre passi nel delirio) (1968)",
           2
          ],
          [
           1574,
           "Pharaoh's Army (1995)",
           1
          ],
          [
           1575,
           "I, Worst of All (Yo, la peor de todas) (1990)",
           1
          ],
          [
           1576,
           "Hungarian Fairy Tale, A (1987)",
           1
          ],
          [
           1577,
           "Death in the Garden (Mort en ce jardin, La) (1956)",
           1
          ],
          [
           1578,
           "Collectionneuse, La (1967)",
           2
          ],
          [
           1579,
           "Baton Rouge (1988)",
           1
          ],
          [
           1580,
           "Liebelei (1933)",
           1
          ],
          [
           1581,
           "Woman in Question, The (1950)",
           1
          ],
          [
           1582,
           "T-Men (1947)",
           1
          ],
          [
           1583,
           "Invitation, The (Zaproszenie) (1986)",
           1
          ],
          [
           1584,
           "Symphonie pastorale, La (1946)",
           1
          ],
          [
           1585,
           "American Dream (1990)",
           2
          ],
          [
           1586,
           "Lashou shentan (1992)",
           1
          ],
          [
           1587,
           "Terror in a Texas Town (1958)",
           1
          ],
          [
           1588,
           "Salut cousin! (1996)",
           2
          ],
          [
           1589,
           "Schizopolis (1996)",
           4
          ],
          [
           1590,
           "To Have, or Not (1995)",
           2
          ],
          [
           1591,
           "Duoluo tianshi (1995)",
           6
          ],
          [
           1592,
           "Magic Hour, The (1998)",
           5
          ],
          [
           1593,
           "Death in Brunswick (1991)",
           1
          ],
          [
           1594,
           "Everest (1998)",
           2
          ],
          [
           1595,
           "Shopping (1994)",
           1
          ],
          [
           1596,
           "Nemesis 2: Nebula (1995)",
           1
          ],
          [
           1597,
           "Romper Stomper (1992)",
           5
          ],
          [
           1598,
           "City of Industry (1997)",
           6
          ],
          [
           1599,
           "Someone Else's America (1995)",
           1
          ],
          [
           1600,
           "Guantanamera (1994)",
           4
          ],
          [
           1601,
           "Office Killer (1997)",
           1
          ],
          [
           1602,
           "Price Above Rubies, A (1998)",
           3
          ],
          [
           1603,
           "Angela (1995)",
           1
          ],
          [
           1604,
           "He Walked by Night (1948)",
           1
          ],
          [
           1605,
           "Love Serenade (1996)",
           4
          ],
          [
           1606,
           "Deceiver (1997)",
           1
          ],
          [
           1607,
           "Hurricane Streets (1998)",
           3
          ],
          [
           1608,
           "Buddy (1997)",
           4
          ],
          [
           1609,
           "B*A*P*S (1997)",
           3
          ],
          [
           1610,
           "Truth or Consequences, N.M. (1997)",
           3
          ],
          [
           1611,
           "Intimate Relations (1996)",
           2
          ],
          [
           1612,
           "Leading Man, The (1996)",
           4
          ],
          [
           1613,
           "Tokyo Fist (1995)",
           1
          ],
          [
           1614,
           "Reluctant Debutante, The (1958)",
           1
          ],
          [
           1615,
           "Warriors of Virtue (1997)",
           10
          ],
          [
           1616,
           "Desert Winds (1995)",
           1
          ],
          [
           1617,
           "Hugo Pool (1997)",
           2
          ],
          [
           1618,
           "King of New York (1990)",
           1
          ],
          [
           1619,
           "All Things Fair (1996)",
           1
          ],
          [
           1620,
           "Sixth Man, The (1997)",
           9
          ],
          [
           1621,
           "Butterfly Kiss (1995)",
           1
          ],
          [
           1622,
           "Paris, France (1993)",
           3
          ],
          [
           1623,
           "Cérémonie, La (1995)",
           3
          ],
          [
           1624,
           "Hush (1998)",
           1
          ],
          [
           1625,
           "Nightwatch (1997)",
           1
          ],
          [
           1626,
           "Nobody Loves Me (Keiner liebt mich) (1994)",
           1
          ],
          [
           1627,
           "Wife, The (1995)",
           1
          ],
          [
           1628,
           "Lamerica (1994)",
           4
          ],
          [
           1629,
           "Nico Icon (1995)",
           2
          ],
          [
           1630,
           "Silence of the Palace, The (Saimt el Qusur) (1994)",
           1
          ],
          [
           1631,
           "Slingshot, The (1993)",
           2
          ],
          [
           1632,
           "Land and Freedom (Tierra y libertad) (1995)",
           1
          ],
          [
           1633,
           "Á köldum klaka (Cold Fever) (1994)",
           1
          ],
          [
           1634,
           "Etz Hadomim Tafus (Under the Domin Tree) (1994)",
           1
          ],
          [
           1635,
           "Two Friends (1986) ",
           1
          ],
          [
           1636,
           "Brothers in Trouble (1995)",
           1
          ],
          [
           1637,
           "Girls Town (1996)",
           1
          ],
          [
           1638,
           "Normal Life (1996)",
           1
          ],
          [
           1639,
           "Bitter Sugar (Azucar Amargo) (1996)",
           3
          ],
          [
           1640,
           "Eighth Day, The (1996)",
           1
          ],
          [
           1641,
           "Dadetown (1995)",
           1
          ],
          [
           1642,
           "Some Mother's Son (1996)",
           2
          ],
          [
           1643,
           "Angel Baby (1995)",
           4
          ],
          [
           1644,
           "Sudden Manhattan (1996)",
           2
          ],
          [
           1645,
           "Butcher Boy, The (1998)",
           1
          ],
          [
           1646,
           "Men With Guns (1997)",
           2
          ],
          [
           1647,
           "Hana-bi (1997)",
           1
          ],
          [
           1648,
           "Niagara, Niagara (1997)",
           1
          ],
          [
           1649,
           "Big One, The (1997)",
           1
          ],
          [
           1650,
           "Butcher Boy, The (1998)",
           1
          ],
          [
           1651,
           "Spanish Prisoner, The (1997)",
           1
          ],
          [
           1652,
           "Temptress Moon (Feng Yue) (1996)",
           3
          ],
          [
           1653,
           "Entertaining Angels: The Dorothy Day Story (1996)",
           1
          ],
          [
           1654,
           "Chairman of the Board (1998)",
           1
          ],
          [
           1655,
           "Favor, The (1994)",
           1
          ],
          [
           1656,
           "Little City (1998)",
           2
          ],
          [
           1657,
           "Target (1995)",
           1
          ],
          [
           1658,
           "Substance of Fire, The (1996)",
           3
          ],
          [
           1659,
           "Getting Away With Murder (1996)",
           1
          ],
          [
           1660,
           "Small Faces (1995)",
           1
          ],
          [
           1661,
           "New Age, The (1994)",
           1
          ],
          [
           1662,
           "Rough Magic (1995)",
           2
          ],
          [
           1663,
           "Nothing Personal (1995)",
           1
          ],
          [
           1664,
           "8 Heads in a Duffel Bag (1997)",
           4
          ],
          [
           1665,
           "Brother's Kiss, A (1997)",
           1
          ],
          [
           1666,
           "Ripe (1996)",
           1
          ],
          [
           1667,
           "Next Step, The (1995)",
           1
          ],
          [
           1668,
           "Wedding Bell Blues (1996)",
           1
          ],
          [
           1669,
           "MURDER and murder (1996)",
           1
          ],
          [
           1670,
           "Tainted (1998)",
           1
          ],
          [
           1671,
           "Further Gesture, A (1996)",
           1
          ],
          [
           1672,
           "Kika (1993)",
           2
          ],
          [
           1673,
           "Mirage (1995)",
           1
          ],
          [
           1674,
           "Mamma Roma (1962)",
           1
          ],
          [
           1675,
           "Sunchaser, The (1996)",
           1
          ],
          [
           1676,
           "War at Home, The (1996)",
           1
          ],
          [
           1677,
           "Sweet Nothing (1995)",
           1
          ],
          [
           1678,
           "Mat' i syn (1997)",
           1
          ],
          [
           1679,
           "B. Monkey (1998)",
           1
          ],
          [
           1680,
           "Sliding Doors (1998)",
           1
          ],
          [
           1681,
           "You So Crazy (1994)",
           1
          ],
          [
           1682,
           "Scream of Stone (Schrei aus Stein) (1991)",
           1
          ]
         ],
         "hovertemplate": "tsne_1=%{x}<br>tsne_2=%{y}<br>item_id=%{customdata[0]}<br>title=%{customdata[1]}<br>popularity=%{marker.color}<extra></extra>",
         "legendgroup": "",
         "marker": {
          "color": [
           452,
           131,
           90,
           209,
           86,
           26,
           392,
           219,
           299,
           89,
           236,
           267,
           184,
           183,
           293,
           39,
           92,
           10,
           69,
           72,
           84,
           297,
           182,
           174,
           293,
           73,
           57,
           276,
           114,
           37,
           154,
           81,
           97,
           7,
           11,
           13,
           8,
           120,
           87,
           57,
           37,
           148,
           40,
           79,
           80,
           27,
           133,
           117,
           81,
           583,
           81,
           91,
           128,
           104,
           149,
           394,
           40,
           175,
           83,
           64,
           59,
           127,
           82,
           283,
           115,
           162,
           103,
           134,
           321,
           251,
           220,
           129,
           128,
           7,
           5,
           54,
           151,
           33,
           336,
           68,
           110,
           261,
           176,
           18,
           58,
           150,
           138,
           213,
           275,
           95,
           143,
           104,
           112,
           137,
           219,
           295,
           256,
           390,
           172,
           508,
           73,
           54,
           15,
           5,
           74,
           71,
           42,
           65,
           130,
           31,
           272,
           20,
           9,
           67,
           15,
           125,
           378,
           293,
           4,
           67,
           429,
           106,
           115,
           187,
           244,
           97,
           413,
           65,
           129,
           23,
           95,
           246,
           171,
           198,
           259,
           105,
           171,
           19,
           50,
           61,
           72,
           57,
           222,
           243,
           65,
           10,
           185,
           128,
           23,
           157,
           326,
           82,
           247,
           174,
           98,
           148,
           127,
           60,
           101,
           69,
           220,
           106,
           92,
           151,
           64,
           58,
           67,
           316,
           118,
           121,
           65,
           367,
           324,
           420,
           208,
           284,
           137,
           125,
           221,
           221,
           507,
           226,
           291,
           116,
           239,
           251,
           209,
           170,
           66,
           124,
           276,
           116,
           157,
           241,
           301,
           251,
           239,
           127,
           165,
           206,
           89,
           280,
           182,
           350,
           136,
           50,
           66,
           200,
           191,
           331,
           206,
           92,
           134,
           114,
           212,
           290,
           120,
           171,
           111,
           66,
           74,
           365,
           136,
           44,
           109,
           166,
           161,
           244,
           171,
           199,
           142,
           101,
           124,
           280,
           217,
           45,
           384,
           256,
           150,
           156,
           128,
           117,
           132,
           48,
           240,
           124,
           5,
           160,
           130,
           197,
           46,
           158,
           26,
           62,
           172,
           16,
           303,
           509,
           162,
           127,
           43,
           66,
           19,
           101,
           227,
           35,
           9,
           255,
           315,
           136,
           211,
           198,
           223,
           190,
           268,
           298,
           71,
           60,
           28,
           85,
           146,
           232,
           177,
           193,
           162,
           481,
           78,
           478,
           259,
           96,
           127,
           114,
           147,
           485,
           77,
           6,
           50,
           194,
           73,
           431,
           230,
           297,
           134,
           149,
           87,
           96,
           188,
           30,
           28,
           145,
           75,
           80,
           350,
           5,
           160,
           112,
           102,
           298,
           168,
           20,
           169,
           218,
           240,
           125,
           128,
           175,
           175,
           295,
           45,
           41,
           113,
           143,
           251,
           64,
           21,
           43,
           18,
           91,
           47,
           189,
           11,
           52,
           124,
           55,
           65,
           126,
           137,
           27,
           31,
           41,
           20,
           26,
           14,
           72,
           41,
           97,
           264,
           143,
           18,
           10,
           10,
           28,
           47,
           37,
           48,
           47,
           170,
           31,
           55,
           39,
           67,
           34,
           39,
           11,
           23,
           24,
           13,
           101,
           43,
           116,
           100,
           111,
           31,
           69,
           208,
           87,
           65,
           28,
           27,
           10,
           59,
           68,
           192,
           12,
           56,
           54,
           12,
           26,
           89,
           18,
           76,
           170,
           201,
           101,
           344,
           49,
           43,
           112,
           70,
           162,
           163,
           93,
           55,
           62,
           25,
           64,
           73,
           129,
           178,
           81,
           106,
           26,
           300,
           19,
           85,
           32,
           219,
           121,
           97,
           93,
           153,
           174,
           171,
           67,
           216,
           99,
           5,
           6,
           5,
           14,
           53,
           4,
           162,
           46,
           22,
           9,
           121,
           85,
           117,
           63,
           170,
           66,
           16,
           16,
           145,
           48,
           27,
           90,
           24,
           28,
           74,
           148,
           71,
           27,
           85,
           52,
           48,
           64,
           67,
           108,
           221,
           158,
           126,
           194,
           250,
           160,
           95,
           104,
           179,
           179,
           63,
           128,
           243,
           138,
           125,
           64,
           68,
           65,
           52,
           50,
           67,
           59,
           60,
           56,
           59,
           231,
           68,
           152,
           62,
           31,
           123,
           57,
           39,
           122,
           68,
           90,
           98,
           215,
           121,
           121,
           173,
           57,
           72,
           180,
           201,
           63,
           91,
           89,
           80,
           124,
           120,
           35,
           164,
           46,
           73,
           124,
           195,
           121,
           93,
           80,
           129,
           22,
           15,
           13,
           54,
           10,
           30,
           66,
           44,
           43,
           49,
           51,
           21,
           71,
           12,
           254,
           41,
           12,
           92,
           151,
           24,
           45,
           63,
           102,
           10,
           12,
           17,
           70,
           137,
           22,
           59,
           48,
           29,
           27,
           22,
           179,
           35,
           230,
           67,
           50,
           28,
           29,
           33,
           15,
           44,
           93,
           41,
           92,
           19,
           32,
           59,
           168,
           37,
           79,
           39,
           34,
           14,
           202,
           43,
           18,
           178,
           9,
           12,
           5,
           64,
           127,
           206,
           4,
           1,
           2,
           20,
           50,
           209,
           81,
           31,
           66,
           66,
           30,
           60,
           41,
           40,
           34,
           27,
           51,
           59,
           64,
           18,
           18,
           64,
           43,
           11,
           39,
           39,
           22,
           82,
           4,
           75,
           169,
           77,
           31,
           119,
           58,
           69,
           24,
           23,
           91,
           38,
           44,
           40,
           82,
           33,
           89,
           4,
           35,
           27,
           38,
           70,
           67,
           50,
           72,
           171,
           90,
           34,
           147,
           227,
           44,
           131,
           79,
           115,
           153,
           88,
           82,
           116,
           46,
           100,
           5,
           12,
           6,
           13,
           36,
           46,
           65,
           86,
           48,
           54,
           77,
           1,
           219,
           107,
           34,
           27,
           100,
           49,
           169,
           157,
           50,
           69,
           44,
           87,
           155,
           16,
           164,
           91,
           44,
           13,
           79,
           40,
           10,
           102,
           15,
           10,
           53,
           19,
           24,
           137,
           6,
           70,
           101,
           104,
           79,
           1,
           51,
           72,
           13,
           87,
           58,
           82,
           16,
           29,
           86,
           54,
           58,
           34,
           76,
           16,
           14,
           63,
           45,
           81,
           24,
           39,
           180,
           15,
           27,
           137,
           78,
           59,
           31,
           164,
           63,
           58,
           267,
           39,
           92,
           16,
           119,
           102,
           316,
           51,
           124,
           180,
           39,
           24,
           57,
           96,
           128,
           4,
           21,
           11,
           46,
           44,
           115,
           149,
           29,
           32,
           9,
           11,
           52,
           42,
           57,
           41,
           49,
           17,
           32,
           26,
           9,
           4,
           76,
           31,
           69,
           84,
           10,
           37,
           2,
           39,
           14,
           13,
           3,
           47,
           66,
           10,
           86,
           10,
           46,
           21,
           36,
           31,
           9,
           5,
           26,
           16,
           40,
           9,
           8,
           27,
           50,
           9,
           31,
           43,
           45,
           18,
           18,
           56,
           1,
           112,
           21,
           3,
           25,
           40,
           93,
           22,
           4,
           82,
           49,
           83,
           80,
           57,
           13,
           34,
           1,
           91,
           22,
           49,
           25,
           15,
           26,
           25,
           4,
           4,
           53,
           48,
           27,
           30,
           42,
           176,
           44,
           55,
           9,
           53,
           4,
           4,
           1,
           14,
           16,
           66,
           36,
           1,
           3,
           15,
           16,
           3,
           18,
           24,
           86,
           21,
           119,
           6,
           5,
           24,
           9,
           75,
           42,
           81,
           39,
           53,
           47,
           52,
           33,
           136,
           59,
           45,
           34,
           13,
           7,
           13,
           53,
           64,
           15,
           13,
           43,
           6,
           53,
           14,
           19,
           106,
           44,
           2,
           58,
           9,
           42,
           12,
           42,
           18,
           20,
           27,
           21,
           2,
           20,
           13,
           4,
           4,
           9,
           2,
           11,
           13,
           18,
           7,
           8,
           96,
           5,
           46,
           34,
           58,
           85,
           34,
           101,
           6,
           104,
           40,
           80,
           57,
           40,
           21,
           68,
           7,
           32,
           37,
           25,
           60,
           32,
           46,
           45,
           40,
           43,
           40,
           61,
           17,
           48,
           71,
           30,
           39,
           45,
           22,
           11,
           49,
           46,
           2,
           14,
           64,
           25,
           34,
           23,
           41,
           9,
           21,
           26,
           12,
           18,
           75,
           8,
           34,
           28,
           4,
           32,
           44,
           12,
           49,
           27,
           35,
           22,
           8,
           20,
           15,
           44,
           22,
           23,
           4,
           86,
           32,
           33,
           25,
           4,
           66,
           7,
           31,
           14,
           16,
           16,
           10,
           10,
           17,
           8,
           8,
           9,
           22,
           23,
           47,
           37,
           64,
           44,
           93,
           100,
           38,
           98,
           12,
           137,
           50,
           32,
           31,
           35,
           38,
           32,
           31,
           15,
           44,
           4,
           3,
           148,
           14,
           20,
           7,
           16,
           32,
           27,
           68,
           24,
           24,
           17,
           90,
           25,
           62,
           28,
           8,
           40,
           25,
           46,
           134,
           73,
           25,
           43,
           41,
           25,
           24,
           23,
           10,
           10,
           22,
           15,
           35,
           39,
           29,
           12,
           41,
           4,
           53,
           16,
           44,
           12,
           18,
           27,
           16,
           7,
           66,
           77,
           7,
           12,
           8,
           22,
           45,
           2,
           8,
           8,
           6,
           21,
           11,
           21,
           10,
           13,
           38,
           37,
           43,
           12,
           23,
           12,
           29,
           3,
           18,
           42,
           13,
           8,
           74,
           7,
           19,
           4,
           18,
           4,
           18,
           5,
           28,
           41,
           7,
           15,
           22,
           10,
           29,
           13,
           19,
           47,
           59,
           17,
           21,
           1,
           3,
           12,
           4,
           32,
           11,
           13,
           28,
           1,
           13,
           32,
           30,
           38,
           46,
           29,
           29,
           5,
           33,
           17,
           9,
           44,
           15,
           3,
           9,
           3,
           21,
           9,
           26,
           9,
           7,
           28,
           19,
           12,
           3,
           1,
           25,
           4,
           11,
           26,
           13,
           5,
           25,
           6,
           14,
           12,
           11,
           22,
           10,
           27,
           14,
           15,
           7,
           8,
           5,
           22,
           7,
           19,
           9,
           10,
           10,
           13,
           19,
           10,
           18,
           3,
           13,
           44,
           3,
           11,
           3,
           13,
           10,
           31,
           11,
           3,
           45,
           7,
           23,
           7,
           1,
           8,
           21,
           18,
           6,
           19,
           17,
           20,
           15,
           38,
           12,
           6,
           6,
           9,
           30,
           6,
           39,
           26,
           20,
           30,
           39,
           25,
           4,
           12,
           14,
           32,
           8,
           48,
           13,
           18,
           22,
           17,
           6,
           8,
           1,
           1,
           6,
           8,
           18,
           26,
           6,
           5,
           7,
           36,
           19,
           7,
           6,
           19,
           12,
           6,
           8,
           9,
           7,
           11,
           8,
           3,
           4,
           23,
           4,
           4,
           4,
           8,
           15,
           7,
           19,
           12,
           33,
           10,
           10,
           7,
           7,
           5,
           15,
           11,
           4,
           8,
           19,
           16,
           9,
           16,
           13,
           9,
           19,
           26,
           15,
           17,
           6,
           7,
           7,
           2,
           15,
           3,
           3,
           7,
           7,
           20,
           12,
           9,
           8,
           9,
           5,
           5,
           18,
           2,
           7,
           2,
           2,
           2,
           1,
           1,
           16,
           7,
           14,
           11,
           23,
           7,
           4,
           3,
           4,
           1,
           2,
           6,
           3,
           5,
           1,
           6,
           3,
           6,
           1,
           4,
           4,
           2,
           5,
           2,
           11,
           10,
           9,
           4,
           1,
           1,
           1,
           2,
           1,
           5,
           2,
           5,
           4,
           1,
           1,
           2,
           3,
           1,
           5,
           2,
           6,
           3,
           3,
           2,
           2,
           2,
           3,
           2,
           1,
           1,
           2,
           1,
           5,
           6,
           4,
           3,
           2,
           3,
           1,
           2,
           10,
           7,
           4,
           5,
           7,
           6,
           8,
           4,
           6,
           3,
           5,
           6,
           3,
           6,
           3,
           2,
           3,
           5,
           9,
           7,
           6,
           5,
           5,
           2,
           7,
           10,
           18,
           4,
           4,
           13,
           6,
           5,
           20,
           3,
           7,
           4,
           28,
           6,
           8,
           1,
           9,
           5,
           2,
           3,
           16,
           3,
           11,
           4,
           4,
           3,
           10,
           8,
           5,
           12,
           4,
           3,
           5,
           3,
           2,
           10,
           7,
           2,
           9,
           5,
           8,
           5,
           7,
           5,
           4,
           19,
           4,
           15,
           1,
           3,
           8,
           2,
           15,
           1,
           1,
           6,
           2,
           7,
           1,
           1,
           7,
           1,
           1,
           7,
           3,
           3,
           3,
           6,
           2,
           6,
           12,
           5,
           9,
           2,
           9,
           6,
           8,
           1,
           2,
           18,
           8,
           11,
           2,
           1,
           12,
           3,
           4,
           1,
           5,
           4,
           5,
           3,
           2,
           1,
           1,
           1,
           5,
           5,
           2,
           1,
           4,
           2,
           5,
           2,
           10,
           3,
           1,
           3,
           1,
           3,
           5,
           1,
           5,
           6,
           3,
           7,
           1,
           3,
           5,
           12,
           2,
           1,
           4,
           7,
           2,
           8,
           1,
           1,
           7,
           3,
           5,
           5,
           7,
           2,
           1,
           6,
           4,
           1,
           4,
           3,
           4,
           10,
           2,
           2,
           1,
           3,
           4,
           1,
           2,
           1,
           2,
           2,
           2,
           3,
           4,
           2,
           5,
           2,
           1,
           7,
           1,
           4,
           1,
           1,
           1,
           1,
           1,
           1,
           1,
           1,
           1,
           1,
           1,
           1,
           2,
           1,
           1,
           1,
           1,
           2,
           1,
           1,
           1,
           1,
           1,
           1,
           2,
           1,
           1,
           2,
           4,
           2,
           6,
           5,
           1,
           2,
           1,
           1,
           5,
           6,
           1,
           4,
           1,
           3,
           1,
           1,
           4,
           1,
           3,
           4,
           3,
           3,
           2,
           4,
           1,
           1,
           10,
           1,
           2,
           1,
           1,
           9,
           1,
           3,
           3,
           1,
           1,
           1,
           1,
           4,
           2,
           1,
           2,
           1,
           1,
           1,
           1,
           1,
           1,
           1,
           3,
           1,
           1,
           2,
           4,
           2,
           1,
           2,
           1,
           1,
           1,
           1,
           1,
           3,
           1,
           1,
           1,
           2,
           1,
           3,
           1,
           1,
           1,
           2,
           1,
           4,
           1,
           1,
           1,
           1,
           1,
           1,
           1,
           2,
           1,
           1,
           1,
           1,
           1,
           1,
           1,
           1,
           1,
           1
          ],
          "coloraxis": "coloraxis",
          "symbol": "circle"
         },
         "mode": "markers",
         "name": "",
         "showlegend": false,
         "type": "scattergl",
         "x": [
          -9.818528175354004,
          -15.411211967468262,
          0.9393892884254456,
          -2.3036675453186035,
          -17.1419620513916,
          13.320633888244629,
          31.415563583374023,
          5.206745147705078,
          27.099365234375,
          15.990138053894043,
          -1.7984956502914429,
          32.01298522949219,
          28.666738510131836,
          23.49713134765625,
          -2.9394338130950928,
          23.55109214782715,
          2.3752148151397705,
          11.376297950744629,
          14.368371963500977,
          18.95311164855957,
          -10.066370964050293,
          -11.836831092834473,
          26.45621109008789,
          2.9280595779418945,
          2.5412068367004395,
          0.09481543302536011,
          1.257246494293213,
          -3.813939332962036,
          -17.19988250732422,
          21.05982780456543,
          -14.173460960388184,
          23.885299682617188,
          3.8959238529205322,
          -5.700438976287842,
          -16.809555053710938,
          -10.051648139953613,
          10.88537883758545,
          -18.035707473754883,
          13.49792194366455,
          -7.814204692840576,
          0.7716367840766907,
          31.4835147857666,
          -5.230010509490967,
          7.751756191253662,
          15.005044937133789,
          24.323474884033203,
          32.040016174316406,
          26.69131851196289,
          -4.548524379730225,
          -6.689800262451172,
          -8.378067970275879,
          19.549489974975586,
          18.679752349853516,
          -13.786116600036621,
          31.202186584472656,
          30.450292587280273,
          15.931344985961914,
          27.36924934387207,
          18.185081481933594,
          18.201066970825195,
          14.253149032592773,
          -19.379175186157227,
          -8.604763984680176,
          6.129350662231445,
          12.9069185256958,
          -11.325700759887695,
          -17.241565704345703,
          -7.391586780548096,
          -11.624509811401367,
          15.05486011505127,
          -6.990499973297119,
          -14.919519424438477,
          -14.559985160827637,
          21.349950790405273,
          -18.04450035095215,
          2.671579122543335,
          -11.607699394226074,
          -14.152557373046875,
          -11.339720726013184,
          -2.8293511867523193,
          22.433053970336914,
          -11.602433204650879,
          7.457820415496826,
          -5.768772125244141,
          -7.64304256439209,
          19.732982635498047,
          5.060513973236084,
          -9.456231117248535,
          29.812623977661133,
          1.5754258632659912,
          22.489986419677734,
          27.34282875061035,
          22.325361251831055,
          -11.99241828918457,
          -9.246294975280762,
          -6.121978759765625,
          2.631483316421509,
          6.168152332305908,
          6.931646347045898,
          28.555654525756836,
          -15.703527450561523,
          -8.171658515930176,
          -20.8287353515625,
          -22.109413146972656,
          -17.57508087158203,
          -6.8496575355529785,
          9.730237007141113,
          0.349072128534317,
          1.9034152030944824,
          -11.20962905883789,
          -3.723231077194214,
          -15.158917427062988,
          24.872337341308594,
          29.960121154785156,
          -2.0135812759399414,
          29.124574661254883,
          -18.085725784301758,
          -16.67756462097168,
          18.54339027404785,
          -25.473222732543945,
          -14.894660949707031,
          10.473752975463867,
          -19.05208396911621,
          27.36328887939453,
          -18.508094787597656,
          3.6202492713928223,
          30.355175018310547,
          2.975292921066284,
          0.9717066287994385,
          -12.915531158447266,
          25.018173217773438,
          23.895793914794922,
          4.118077278137207,
          27.32767677307129,
          29.279708862304688,
          5.71718692779541,
          26.35565185546875,
          -19.731281280517578,
          -23.147193908691406,
          -5.059849262237549,
          7.364754676818848,
          -7.566858291625977,
          4.279286861419678,
          -4.318690299987793,
          -18.042072296142578,
          -4.1362762451171875,
          -2.7529964447021484,
          -18.82558822631836,
          17.40581703186035,
          23.943098068237305,
          31.88803482055664,
          1.4112300872802734,
          -1.1265063285827637,
          31.92163848876953,
          -10.943848609924316,
          30.94854164123535,
          32.95515060424805,
          -15.507433891296387,
          -3.4754130840301514,
          26.006031036376953,
          -12.966535568237305,
          13.16746997833252,
          1.1109237670898438,
          -8.439294815063477,
          18.66657257080078,
          18.40191650390625,
          -7.96451473236084,
          31.16614532470703,
          10.366240501403809,
          17.190048217773438,
          22.168304443359375,
          -6.702014923095703,
          -6.602353096008301,
          -5.30839729309082,
          22.057209014892578,
          -3.7066357135772705,
          30.798770904541016,
          23.556079864501953,
          26.860170364379883,
          28.67061424255371,
          -6.81900691986084,
          30.402610778808594,
          -3.7195487022399902,
          -2.301215171813965,
          26.75927734375,
          -7.351374626159668,
          8.599432945251465,
          27.654138565063477,
          9.615376472473145,
          28.606224060058594,
          27.872608184814453,
          23.602306365966797,
          8.189513206481934,
          2.877378463745117,
          -5.998101234436035,
          6.874483585357666,
          24.659582138061523,
          29.89081382751465,
          10.440073013305664,
          30.7811222076416,
          24.04918098449707,
          -5.701260089874268,
          29.03750991821289,
          -7.954309463500977,
          7.380427837371826,
          22.564556121826172,
          12.647143363952637,
          4.359542369842529,
          29.075695037841797,
          -9.32410717010498,
          10.514704704284668,
          22.47484016418457,
          21.447235107421875,
          -0.18198060989379883,
          -8.438299179077148,
          3.1154041290283203,
          0.9263495206832886,
          -17.180665969848633,
          -17.366714477539062,
          1.8201463222503662,
          25.688514709472656,
          -10.348801612854004,
          31.360578536987305,
          13.61138916015625,
          -8.652566909790039,
          -19.843582153320312,
          -5.813808441162109,
          -5.867929458618164,
          -5.628332138061523,
          -13.453678131103516,
          -24.826313018798828,
          -16.250396728515625,
          -15.417539596557617,
          25.393815994262695,
          8.235493659973145,
          11.037829399108887,
          -4.397229194641113,
          29.394390106201172,
          -8.967422485351562,
          9.613760948181152,
          -1.7505139112472534,
          24.413930892944336,
          -23.926271438598633,
          5.446122646331787,
          -24.498531341552734,
          30.81888771057129,
          -14.232279777526855,
          -2.203169107437134,
          8.749995231628418,
          -19.20966339111328,
          14.044503211975098,
          -14.548274040222168,
          9.886250495910645,
          -21.148391723632812,
          -15.840337753295898,
          11.586675643920898,
          -9.479483604431152,
          -5.462450981140137,
          -24.570205688476562,
          0.28184324502944946,
          -14.948302268981934,
          25.970958709716797,
          -19.970443725585938,
          -2.736513137817383,
          -10.04659366607666,
          -3.4800987243652344,
          -2.8509879112243652,
          30.682268142700195,
          21.88576316833496,
          -5.285876750946045,
          -20.54678726196289,
          -25.703615188598633,
          -3.348295211791992,
          -10.294718742370605,
          20.767053604125977,
          27.11543083190918,
          1.939924716949463,
          -2.197141647338867,
          1.2972108125686646,
          -12.811883926391602,
          0.60602867603302,
          -18.713876724243164,
          7.450538635253906,
          -3.918919563293457,
          23.98528480529785,
          30.42890167236328,
          5.057563304901123,
          -26.388479232788086,
          -2.9969570636749268,
          -1.1246329545974731,
          -21.950876235961914,
          19.463340759277344,
          -2.6633050441741943,
          -23.052003860473633,
          -6.101261138916016,
          -1.948702096939087,
          10.153587341308594,
          -3.3487110137939453,
          5.227471351623535,
          -23.622121810913086,
          3.205110788345337,
          25.612197875976562,
          16.770153045654297,
          -23.94856071472168,
          21.209028244018555,
          15.946172714233398,
          -25.521575927734375,
          6.77194881439209,
          -22.09769058227539,
          -24.887680053710938,
          10.450763702392578,
          6.3067851066589355,
          -25.84038734436035,
          -16.461055755615234,
          8.818702697753906,
          8.701924324035645,
          10.1080904006958,
          6.055484294891357,
          16.54774284362793,
          17.12819480895996,
          7.953921318054199,
          -23.1835880279541,
          -22.382776260375977,
          19.038354873657227,
          0.2089902013540268,
          -20.900360107421875,
          1.7144256830215454,
          -23.409042358398438,
          0.8709578514099121,
          -0.164392352104187,
          1.7285720109939575,
          -24.490446090698242,
          -24.46611785888672,
          7.588252067565918,
          -4.851049423217773,
          -8.241923332214355,
          3.2990784645080566,
          -14.300433158874512,
          -5.085775852203369,
          21.0615234375,
          3.0751776695251465,
          -21.646337509155273,
          2.7771925926208496,
          12.63235855102539,
          17.529638290405273,
          25.07979393005371,
          0.23333372175693512,
          0.18828631937503815,
          -23.1998348236084,
          4.474187850952148,
          -13.250151634216309,
          -15.44664478302002,
          -19.165361404418945,
          -16.991931915283203,
          -2.2053098678588867,
          -9.874688148498535,
          28.358789443969727,
          -7.809464454650879,
          9.922281265258789,
          10.800726890563965,
          9.26361083984375,
          -2.0512900352478027,
          -4.914120674133301,
          -2.820518970489502,
          -7.9361748695373535,
          -16.63246726989746,
          5.535139083862305,
          -16.322111129760742,
          3.4504480361938477,
          -14.500524520874023,
          6.14293909072876,
          10.70422077178955,
          -14.420646667480469,
          -18.035673141479492,
          -10.995867729187012,
          -12.574606895446777,
          -16.71426773071289,
          -7.385293006896973,
          5.68028450012207,
          -14.271504402160645,
          20.439510345458984,
          16.812847137451172,
          -18.78135871887207,
          -14.264872550964355,
          -13.288925170898438,
          -3.66603422164917,
          13.809255599975586,
          -24.37839126586914,
          -9.695788383483887,
          13.087468147277832,
          -6.528513431549072,
          -6.578372001647949,
          -8.417201042175293,
          -6.945906639099121,
          -24.59632682800293,
          15.045744895935059,
          -24.228622436523438,
          -20.059276580810547,
          -14.457989692687988,
          -5.473105430603027,
          6.139188289642334,
          -10.605630874633789,
          -4.2283406257629395,
          8.346752166748047,
          -17.96839141845703,
          -8.551155090332031,
          -12.476276397705078,
          10.36924934387207,
          0.4679658114910126,
          3.0122716426849365,
          -15.014640808105469,
          11.291661262512207,
          -10.586670875549316,
          30.246883392333984,
          -11.352520942687988,
          1.684105634689331,
          -10.3841552734375,
          -7.192800045013428,
          4.628968238830566,
          29.132427215576172,
          1.6751619577407837,
          9.857975959777832,
          2.923215389251709,
          -21.528656005859375,
          23.87500762939453,
          -1.714823842048645,
          25.639190673828125,
          24.84707260131836,
          3.0268959999084473,
          10.91100025177002,
          -13.877901077270508,
          33.691741943359375,
          22.719594955444336,
          7.019303798675537,
          1.605215072631836,
          6.8077802658081055,
          -21.099153518676758,
          -20.03077507019043,
          -21.009769439697266,
          -16.70167350769043,
          -11.047270774841309,
          -16.240310668945312,
          27.023780822753906,
          17.72430992126465,
          3.9353957176208496,
          -12.245054244995117,
          29.387781143188477,
          -1.1011202335357666,
          1.627268671989441,
          -12.913362503051758,
          -8.34654712677002,
          -12.450395584106445,
          -24.573083877563477,
          -18.338733673095703,
          3.8568077087402344,
          -17.883577346801758,
          -14.832802772521973,
          11.143290519714355,
          8.638225555419922,
          5.25874662399292,
          20.258058547973633,
          20.383522033691406,
          18.32163429260254,
          12.115066528320312,
          -4.82900857925415,
          22.51082992553711,
          8.518091201782227,
          -4.543140888214111,
          22.866275787353516,
          -6.7618255615234375,
          -9.951672554016113,
          -10.50468635559082,
          17.095930099487305,
          27.51338768005371,
          27.075082778930664,
          -13.46641731262207,
          11.604403495788574,
          21.047008514404297,
          24.80716323852539,
          26.531984329223633,
          18.12332534790039,
          6.3054022789001465,
          24.780929565429688,
          9.210912704467773,
          9.036288261413574,
          4.404662609100342,
          5.920534133911133,
          20.5349178314209,
          18.903419494628906,
          20.46539306640625,
          2.894178628921509,
          30.506698608398438,
          25.722278594970703,
          7.422860145568848,
          -8.802895545959473,
          2.981830596923828,
          -3.056198835372925,
          22.2800350189209,
          18.899099349975586,
          1.8885772228240967,
          15.069162368774414,
          -1.896138310432434,
          15.389507293701172,
          23.681333541870117,
          20.503137588500977,
          24.09271240234375,
          29.086963653564453,
          28.74065589904785,
          22.760133743286133,
          5.763388633728027,
          26.862119674682617,
          12.392491340637207,
          14.008076667785645,
          25.800376892089844,
          8.487310409545898,
          14.75234317779541,
          26.131193161010742,
          21.933603286743164,
          24.72190284729004,
          2.1851279735565186,
          28.646873474121094,
          21.807626724243164,
          7.917324542999268,
          12.667585372924805,
          24.912395477294922,
          2.676478862762451,
          22.006349563598633,
          25.627891540527344,
          24.197341918945312,
          12.0014066696167,
          8.864968299865723,
          14.819786071777344,
          18.287809371948242,
          20.115591049194336,
          -1.7591845989227295,
          18.2666072845459,
          19.6826229095459,
          -26.40293312072754,
          -8.509858131408691,
          -12.748250007629395,
          -12.574893951416016,
          -14.24985408782959,
          19.577438354492188,
          5.474010467529297,
          -14.791473388671875,
          -17.235342025756836,
          12.068107604980469,
          13.004927635192871,
          10.731489181518555,
          -19.78512954711914,
          -10.576744079589844,
          -6.019002914428711,
          -6.914805889129639,
          -4.677364826202393,
          -17.031862258911133,
          12.60520076751709,
          15.095303535461426,
          22.393733978271484,
          -17.376543045043945,
          -3.9903481006622314,
          -11.827125549316406,
          -13.201131820678711,
          -8.875696182250977,
          -14.330422401428223,
          -12.29932975769043,
          -11.13011360168457,
          -10.957704544067383,
          -9.800947189331055,
          -2.2396984100341797,
          4.241732120513916,
          -25.165197372436523,
          -7.030817031860352,
          -10.672163963317871,
          -20.2545108795166,
          -24.181324005126953,
          -12.278940200805664,
          -24.703655242919922,
          -11.008848190307617,
          -10.16301441192627,
          12.71296215057373,
          21.81679344177246,
          20.587785720825195,
          18.31686782836914,
          11.08059310913086,
          -16.229761123657227,
          -25.180631637573242,
          5.130553722381592,
          -9.531688690185547,
          23.352664947509766,
          -21.4514217376709,
          -15.924420356750488,
          0.2573118507862091,
          13.029587745666504,
          14.380512237548828,
          -18.063945770263672,
          -4.194389343261719,
          -13.481744766235352,
          -10.273335456848145,
          -18.288036346435547,
          0.2269824743270874,
          7.0009565353393555,
          1.8933125734329224,
          25.58686065673828,
          18.553226470947266,
          11.94529914855957,
          21.800769805908203,
          20.104440689086914,
          15.980488777160645,
          3.5768165588378906,
          25.86668586730957,
          14.363260269165039,
          10.375456809997559,
          10.11015796661377,
          4.618239402770996,
          14.963433265686035,
          11.334378242492676,
          3.5819718837738037,
          28.868227005004883,
          2.5338211059570312,
          -10.524788856506348,
          -1.9483625888824463,
          6.197185516357422,
          -8.537975311279297,
          -1.7056732177734375,
          6.177768707275391,
          14.818857192993164,
          -9.907927513122559,
          -15.209877014160156,
          -6.182849884033203,
          -9.194499015808105,
          24.045738220214844,
          23.1579532623291,
          24.105520248413086,
          2.493025779724121,
          8.602025032043457,
          2.898548126220703,
          16.255657196044922,
          21.604076385498047,
          17.202796936035156,
          21.47862434387207,
          26.431663513183594,
          21.336589813232422,
          3.926354169845581,
          27.251441955566406,
          17.470783233642578,
          22.766456604003906,
          27.551694869995117,
          17.78408432006836,
          16.070884704589844,
          20.168807983398438,
          5.698164463043213,
          22.27588653564453,
          20.79544448852539,
          26.04557991027832,
          33.11934280395508,
          21.418611526489258,
          24.30182456970215,
          -12.417778015136719,
          8.15536117553711,
          5.720773220062256,
          28.857709884643555,
          -5.854222297668457,
          14.350109100341797,
          18.854337692260742,
          1.6401991844177246,
          -10.068936347961426,
          -9.26318645477295,
          9.279168128967285,
          -19.9068660736084,
          -1.9630043506622314,
          24.971233367919922,
          -2.391080617904663,
          -11.537178039550781,
          -1.796920895576477,
          21.62238311767578,
          -1.5899901390075684,
          -39.36240768432617,
          -23.893617630004883,
          -2.484616994857788,
          -3.5596227645874023,
          -6.251384735107422,
          -25.04599380493164,
          -21.769906997680664,
          0.8308262825012207,
          -16.541067123413086,
          3.178351640701294,
          -19.76421356201172,
          -6.553532600402832,
          -21.883222579956055,
          -1.7955299615859985,
          16.453289031982422,
          -9.38622760772705,
          26.044599533081055,
          21.3116512298584,
          15.493877410888672,
          2.037652015686035,
          8.518186569213867,
          2.564730167388916,
          5.786276340484619,
          5.063486099243164,
          18.30805015563965,
          6.297464847564697,
          9.336033821105957,
          -0.4954046308994293,
          18.861873626708984,
          2.8771443367004395,
          11.093170166015625,
          20.27923011779785,
          15.558086395263672,
          -3.9255502223968506,
          -39.47332763671875,
          1.87385094165802,
          16.299543380737305,
          8.770445823669434,
          25.313772201538086,
          -6.254384994506836,
          -12.59814167022705,
          12.38624382019043,
          -6.388192176818848,
          -8.953326225280762,
          1.7075873613357544,
          1.4443479776382446,
          5.250850200653076,
          14.869108200073242,
          -9.093777656555176,
          -7.735108375549316,
          -0.41715359687805176,
          -16.63619613647461,
          -15.015931129455566,
          29.478015899658203,
          -14.083551406860352,
          -8.276216506958008,
          16.640167236328125,
          -6.595719337463379,
          4.698672771453857,
          7.388878345489502,
          -0.5763746500015259,
          -5.673759937286377,
          -11.36176586151123,
          6.167522430419922,
          13.586114883422852,
          -17.237234115600586,
          -19.437345504760742,
          9.789315223693848,
          11.571809768676758,
          2.284473180770874,
          -0.7444813847541809,
          -19.280086517333984,
          0.7269866466522217,
          0.9374781250953674,
          -5.2927632331848145,
          -2.261796712875366,
          12.055991172790527,
          -0.7404228448867798,
          -8.744775772094727,
          -15.289670944213867,
          -7.041129112243652,
          -19.3250789642334,
          -18.84762191772461,
          6.193933010101318,
          -1.232555866241455,
          26.86258316040039,
          -18.13034439086914,
          6.347838878631592,
          -0.8501656651496887,
          1.7726116180419922,
          12.745957374572754,
          -6.353201866149902,
          -16.51786994934082,
          21.68440055847168,
          -22.601097106933594,
          23.257783889770508,
          15.219508171081543,
          -15.223848342895508,
          -16.8034610748291,
          -4.0491204261779785,
          -15.075479507446289,
          0.3048243820667267,
          -18.26007080078125,
          -2.8768696784973145,
          -14.71939468383789,
          5.968534469604492,
          -12.923107147216797,
          -39.730289459228516,
          0.6984840035438538,
          0.5932735800743103,
          -16.555042266845703,
          -38.190155029296875,
          15.002029418945312,
          -8.262592315673828,
          -11.230119705200195,
          30.75296974182129,
          16.8216552734375,
          -8.854188919067383,
          -21.67511558532715,
          -15.661382675170898,
          -5.307253360748291,
          -11.783096313476562,
          10.572064399719238,
          -1.8133763074874878,
          -6.889634132385254,
          -10.569623947143555,
          15.209182739257812,
          -12.875466346740723,
          7.61030387878418,
          13.49560546875,
          2.9414749145507812,
          -10.772214889526367,
          -14.797450065612793,
          -9.890164375305176,
          13.044055938720703,
          -14.152186393737793,
          16.345134735107422,
          -41.36284637451172,
          -14.939486503601074,
          -6.1045823097229,
          -3.83404541015625,
          13.987200736999512,
          -13.852762222290039,
          -15.983560562133789,
          -11.657264709472656,
          22.289806365966797,
          -4.11417818069458,
          12.320449829101562,
          -12.628130912780762,
          -23.122743606567383,
          -22.049039840698242,
          -13.431994438171387,
          -13.292399406433105,
          -17.6190242767334,
          -5.6420488357543945,
          -0.45830026268959045,
          -13.18392562866211,
          -20.97676658630371,
          16.219820022583008,
          16.81349754333496,
          2.515522003173828,
          -12.149724006652832,
          -17.694578170776367,
          -12.2898530960083,
          -20.71579933166504,
          15.023201942443848,
          -0.26395732164382935,
          23.82611083984375,
          6.317807197570801,
          -17.407852172851562,
          8.0941801071167,
          23.444725036621094,
          -19.627517700195312,
          19.392120361328125,
          19.389650344848633,
          -17.68840217590332,
          20.47323226928711,
          20.362905502319336,
          17.529666900634766,
          21.879331588745117,
          -0.9015139937400818,
          -22.178606033325195,
          3.0557875633239746,
          -11.698282241821289,
          20.238136291503906,
          -22.161386489868164,
          6.959482192993164,
          -3.9639711380004883,
          23.301513671875,
          -8.58633041381836,
          17.991737365722656,
          19.72275161743164,
          -16.677717208862305,
          -4.067095756530762,
          -20.832801818847656,
          12.929837226867676,
          -2.420743465423584,
          20.015180587768555,
          23.745847702026367,
          -9.49189567565918,
          -2.669999837875366,
          -13.886670112609863,
          -22.901639938354492,
          11.736616134643555,
          -9.531415939331055,
          9.582295417785645,
          8.36998176574707,
          13.74522590637207,
          -13.474662780761719,
          1.0578954219818115,
          16.968334197998047,
          3.2688610553741455,
          20.239322662353516,
          -19.691556930541992,
          -12.281187057495117,
          -21.56446075439453,
          -0.812675952911377,
          -5.519257545471191,
          -26.12557029724121,
          18.223846435546875,
          -16.943315505981445,
          6.489451885223389,
          11.510210037231445,
          11.488998413085938,
          -15.906373023986816,
          14.33239459991455,
          7.955817222595215,
          9.501089096069336,
          -22.637615203857422,
          -1.6417878866195679,
          -17.908761978149414,
          -3.848282814025879,
          8.320097923278809,
          -9.496675491333008,
          -9.40979290008545,
          6.646109104156494,
          -17.68364143371582,
          -26.670822143554688,
          4.4464240074157715,
          11.116219520568848,
          -0.6392611861228943,
          -10.0593843460083,
          24.412649154663086,
          2.2228713035583496,
          13.800863265991211,
          19.108795166015625,
          21.715011596679688,
          3.673800468444824,
          -13.066845893859863,
          -22.443485260009766,
          -23.12026023864746,
          -16.413469314575195,
          1.037878394126892,
          -14.813420295715332,
          -17.709083557128906,
          -21.566688537597656,
          -0.26630499958992004,
          -16.307735443115234,
          8.963047981262207,
          7.447237491607666,
          9.708386421203613,
          1.0513893365859985,
          -3.482969045639038,
          -9.643691062927246,
          -6.803129196166992,
          -0.18756242096424103,
          13.581018447875977,
          -12.163003921508789,
          2.1739213466644287,
          -5.156199932098389,
          21.37816619873047,
          -5.937905311584473,
          5.308027744293213,
          16.488426208496094,
          -7.174834251403809,
          25.999832153320312,
          16.722808837890625,
          -4.6740899085998535,
          17.317150115966797,
          25.242542266845703,
          16.69816017150879,
          12.21534538269043,
          11.896678924560547,
          16.744979858398438,
          18.8666934967041,
          14.312013626098633,
          8.293092727661133,
          17.76494598388672,
          16.860109329223633,
          -7.780294895172119,
          -0.2623472809791565,
          4.724935054779053,
          9.74035358428955,
          14.774900436401367,
          15.973270416259766,
          14.863082885742188,
          -0.6595409512519836,
          -15.57114028930664,
          3.874748468399048,
          -15.993900299072266,
          -16.878732681274414,
          5.645387172698975,
          -3.8106813430786133,
          18.079002380371094,
          -20.732397079467773,
          -21.507038116455078,
          -16.334264755249023,
          -23.570558547973633,
          9.194182395935059,
          -11.556365013122559,
          -12.159733772277832,
          -16.413162231445312,
          -5.076241493225098,
          2.908781051635742,
          12.783257484436035,
          -12.104287147521973,
          -8.703742980957031,
          10.770071983337402,
          12.258048057556152,
          -14.82601261138916,
          -10.991908073425293,
          -3.6591129302978516,
          -9.387077331542969,
          -3.8624823093414307,
          -22.628023147583008,
          -9.814114570617676,
          -13.754040718078613,
          -5.85821008682251,
          14.149500846862793,
          0.8810244798660278,
          6.000779628753662,
          14.763460159301758,
          8.5851411819458,
          18.815160751342773,
          15.771832466125488,
          3.7200748920440674,
          -17.9888973236084,
          3.3763482570648193,
          -2.5684025287628174,
          -18.014341354370117,
          23.41924285888672,
          11.985265731811523,
          16.929122924804688,
          22.793624877929688,
          20.90114402770996,
          3.2893643379211426,
          -22.1002254486084,
          14.52816390991211,
          -2.0329298973083496,
          4.165461540222168,
          -23.124807357788086,
          -14.934585571289062,
          -17.858131408691406,
          -19.282093048095703,
          -10.218002319335938,
          -15.087327003479004,
          -15.013648986816406,
          -17.252220153808594,
          -5.629639148712158,
          -14.366546630859375,
          -18.78418731689453,
          6.568600654602051,
          19.002992630004883,
          -15.929272651672363,
          -10.922657012939453,
          6.138586521148682,
          -1.5103791952133179,
          -3.7510430812835693,
          18.3735294342041,
          -8.469839096069336,
          -20.69945526123047,
          28.43830680847168,
          -15.04284381866455,
          7.477082252502441,
          1.6751635074615479,
          -5.7768330574035645,
          -11.222596168518066,
          -12.290454864501953,
          -11.80785083770752,
          6.737375259399414,
          10.260772705078125,
          -0.31616681814193726,
          -2.013385534286499,
          5.043269157409668,
          -12.691763877868652,
          12.195951461791992,
          -3.6326792240142822,
          22.440187454223633,
          14.242379188537598,
          9.666688919067383,
          10.170050621032715,
          10.027902603149414,
          3.0645132064819336,
          26.530019760131836,
          10.816217422485352,
          -4.573559284210205,
          21.379182815551758,
          -11.731760025024414,
          3.352177381515503,
          -8.502215385437012,
          11.412053108215332,
          -10.071133613586426,
          -8.40733814239502,
          20.54681396484375,
          8.967911720275879,
          12.839192390441895,
          -8.223899841308594,
          11.165558815002441,
          18.36711311340332,
          3.8236043453216553,
          -24.424057006835938,
          -3.8626346588134766,
          -19.428775787353516,
          -16.3414363861084,
          -2.0603954792022705,
          -9.862727165222168,
          12.08851146697998,
          -9.584503173828125,
          -11.94540786743164,
          -9.153038024902344,
          10.148051261901855,
          14.568984031677246,
          20.27400016784668,
          -9.467514038085938,
          6.125051975250244,
          -19.26627540588379,
          29.881851196289062,
          -12.574610710144043,
          -13.310202598571777,
          8.110335350036621,
          7.6851806640625,
          18.987245559692383,
          8.904486656188965,
          3.131559371948242,
          16.915821075439453,
          -10.047121047973633,
          19.947704315185547,
          7.938338279724121,
          4.339270114898682,
          19.44130516052246,
          6.993876934051514,
          19.265287399291992,
          -1.2458699941635132,
          -0.6026332378387451,
          12.00383472442627,
          10.054990768432617,
          19.191652297973633,
          1.5907812118530273,
          11.682083129882812,
          13.351953506469727,
          4.941399097442627,
          18.224143981933594,
          13.299769401550293,
          2.1357951164245605,
          24.78519058227539,
          0.3338359594345093,
          5.9570488929748535,
          10.840760231018066,
          2.4736862182617188,
          -1.7447072267532349,
          14.620739936828613,
          -8.379522323608398,
          -19.547807693481445,
          -9.547018051147461,
          14.187145233154297,
          29.104534149169922,
          23.67049217224121,
          13.613348007202148,
          -14.147388458251953,
          -23.969173431396484,
          15.674875259399414,
          17.54623794555664,
          28.64761734008789,
          12.35435676574707,
          -6.974002361297607,
          -3.9894027709960938,
          13.40445327758789,
          2.113555431365967,
          -40.03736114501953,
          11.281115531921387,
          -16.379484176635742,
          14.534228324890137,
          2.5089311599731445,
          3.837367057800293,
          14.13022518157959,
          -16.890764236450195,
          -3.3785390853881836,
          -3.82170033454895,
          -20.832307815551758,
          7.057096004486084,
          4.649954795837402,
          -2.7402353286743164,
          21.78992462158203,
          20.410293579101562,
          9.701128005981445,
          19.065216064453125,
          -8.056965827941895,
          13.052226066589355,
          3.060668468475342,
          11.662206649780273,
          -14.421730995178223,
          -17.777585983276367,
          -20.900190353393555,
          -13.00344467163086,
          -14.417115211486816,
          -16.777971267700195,
          -20.231990814208984,
          6.51094388961792,
          -20.126676559448242,
          14.656715393066406,
          18.97942543029785,
          2.251474142074585,
          -8.675496101379395,
          -16.634496688842773,
          14.20311164855957,
          17.495990753173828,
          11.270988464355469,
          15.287944793701172,
          16.9664363861084,
          14.2294282913208,
          8.70056438446045,
          14.11251449584961,
          12.921337127685547,
          7.662032127380371,
          -41.091827392578125,
          20.39214324951172,
          18.79927635192871,
          26.102384567260742,
          -3.929584264755249,
          -15.036460876464844,
          -16.294878005981445,
          4.804721832275391,
          -23.3922176361084,
          -6.001445293426514,
          23.994670867919922,
          9.39330005645752,
          -5.810184955596924,
          -9.543408393859863,
          -12.682942390441895,
          9.753523826599121,
          -11.950057029724121,
          -4.056247234344482,
          -4.560291767120361,
          -19.403905868530273,
          -5.769143581390381,
          6.341492652893066,
          17.399425506591797,
          -1.3631783723831177,
          -9.975451469421387,
          12.842360496520996,
          -9.90732192993164,
          -10.700348854064941,
          -14.859082221984863,
          -10.921724319458008,
          -4.107490539550781,
          14.054085731506348,
          15.862580299377441,
          -0.5755675435066223,
          -0.08269169181585312,
          -41.49155044555664,
          -0.772765576839447,
          -1.5043187141418457,
          -17.458436965942383,
          12.880318641662598,
          12.239092826843262,
          -7.4480791091918945,
          0.1988031566143036,
          -8.960609436035156,
          25.08274269104004,
          -19.633047103881836,
          -16.741243362426758,
          12.276135444641113,
          -14.645767211914062,
          -16.54914093017578,
          11.471638679504395,
          6.551153659820557,
          -8.080033302307129,
          -7.001590728759766,
          14.528858184814453,
          -8.677203178405762,
          -12.788125991821289,
          -0.46880483627319336,
          -8.29372501373291,
          -13.895902633666992,
          10.176133155822754,
          13.183507919311523,
          16.498634338378906,
          5.367203712463379,
          4.741216659545898,
          9.308002471923828,
          9.527151107788086,
          12.310463905334473,
          -9.488215446472168,
          -20.43383026123047,
          -12.611034393310547,
          -8.046692848205566,
          -12.134174346923828,
          -17.23858642578125,
          -11.060272216796875,
          -18.565763473510742,
          1.794674038887024,
          -2.646470069885254,
          -4.007522106170654,
          9.168181419372559,
          8.292841911315918,
          5.755321979522705,
          -16.253538131713867,
          -3.484574317932129,
          -9.640560150146484,
          23.2725887298584,
          -22.091054916381836,
          7.660341739654541,
          -9.781304359436035,
          -40.32209777832031,
          7.789031028747559,
          -5.53377103805542,
          9.063560485839844,
          -24.533517837524414,
          -6.535695552825928,
          7.283630847930908,
          1.4039561748504639,
          12.297019004821777,
          7.855203628540039,
          -15.235702514648438,
          -4.581629276275635,
          15.579968452453613,
          -12.00589656829834,
          -38.022605895996094,
          -2.814117431640625,
          -0.5540614128112793,
          -15.228569030761719,
          -21.418920516967773,
          -39.16222381591797,
          -1.676558256149292,
          -5.371542930603027,
          -0.6353266835212708,
          7.797891139984131,
          -8.673511505126953,
          -3.8618290424346924,
          1.865602970123291,
          -22.045045852661133,
          -10.448232650756836,
          -9.204397201538086,
          -23.238555908203125,
          0.23105782270431519,
          11.001925468444824,
          10.525115966796875,
          -6.1475114822387695,
          -22.968488693237305,
          13.945429801940918,
          -13.95435905456543,
          7.593111515045166,
          -39.881805419921875,
          14.703301429748535,
          13.131430625915527,
          -7.4380059242248535,
          21.996091842651367,
          -22.761554718017578,
          6.078353404998779,
          -18.065397262573242,
          -18.86033821105957,
          -0.6601319909095764,
          -23.05289649963379,
          -23.11733627319336,
          -23.340871810913086,
          -1.6846961975097656,
          -23.41262435913086,
          10.913907051086426,
          -19.71126365661621,
          2.579563856124878,
          -9.096935272216797,
          -22.68252182006836,
          -39.913551330566406,
          -22.969364166259766,
          15.749244689941406,
          -22.837678909301758,
          9.718656539916992,
          -22.873332977294922,
          -13.221175193786621,
          16.07538414001465,
          -14.732393264770508,
          11.589791297912598,
          -22.492708206176758,
          -10.206380844116211,
          24.78736686706543,
          -23.538097381591797,
          -22.677467346191406,
          -39.66203689575195,
          -11.424803733825684,
          -22.400503158569336,
          20.881183624267578,
          23.284692764282227,
          17.204736709594727,
          11.632884979248047,
          -14.686201095581055,
          17.743194580078125,
          -23.06658935546875,
          -23.00347328186035,
          12.899422645568848,
          -20.18147087097168,
          10.747652053833008,
          17.678497314453125,
          16.241897583007812,
          15.310311317443848,
          3.419689655303955,
          10.90107250213623,
          -4.95789909362793,
          -18.727720260620117,
          10.189858436584473,
          -20.67915153503418,
          -3.7137696743011475,
          12.553892135620117,
          -3.5147273540496826,
          -3.7140040397644043,
          -3.1652631759643555,
          -13.127839088439941,
          -12.009498596191406,
          2.997755289077759,
          13.773052215576172,
          10.754033088684082,
          23.74986457824707,
          26.406309127807617,
          -6.156583309173584,
          5.347440242767334,
          0.3317612111568451,
          -12.21129035949707,
          16.50611686706543,
          20.713592529296875,
          23.23090171813965,
          4.97639799118042,
          -14.169475555419922,
          -17.93143081665039,
          -7.7186598777771,
          -15.803152084350586,
          20.765018463134766,
          -10.956260681152344,
          -5.006109237670898,
          -12.765593528747559,
          -21.145421981811523,
          -10.157614707946777,
          6.845216751098633,
          23.380027770996094,
          -20.811790466308594,
          -15.489107131958008,
          4.554050922393799,
          3.809253692626953,
          -11.027594566345215,
          16.473777770996094,
          11.346548080444336,
          3.901283025741577,
          7.656575679779053,
          23.37143325805664,
          1.1394644975662231,
          0.5961177945137024,
          0.4706115424633026,
          -15.059125900268555,
          6.396164894104004,
          9.053628921508789,
          -0.5666648745536804,
          -9.31360149383545,
          -6.389573097229004,
          10.37378978729248,
          -10.564298629760742,
          -7.140921592712402,
          -7.884982585906982,
          -15.055868148803711,
          -4.494808673858643,
          -3.822340488433838,
          22.341554641723633,
          -21.057714462280273,
          13.655719757080078,
          -40.76130294799805,
          28.414331436157227,
          13.623884201049805,
          6.675416469573975,
          14.254722595214844,
          -38.85829162597656,
          7.216768264770508,
          5.599918365478516,
          13.82492733001709,
          13.68392276763916,
          14.31972599029541,
          22.070831298828125,
          -38.27745056152344,
          -9.942371368408203,
          21.108373641967773,
          -15.928058624267578,
          2.1819803714752197,
          7.4736199378967285,
          19.420581817626953,
          12.450934410095215,
          3.96972393989563,
          -7.398401737213135,
          -14.605239868164062,
          -10.89382266998291,
          -37.46570587158203,
          6.393438816070557,
          -0.25149020552635193,
          13.612375259399414,
          -39.5112419128418,
          -3.7953073978424072,
          -0.8209788203239441,
          -1.1836074590682983,
          -24.38506317138672,
          -4.710537433624268,
          29.15614891052246,
          -14.286173820495605,
          0.03556383028626442,
          1.8755171298980713,
          -18.04580307006836,
          -8.820908546447754,
          5.01798677444458,
          -21.251726150512695,
          -3.449810266494751,
          -38.95655059814453,
          0.33897435665130615,
          -40.73383712768555,
          -18.102436065673828,
          1.7560195922851562,
          -16.910903930664062,
          -15.271820068359375,
          -3.2444169521331787,
          19.33967399597168,
          12.395113945007324,
          17.093660354614258,
          -17.531028747558594,
          -11.203018188476562,
          0.7028374671936035,
          -39.82810592651367,
          20.839624404907227,
          12.536724090576172,
          -17.84896469116211,
          -15.315916061401367,
          -10.544583320617676,
          8.984773635864258,
          28.26510238647461,
          -10.284399032592773,
          1.7070109844207764,
          21.94987678527832,
          5.709043979644775,
          -15.871578216552734,
          -13.627079963684082,
          -15.513585090637207,
          -15.605239868164062,
          -0.6087812185287476,
          -15.776188850402832,
          -8.091444969177246,
          18.31521224975586,
          19.972454071044922,
          -37.805755615234375,
          -6.6283698081970215,
          11.684773445129395,
          9.100339889526367,
          -13.267581939697266,
          0.43965795636177063,
          -9.148163795471191,
          18.84498405456543,
          -10.822211265563965,
          15.117594718933105,
          20.742143630981445,
          22.41948890686035,
          11.425013542175293,
          -14.957059860229492,
          -15.68376350402832,
          21.50238609313965,
          -8.605062484741211,
          -39.80339431762695,
          -0.44218361377716064,
          -0.7075284123420715,
          -22.78207015991211,
          -39.676753997802734,
          -23.440319061279297,
          -23.070812225341797,
          -26.25507164001465,
          -37.863590240478516,
          1.461592435836792,
          -0.7333418726921082,
          -26.309585571289062,
          15.619751930236816,
          -2.404690742492676,
          -22.993837356567383,
          14.984240531921387,
          -22.155622482299805,
          15.863755226135254,
          -22.354381561279297,
          -23.30246925354004,
          -22.00741195678711,
          -36.86869812011719,
          -22.211101531982422,
          -38.780174255371094,
          -40.5003776550293,
          -23.055095672607422,
          -18.802810668945312,
          -39.06186294555664,
          -22.858659744262695,
          -21.904380798339844,
          -22.783885955810547,
          -23.31079864501953,
          -22.76656150817871,
          -22.272159576416016,
          -22.171470642089844,
          15.16357707977295,
          -21.870891571044922,
          -22.876201629638672,
          -38.65681076049805,
          -22.79735565185547,
          -40.32143020629883,
          -39.4458122253418,
          15.000839233398438,
          -22.617467880249023,
          -21.79900550842285,
          -4.113785266876221,
          0.07622312754392624,
          -3.5187792778015137,
          16.736364364624023,
          18.541362762451172,
          -37.02803039550781,
          -9.64115047454834,
          -37.14905548095703,
          -10.548909187316895,
          19.16796875,
          -16.15320587158203,
          17.62979507446289,
          3.8969664573669434,
          -13.574348449707031,
          17.404882431030273,
          -38.23585510253906,
          20.331684112548828,
          -8.32032299041748,
          -12.172404289245605,
          14.506708145141602,
          -5.314339637756348,
          -17.16202735900879,
          -2.9234538078308105,
          10.722270011901855,
          9.597753524780273,
          -0.947755753993988,
          -40.47399139404297,
          -16.99460792541504,
          -38.36149215698242,
          8.206165313720703,
          -39.0297966003418,
          -0.9122039079666138,
          -6.288145542144775,
          -17.816776275634766,
          0.7643259763717651,
          11.841296195983887,
          -8.905275344848633,
          10.88888168334961,
          -18.203615188598633,
          0.2551678419113159,
          7.992129802703857,
          22.304685592651367,
          15.215858459472656,
          12.178895950317383,
          16.4074649810791,
          16.3884334564209,
          -9.234472274780273,
          15.483532905578613,
          -40.830955505371094,
          15.340962409973145,
          -38.56976318359375,
          16.433483123779297,
          15.566455841064453,
          -38.862545013427734,
          7.486544609069824,
          9.125515937805176,
          -37.93333435058594,
          -37.2677001953125,
          19.456096649169922,
          15.42943000793457,
          -38.31413269042969,
          16.31440544128418,
          -38.798980712890625,
          -40.29424285888672,
          -12.78218936920166,
          -37.910308837890625,
          -38.95703125,
          -40.64923095703125,
          -8.975240707397461,
          -15.426111221313477,
          9.752203941345215,
          -16.940345764160156,
          -15.989827156066895,
          -17.94202995300293,
          -5.4845123291015625,
          -6.006204605102539,
          8.14543342590332,
          -40.139678955078125,
          -11.530430793762207,
          -4.230804443359375,
          -4.155818462371826,
          -11.532354354858398,
          -4.270108222961426,
          -17.57891845703125,
          -10.008663177490234,
          -11.007214546203613,
          10.696207046508789,
          -38.99311447143555,
          -15.671798706054688,
          10.945902824401855,
          -16.765005111694336,
          -2.6572329998016357,
          -6.01295804977417,
          -11.059466361999512,
          17.166044235229492
         ],
         "xaxis": "x",
         "y": [
          -21.830921173095703,
          -6.361774921417236,
          7.114476203918457,
          -19.13710594177246,
          -12.636836051940918,
          -10.18398380279541,
          0.9295108914375305,
          -19.947795867919922,
          -8.588448524475098,
          -10.606740951538086,
          -22.482229232788086,
          -8.980195999145508,
          5.563133716583252,
          -2.701101541519165,
          -11.865452766418457,
          9.574841499328613,
          12.343955039978027,
          11.890935897827148,
          -10.42577838897705,
          -0.7780463695526123,
          1.6445934772491455,
          -19.128332138061523,
          -1.512427806854248,
          11.661662101745605,
          -7.198405742645264,
          -19.16584587097168,
          -25.082881927490234,
          -12.060392379760742,
          -0.1768423169851303,
          -8.880375862121582,
          -15.109389305114746,
          -0.38946887850761414,
          11.800244331359863,
          -2.9271538257598877,
          14.145272254943848,
          11.462340354919434,
          7.097185134887695,
          -0.8053716421127319,
          -13.678801536560059,
          5.175746917724609,
          -1.042439341545105,
          1.9335033893585205,
          -6.169750213623047,
          4.920369625091553,
          -11.985931396484375,
          -3.409752607345581,
          -3.214120388031006,
          -10.444472312927246,
          1.050749659538269,
          -24.16057586669922,
          -11.725629806518555,
          -9.384072303771973,
          9.231566429138184,
          -14.789765357971191,
          -1.0387147665023804,
          1.3214796781539917,
          -8.88587474822998,
          4.793619632720947,
          -3.415355682373047,
          -3.419589042663574,
          -10.059757232666016,
          -8.827563285827637,
          -6.4618730545043945,
          -23.92082405090332,
          -0.8455002903938293,
          -15.136720657348633,
          -2.083120107650757,
          7.82861852645874,
          -20.464656829833984,
          4.0272088050842285,
          -10.90151309967041,
          -18.550090789794922,
          -16.278915405273438,
          7.6827287673950195,
          -3.5428903102874756,
          14.819650650024414,
          -16.31873321533203,
          7.290122985839844,
          -18.740806579589844,
          6.421955585479736,
          6.246640205383301,
          -18.200136184692383,
          -16.28573989868164,
          -0.07760018110275269,
          7.780087947845459,
          -12.801677703857422,
          -17.294601440429688,
          -16.778316497802734,
          1.9581862688064575,
          9.615367889404297,
          8.944567680358887,
          3.704770088195801,
          2.1721231937408447,
          -7.635906219482422,
          -20.740001678466797,
          -23.22163200378418,
          -25.1363525390625,
          -24.539241790771484,
          -20.647920608520508,
          -10.29442024230957,
          -11.657869338989258,
          -5.6363205909729,
          18.98733139038086,
          19.669525146484375,
          -5.009517192840576,
          10.943737983703613,
          3.7727274894714355,
          -12.866559982299805,
          8.993402481079102,
          6.621685981750488,
          -4.191833019256592,
          6.079606056213379,
          1.2803858518600464,
          -5.0701446533203125,
          -13.913803100585938,
          -2.560028076171875,
          -10.662071228027344,
          -15.378028869628906,
          -5.998669147491455,
          22.721210479736328,
          -16.54631805419922,
          13.43211841583252,
          -5.318176746368408,
          -7.0783610343933105,
          -12.449277877807617,
          -6.803299903869629,
          -9.882634162902832,
          11.573384284973145,
          -21.24633026123047,
          22.41234016418457,
          -5.184908390045166,
          -13.96298599243164,
          -24.101411819458008,
          -11.293167114257812,
          -9.786155700683594,
          -22.24457359313965,
          -6.052822589874268,
          3.3556344509124756,
          6.655904293060303,
          1.5573570728302002,
          -23.777189254760742,
          -9.444049835205078,
          -20.89267921447754,
          -23.85848045349121,
          1.6174806356430054,
          -0.41991734504699707,
          -22.678848266601562,
          -0.295447438955307,
          12.50068473815918,
          6.053088188171387,
          -4.731531620025635,
          -15.650620460510254,
          -19.98362922668457,
          -4.113197326660156,
          -14.176538467407227,
          1.3870630264282227,
          -6.416868209838867,
          12.08797550201416,
          -5.609981536865234,
          5.841121673583984,
          -14.939492225646973,
          4.825026988983154,
          -18.271333694458008,
          -13.505794525146484,
          -14.795661926269531,
          -15.035836219787598,
          -8.886543273925781,
          -5.584530830383301,
          -16.632619857788086,
          -13.604220390319824,
          -3.1525485515594482,
          -24.040761947631836,
          -21.52521324157715,
          -23.877832412719727,
          4.871541976928711,
          -23.98465919494629,
          -6.081680774688721,
          -13.154183387756348,
          -0.35577741265296936,
          1.7716301679611206,
          -24.089574813842773,
          2.5595695972442627,
          -23.980012893676758,
          -22.530248641967773,
          -13.925203323364258,
          -21.336116790771484,
          -22.41013526916504,
          3.659583330154419,
          -15.167476654052734,
          -12.764134407043457,
          -13.50235652923584,
          4.230647563934326,
          -23.758224487304688,
          -23.048856735229492,
          -22.759166717529297,
          -15.277606010437012,
          -10.95337963104248,
          -0.4921717643737793,
          -20.163028717041016,
          4.224523067474365,
          7.092798709869385,
          -18.825389862060547,
          1.8082282543182373,
          -18.6186466217041,
          -23.947465896606445,
          1.1595484018325806,
          -8.572242736816406,
          -19.392127990722656,
          -8.089421272277832,
          -18.647844314575195,
          -21.46731185913086,
          -1.8641325235366821,
          -14.336563110351562,
          -17.699901580810547,
          -17.87541389465332,
          -25.548370361328125,
          8.694364547729492,
          -9.287601470947266,
          -6.821277618408203,
          -3.51850962638855,
          1.6413459777832031,
          -22.208627700805664,
          -5.3741888999938965,
          -7.299657344818115,
          0.2634175419807434,
          -11.49195384979248,
          -20.299760818481445,
          -20.353239059448242,
          3.6984317302703857,
          -12.671598434448242,
          8.372354507446289,
          -10.785592079162598,
          -12.854666709899902,
          4.295231819152832,
          11.544228553771973,
          -10.704133987426758,
          -10.86522388458252,
          1.0435426235198975,
          -14.244026184082031,
          13.890061378479004,
          -7.954379081726074,
          -3.773198366165161,
          -2.7143146991729736,
          1.0930166244506836,
          -8.609983444213867,
          -1.31000816822052,
          7.524122714996338,
          -14.073026657104492,
          11.917069435119629,
          -5.958863258361816,
          -12.832893371582031,
          -8.46334171295166,
          -4.907283306121826,
          3.9259068965911865,
          -8.065333366394043,
          -4.308276653289795,
          -21.060216903686523,
          -16.840665817260742,
          -4.077099800109863,
          16.267152786254883,
          5.428217887878418,
          -5.9743218421936035,
          20.24294090270996,
          19.805238723754883,
          -18.547855377197266,
          -2.5622804164886475,
          -8.641067504882812,
          -1.860869288444519,
          15.092803955078125,
          -16.77910614013672,
          -5.832210540771484,
          -10.430621147155762,
          -27.19517707824707,
          -16.406641006469727,
          -14.908866882324219,
          1.4424474239349365,
          -9.225028038024902,
          -6.806408882141113,
          -13.832569122314453,
          -8.783827781677246,
          -3.15629243850708,
          -12.767515182495117,
          -8.178860664367676,
          10.449799537658691,
          1.058979868888855,
          -12.072020530700684,
          -6.599715709686279,
          -9.798187255859375,
          -7.820600509643555,
          9.458242416381836,
          -6.860126495361328,
          -2.7761502265930176,
          -20.461999893188477,
          -7.010449409484863,
          -11.91972827911377,
          2.7608020305633545,
          -11.38427448272705,
          -27.095577239990234,
          7.191638946533203,
          -6.867551803588867,
          19.964595794677734,
          -16.023162841796875,
          2.4556751251220703,
          -11.79790210723877,
          15.087794303894043,
          -6.674434661865234,
          -9.936185836791992,
          -0.1314464956521988,
          -3.899320363998413,
          -9.219084739685059,
          2.90407133102417,
          -9.42746353149414,
          -10.419930458068848,
          22.493797302246094,
          -17.710269927978516,
          -17.699560165405273,
          -12.450733184814453,
          -24.46538543701172,
          7.470394611358643,
          16.237472534179688,
          15.374237060546875,
          -4.105815410614014,
          -1.8584879636764526,
          12.105548858642578,
          16.197555541992188,
          -8.50885009765625,
          19.712417602539062,
          -8.55038833618164,
          17.770872116088867,
          0.06693188101053238,
          19.41370391845703,
          -7.097404479980469,
          -8.043035507202148,
          1.6448466777801514,
          18.2515869140625,
          10.167791366577148,
          4.371125221252441,
          -0.8098201155662537,
          -3.2638871669769287,
          15.098533630371094,
          -3.5740201473236084,
          0.17975161969661713,
          19.770286560058594,
          -12.188621520996094,
          0.7597580552101135,
          -4.697186470031738,
          12.92556381225586,
          -4.295180797576904,
          -5.721854209899902,
          -2.564246654510498,
          5.373291015625,
          18.318265914916992,
          15.995915412902832,
          -11.649807929992676,
          11.869147300720215,
          -17.7093448638916,
          -13.090201377868652,
          10.234492301940918,
          -6.523701190948486,
          -8.157556533813477,
          -8.829965591430664,
          8.079612731933594,
          5.3707804679870605,
          4.871164798736572,
          -6.090831756591797,
          -10.524027824401855,
          -14.33371639251709,
          5.753499507904053,
          0.22888801991939545,
          3.730660915374756,
          -2.2641494274139404,
          -5.647862911224365,
          -11.430206298828125,
          3.742003917694092,
          21.812517166137695,
          7.391644477844238,
          5.324939727783203,
          -10.744363784790039,
          -1.5996296405792236,
          -13.028318405151367,
          1.2166436910629272,
          -1.8552602529525757,
          9.345311164855957,
          -5.467302322387695,
          -16.7612361907959,
          4.322678089141846,
          -13.085091590881348,
          7.476555347442627,
          -8.888001441955566,
          8.808247566223145,
          6.058460712432861,
          -8.454748153686523,
          -10.60533332824707,
          -3.0148823261260986,
          7.0965704917907715,
          12.188632011413574,
          4.041974067687988,
          1.4617468118667603,
          -11.87910270690918,
          3.697645425796509,
          11.20984172821045,
          -14.023276329040527,
          -20.316267013549805,
          -23.688488006591797,
          -14.060708045959473,
          6.683882713317871,
          11.739359855651855,
          -16.426027297973633,
          -8.359441757202148,
          8.246819496154785,
          -2.8773691654205322,
          12.283894538879395,
          8.292945861816406,
          5.360344886779785,
          -4.242966175079346,
          -25.302841186523438,
          -8.632379531860352,
          -15.500964164733887,
          -20.741811752319336,
          -6.235578536987305,
          -6.065842628479004,
          5.811906814575195,
          -22.941518783569336,
          20.849092483520508,
          1.70147705078125,
          1.2003748416900635,
          -11.70326042175293,
          -9.196240425109863,
          -14.899459838867188,
          -15.088665962219238,
          -10.302580833435059,
          1.2926961183547974,
          9.291071891784668,
          -12.635802268981934,
          -21.83380126953125,
          -17.512849807739258,
          25.777057647705078,
          22.985145568847656,
          25.201274871826172,
          16.249828338623047,
          2.772831916809082,
          16.15421485900879,
          -12.293039321899414,
          9.630240440368652,
          -14.528976440429688,
          3.895571231842041,
          -12.789243698120117,
          -18.255369186401367,
          -11.620534896850586,
          12.379897117614746,
          -4.034928321838379,
          1.2419459819793701,
          5.112783908843994,
          -0.2544046640396118,
          11.98308277130127,
          5.356089115142822,
          10.257355690002441,
          18.36663818359375,
          -6.432549953460693,
          5.6713032722473145,
          7.309249401092529,
          -11.844413757324219,
          -9.370633125305176,
          -4.554505825042725,
          -6.424758434295654,
          -7.3508501052856445,
          -11.359408378601074,
          -8.399568557739258,
          0.9126442074775696,
          -6.33457088470459,
          -22.00668716430664,
          -16.523582458496094,
          10.44377326965332,
          -1.2166478633880615,
          1.2117055654525757,
          3.038325309753418,
          -2.1319937705993652,
          -5.544121265411377,
          -9.776185989379883,
          -13.809969902038574,
          2.80230712890625,
          -21.97700309753418,
          -11.954703330993652,
          -22.544269561767578,
          -7.175264835357666,
          -18.29052734375,
          -20.305387496948242,
          -1.5793628692626953,
          -10.769371032714844,
          -12.220389366149902,
          -18.905813217163086,
          -7.534737586975098,
          -10.215022087097168,
          -20.834306716918945,
          -9.516350746154785,
          -23.097414016723633,
          -19.368837356567383,
          -12.34167194366455,
          -10.243712425231934,
          -18.570436477661133,
          9.250717163085938,
          -16.402191162109375,
          0.8156434297561646,
          -7.552730560302734,
          -7.7568511962890625,
          -11.08240795135498,
          -12.011054992675781,
          5.961090564727783,
          -10.046884536743164,
          -10.635648727416992,
          -8.85010814666748,
          -15.89136791229248,
          -5.979269027709961,
          -2.2912180423736572,
          -20.846525192260742,
          -15.55463695526123,
          -1.8536508083343506,
          5.186441898345947,
          -7.752076148986816,
          -20.11326026916504,
          8.035767555236816,
          -4.504746913909912,
          -21.979206085205078,
          -17.28048324584961,
          -7.668054103851318,
          -24.945846557617188,
          -14.700663566589355,
          -13.146279335021973,
          -5.698403358459473,
          -17.877756118774414,
          -13.742520332336426,
          -0.6029937267303467,
          2.299503803253174,
          -0.6582725644111633,
          -5.463674068450928,
          1.5549415349960327,
          -8.402375221252441,
          -7.170340061187744,
          -1.4861557483673096,
          7.364092826843262,
          -0.8659213185310364,
          -7.601869106292725,
          1.249741554260254,
          0.8340495228767395,
          14.869879722595215,
          -8.329774856567383,
          -0.04551419988274574,
          11.220715522766113,
          -5.123556613922119,
          -11.581246376037598,
          8.57538890838623,
          11.748309135437012,
          -2.3135907649993896,
          -1.9867445230484009,
          14.444350242614746,
          12.274321556091309,
          -9.259799003601074,
          0.14033304154872894,
          -2.1839802265167236,
          3.293572425842285,
          2.989720106124878,
          -1.59928297996521,
          2.047896385192871,
          13.465988159179688,
          -10.140973091125488,
          -17.7662410736084,
          2.873980760574341,
          -15.254773139953613,
          3.66080379486084,
          5.954996585845947,
          6.287962436676025,
          1.0328601598739624,
          0.3427135646343231,
          8.294410705566406,
          4.870593070983887,
          -6.971961498260498,
          23.191556930541992,
          -2.7566471099853516,
          -3.782517433166504,
          -3.8036434650421143,
          8.80108642578125,
          -12.832947731018066,
          5.093721389770508,
          -6.7514214515686035,
          -4.407775402069092,
          6.083968162536621,
          -13.125407218933105,
          -18.417686462402344,
          0.19192104041576385,
          10.005763053894043,
          -14.047025680541992,
          1.1022900342941284,
          -6.841304779052734,
          14.579947471618652,
          1.2834258079528809,
          -8.842767715454102,
          -6.210939884185791,
          16.829547882080078,
          24.309247970581055,
          -17.035255432128906,
          -19.112804412841797,
          -16.40300178527832,
          -12.775797843933105,
          -7.290225505828857,
          3.151435375213623,
          -11.503954887390137,
          -12.21155071258545,
          -12.06921100616455,
          -14.064291954040527,
          -6.6916279792785645,
          -11.609965324401855,
          -19.32908058166504,
          -15.035405158996582,
          -16.13956069946289,
          -15.06017017364502,
          4.181337356567383,
          -12.549593925476074,
          -10.857292175292969,
          14.82192325592041,
          -11.485616683959961,
          -16.401697158813477,
          2.3205862045288086,
          -2.683551073074341,
          9.625428199768066,
          3.8420965671539307,
          8.495927810668945,
          -7.804687976837158,
          -14.187105178833008,
          -13.085315704345703,
          -9.321969985961914,
          -3.296433925628662,
          -9.037932395935059,
          -9.015481948852539,
          -9.66653823852539,
          11.388398170471191,
          10.25408935546875,
          11.410944938659668,
          -11.654579162597656,
          -7.9079766273498535,
          5.478988170623779,
          0.21358782052993774,
          -0.6944141983985901,
          -11.584733963012695,
          -6.926332473754883,
          -8.315520286560059,
          7.301922798156738,
          -0.8157138228416443,
          -9.93263053894043,
          0.10575421154499054,
          -11.124582290649414,
          -22.861125946044922,
          2.4081194400787354,
          -1.2067135572433472,
          -0.6563670635223389,
          -6.533230781555176,
          -2.727616786956787,
          -12.276046752929688,
          -11.543779373168945,
          -14.176939964294434,
          -15.473055839538574,
          -10.423015594482422,
          -9.526970863342285,
          -2.5903735160827637,
          2.9993577003479004,
          2.5655789375305176,
          6.013888835906982,
          9.397441864013672,
          17.048357009887695,
          9.455559730529785,
          -9.73942756652832,
          3.9873268604278564,
          1.0480960607528687,
          -20.37770652770996,
          -9.825870513916016,
          0.8773415088653564,
          14.48624324798584,
          30.229595184326172,
          -2.58237361907959,
          9.440199851989746,
          -2.5602002143859863,
          -2.395136833190918,
          -7.10350227355957,
          -4.174929141998291,
          -24.850034713745117,
          -13.901640892028809,
          -16.148527145385742,
          4.525435924530029,
          22.422821044921875,
          -6.564840316772461,
          18.925127029418945,
          -0.9406869411468506,
          -12.523113250732422,
          6.501282215118408,
          -3.95835542678833,
          13.24129867553711,
          -2.106381416320801,
          -7.761037349700928,
          -0.5294390320777893,
          -15.363423347473145,
          5.360902786254883,
          -10.972840309143066,
          9.406454086303711,
          -10.328960418701172,
          -7.2505669593811035,
          -16.966567993164062,
          2.172398090362549,
          -9.638965606689453,
          2.339653968811035,
          -13.759997367858887,
          -19.345849990844727,
          30.204160690307617,
          -12.758122444152832,
          -17.49872398376465,
          3.126492738723755,
          2.9077210426330566,
          -7.49415922164917,
          -0.4760829210281372,
          -9.635024070739746,
          9.170625686645508,
          -2.6621320247650146,
          10.619101524353027,
          5.739217758178711,
          3.6803154945373535,
          4.245009422302246,
          7.5068230628967285,
          1.4275150299072266,
          -1.331215500831604,
          -1.9803262948989868,
          -13.780223846435547,
          -1.1768975257873535,
          -7.725505828857422,
          -17.416330337524414,
          -2.7094359397888184,
          2.7493979930877686,
          -8.55427074432373,
          -7.232738494873047,
          11.174442291259766,
          -6.13786506652832,
          -15.443578720092773,
          -2.859762668609619,
          0.4618332087993622,
          -13.25085163116455,
          12.913089752197266,
          -11.428427696228027,
          -3.346421957015991,
          -14.004253387451172,
          -15.369945526123047,
          -1.3163526058197021,
          19.073022842407227,
          -6.986266136169434,
          -16.808961868286133,
          17.51498031616211,
          -11.786776542663574,
          -3.650592565536499,
          -6.8363494873046875,
          3.6849217414855957,
          -6.778116703033447,
          12.911306381225586,
          6.8269829750061035,
          13.645892143249512,
          -2.5834529399871826,
          7.725454807281494,
          -3.4711410999298096,
          -3.9016525745391846,
          0.027547553181648254,
          -13.534810066223145,
          19.001562118530273,
          2.4598937034606934,
          3.957876205444336,
          5.180904865264893,
          7.939614295959473,
          3.078171968460083,
          5.943239212036133,
          -1.3809723854064941,
          9.42906665802002,
          -3.9223921298980713,
          16.278030395507812,
          -15.407283782958984,
          6.735077857971191,
          -0.3873636722564697,
          -10.85470199584961,
          17.626571655273438,
          -8.880950927734375,
          32.248573303222656,
          3.9465246200561523,
          4.102241516113281,
          -10.822075843811035,
          32.882408142089844,
          -1.0151872634887695,
          -3.7899646759033203,
          16.153051376342773,
          5.842180252075195,
          0.2184564173221588,
          -11.925783157348633,
          3.650062084197998,
          -5.181555271148682,
          5.477654933929443,
          20.030223846435547,
          -4.74910831451416,
          -0.8215518593788147,
          3.7004129886627197,
          -6.004976272583008,
          16.96702766418457,
          -1.3307589292526245,
          -20.667409896850586,
          -1.940049409866333,
          1.9871587753295898,
          4.477775573730469,
          -8.571252822875977,
          -1.0947694778442383,
          -2.8288469314575195,
          -2.278008222579956,
          -17.48392677307129,
          31.94052505493164,
          -8.638946533203125,
          11.851181030273438,
          1.9904032945632935,
          13.27252197265625,
          3.240183115005493,
          -0.12094306945800781,
          -13.432815551757812,
          7.555191993713379,
          13.364871978759766,
          13.855839729309082,
          -9.478899955749512,
          6.764909267425537,
          -1.9300495386123657,
          5.098572731018066,
          0.8527752757072449,
          21.857484817504883,
          10.248165130615234,
          12.55289363861084,
          -2.4781270027160645,
          -2.129413366317749,
          -12.072883605957031,
          -9.722105026245117,
          -17.715177536010742,
          9.26140308380127,
          24.0842342376709,
          -6.448357105255127,
          -0.04564518854022026,
          7.402841567993164,
          10.133665084838867,
          -1.588229775428772,
          -6.305576324462891,
          -6.700911998748779,
          -9.941479682922363,
          3.7925429344177246,
          -3.451911449432373,
          -5.825772285461426,
          -4.195566177368164,
          21.57421875,
          3.588238477706909,
          3.6202268600463867,
          -6.916957855224609,
          -1.2112846374511719,
          10.678873062133789,
          24.42984390258789,
          2.232454299926758,
          4.504946708679199,
          5.783650875091553,
          14.572742462158203,
          -7.301326751708984,
          12.436172485351562,
          -1.1444926261901855,
          -15.903023719787598,
          -2.0680253505706787,
          -5.718462944030762,
          -5.773926734924316,
          13.393376350402832,
          1.1179404258728027,
          3.5730953216552734,
          20.488061904907227,
          15.1393404006958,
          10.242512702941895,
          4.651853561401367,
          20.86241912841797,
          5.877917766571045,
          -5.423291206359863,
          5.096919059753418,
          4.723654270172119,
          -9.154011726379395,
          -5.536557197570801,
          -8.483746528625488,
          8.91927433013916,
          18.885520935058594,
          -5.438979148864746,
          -2.0770599842071533,
          15.012829780578613,
          10.185992240905762,
          5.1440205574035645,
          7.042542934417725,
          -6.640124320983887,
          22.25037956237793,
          -9.186287879943848,
          -5.027058124542236,
          15.397454261779785,
          -9.390098571777344,
          -12.530635833740234,
          -6.3065338134765625,
          22.07468605041504,
          -11.564040184020996,
          6.02794885635376,
          1.271624207496643,
          -9.519906044006348,
          2.3364429473876953,
          15.376450538635254,
          16.78826141357422,
          -8.649491310119629,
          21.62437629699707,
          17.569522857666016,
          13.829572677612305,
          21.641916275024414,
          -7.787056922912598,
          -13.684593200683594,
          0.16820570826530457,
          13.292498588562012,
          -12.053853034973145,
          8.597051620483398,
          5.1920857429504395,
          -9.605476379394531,
          -1.4995839595794678,
          -8.637206077575684,
          15.563697814941406,
          -3.316664934158325,
          2.1919870376586914,
          20.694503784179688,
          -3.2517178058624268,
          0.7113288640975952,
          1.7564269304275513,
          11.16618824005127,
          3.0799343585968018,
          7.702723503112793,
          7.33237886428833,
          -4.468170642852783,
          -10.650314331054688,
          4.767457962036133,
          18.869293212890625,
          -6.1274309158325195,
          14.406755447387695,
          -4.027680397033691,
          -16.758508682250977,
          -2.688169002532959,
          -4.238274574279785,
          -17.216392517089844,
          -14.484465599060059,
          -4.020029067993164,
          15.10221004486084,
          -7.4628472328186035,
          12.894429206848145,
          12.695891380310059,
          6.902832508087158,
          -4.4108428955078125,
          -13.187049865722656,
          -1.0800713300704956,
          1.7106852531433105,
          4.919602870941162,
          -10.919193267822266,
          -13.462369918823242,
          3.9996604919433594,
          -4.534358501434326,
          10.585262298583984,
          -12.824092864990234,
          3.6615424156188965,
          -6.296677589416504,
          -12.57042407989502,
          -11.615248680114746,
          -11.09097671508789,
          -8.163971900939941,
          8.529949188232422,
          -2.8391692638397217,
          2.9948806762695312,
          -11.111072540283203,
          -4.0175089836120605,
          15.618041038513184,
          13.240116119384766,
          1.5671741962432861,
          13.426750183105469,
          13.7268705368042,
          7.360651016235352,
          5.837111949920654,
          5.815701961517334,
          7.369870662689209,
          -2.499121904373169,
          -5.973117828369141,
          4.459609031677246,
          18.202421188354492,
          2.43332839012146,
          -2.3893308639526367,
          -3.5467207431793213,
          19.04877281188965,
          17.968338012695312,
          0.11842532455921173,
          17.936243057250977,
          1.7589167356491089,
          -3.8839306831359863,
          13.828507423400879,
          7.184812068939209,
          -7.30654764175415,
          7.545561790466309,
          22.784324645996094,
          -0.8313813805580139,
          19.98815155029297,
          -4.245863914489746,
          -4.289549350738525,
          -0.1559622585773468,
          -13.669910430908203,
          -3.37576961517334,
          -2.210401773452759,
          1.1406959295272827,
          2.065732717514038,
          7.34857177734375,
          3.9589052200317383,
          7.352578639984131,
          -2.085167646408081,
          -10.658900260925293,
          7.5868964195251465,
          8.080817222595215,
          -3.8785502910614014,
          -10.408612251281738,
          -4.343210220336914,
          -12.328380584716797,
          -3.309699058532715,
          -7.232670307159424,
          -4.088929176330566,
          -2.9018688201904297,
          24.859004974365234,
          3.0993456840515137,
          11.967557907104492,
          5.498963356018066,
          -8.44798755645752,
          1.3046231269836426,
          5.743827819824219,
          12.475532531738281,
          2.0138299465179443,
          9.132523536682129,
          18.519628524780273,
          0.5017244219779968,
          -16.591102600097656,
          4.064443588256836,
          -9.668333053588867,
          -5.1564459800720215,
          0.6535745859146118,
          -6.0752129554748535,
          -0.052174508571624756,
          -8.213473320007324,
          -2.320931911468506,
          8.03327751159668,
          14.109664916992188,
          -5.4751505851745605,
          -1.9437743425369263,
          7.902226448059082,
          -12.324555397033691,
          11.991769790649414,
          -4.256700038909912,
          -12.122962951660156,
          10.533384323120117,
          -9.85141658782959,
          4.718542575836182,
          -4.234892845153809,
          -4.646315097808838,
          -11.668851852416992,
          -17.884178161621094,
          -7.602412223815918,
          -4.2411112785339355,
          -2.4017698764801025,
          -1.1625990867614746,
          4.330552101135254,
          -10.965095520019531,
          2.8866522312164307,
          -1.7890549898147583,
          8.427966117858887,
          -8.056377410888672,
          0.4331129193305969,
          -7.973944664001465,
          7.137558937072754,
          -0.258337140083313,
          -6.3641486167907715,
          13.167078971862793,
          -1.001943826675415,
          6.870245933532715,
          15.862683296203613,
          14.34073543548584,
          -8.511513710021973,
          7.313055038452148,
          -12.811826705932617,
          20.42171859741211,
          7.801300525665283,
          7.6010894775390625,
          5.097792148590088,
          5.830323219299316,
          6.376568794250488,
          -1.5348803997039795,
          13.104249000549316,
          14.892416954040527,
          16.538888931274414,
          -3.589553117752075,
          -1.463701605796814,
          -10.973288536071777,
          21.744422912597656,
          -7.956902503967285,
          8.998557090759277,
          -0.7549891471862793,
          16.679458618164062,
          5.2684431076049805,
          -0.3657081425189972,
          5.872782230377197,
          0.5090824961662292,
          -1.1120593547821045,
          -0.9896016120910645,
          -4.060393333435059,
          -10.815911293029785,
          14.800984382629395,
          -2.093268632888794,
          -5.75145959854126,
          0.5426883101463318,
          3.2734780311584473,
          5.354031562805176,
          -12.089064598083496,
          5.989450931549072,
          -3.4757590293884277,
          -9.72026538848877,
          -8.992642402648926,
          -16.125560760498047,
          -10.291230201721191,
          6.73280668258667,
          17.12366485595703,
          11.047727584838867,
          -4.8881516456604,
          -15.160057067871094,
          -4.796966552734375,
          2.32608962059021,
          -2.017118453979492,
          -3.1734979152679443,
          -0.4252246022224426,
          -5.498216152191162,
          -6.7444539070129395,
          -6.9520583152771,
          -4.331330299377441,
          18.50849151611328,
          5.726536273956299,
          3.6736693382263184,
          6.357855319976807,
          -6.064268589019775,
          -4.18889856338501,
          26.307151794433594,
          -5.172051429748535,
          8.346171379089355,
          -3.5838613510131836,
          -5.567817211151123,
          15.629765510559082,
          -10.202045440673828,
          1.940667748451233,
          0.8938326239585876,
          31.360694885253906,
          10.375288963317871,
          8.942193031311035,
          -5.492834091186523,
          -9.284611701965332,
          -9.230683326721191,
          1.8992745876312256,
          19.226163864135742,
          14.439383506774902,
          5.522756099700928,
          8.179677963256836,
          -9.073446273803711,
          -10.057085990905762,
          -1.572896957397461,
          -6.85298490524292,
          10.959205627441406,
          -0.12709872424602509,
          -11.351544380187988,
          3.112130641937256,
          2.5577962398529053,
          -4.782604217529297,
          -7.564184665679932,
          19.010578155517578,
          10.551953315734863,
          8.499960899353027,
          7.70548677444458,
          17.850818634033203,
          9.674595832824707,
          12.293127059936523,
          7.783443927764893,
          3.5269598960876465,
          8.213579177856445,
          11.162768363952637,
          8.30335807800293,
          -12.052600860595703,
          -12.17418098449707,
          -8.10391902923584,
          -11.763874053955078,
          -9.729248046875,
          -14.575628280639648,
          8.787517547607422,
          5.067996501922607,
          2.6823501586914062,
          5.337891578674316,
          10.357309341430664,
          -5.198106288909912,
          33.013511657714844,
          -10.569696426391602,
          -7.645073890686035,
          -0.8835626840591431,
          -0.6053159236907959,
          -0.2178095579147339,
          10.284446716308594,
          9.216446876525879,
          5.250245094299316,
          -0.17574477195739746,
          -2.234743118286133,
          16.48778533935547,
          -0.04749220609664917,
          19.390056610107422,
          18.4880313873291,
          15.99702262878418,
          -1.3751177787780762,
          -18.924161911010742,
          4.061879634857178,
          -8.962323188781738,
          -4.496406555175781,
          6.404051303863525,
          6.13165807723999,
          -1.4086452722549438,
          1.582649827003479,
          6.7720417976379395,
          10.866605758666992,
          -6.056883335113525,
          7.84816312789917,
          14.541108131408691,
          8.069353103637695,
          16.027027130126953,
          15.07800006866455,
          2.1066970825195312,
          -5.67571496963501,
          32.967430114746094,
          -4.725371360778809,
          -4.286849021911621,
          3.3647897243499756,
          -10.75648307800293,
          -1.8422014713287354,
          15.804203033447266,
          -5.258652687072754,
          3.152764081954956,
          -0.16624002158641815,
          9.094079971313477,
          10.500420570373535,
          1.9560003280639648,
          -0.1589721441268921,
          16.570188522338867,
          -10.576216697692871,
          -0.10166115313768387,
          -1.688361644744873,
          20.58966064453125,
          14.442562103271484,
          21.211044311523438,
          13.62377643585205,
          3.478654146194458,
          11.749624252319336,
          8.626808166503906,
          -6.094496250152588,
          5.062621116638184,
          6.45991325378418,
          -14.863849639892578,
          -0.9116847515106201,
          1.6562961339950562,
          7.9965434074401855,
          -6.790289878845215,
          -17.10276985168457,
          1.0834161043167114,
          12.122117042541504,
          17.358165740966797,
          20.24370765686035,
          12.46854305267334,
          12.924203872680664,
          6.111615180969238,
          -11.156499862670898,
          -11.967273712158203,
          2.873741865158081,
          17.365324020385742,
          4.086233615875244,
          -7.447790622711182,
          -1.8488101959228516,
          0.8065399527549744,
          -17.335031509399414,
          -11.5924654006958,
          19.574514389038086,
          -14.085488319396973,
          12.377114295959473,
          33.44459533691406,
          8.227846145629883,
          21.770998001098633,
          -7.369353771209717,
          -7.150211811065674,
          5.441186428070068,
          1.5471903085708618,
          2.314967393875122,
          -6.550938129425049,
          -0.5423474907875061,
          -5.263220310211182,
          -14.384114265441895,
          -7.591644287109375,
          10.469257354736328,
          30.99662208557129,
          9.134937286376953,
          0.0040638260543346405,
          15.779080390930176,
          24.38603401184082,
          32.892337799072266,
          2.2433605194091797,
          20.150972366333008,
          -2.713960886001587,
          -3.6061794757843018,
          3.021294355392456,
          -9.876141548156738,
          -4.311049938201904,
          21.25285530090332,
          15.203607559204102,
          21.37363624572754,
          19.460052490234375,
          -14.109651565551758,
          9.21713638305664,
          -3.4831881523132324,
          14.768502235412598,
          19.972822189331055,
          0.2755046486854553,
          15.842595100402832,
          -4.548876762390137,
          31.041818618774414,
          8.008068084716797,
          -2.618466377258301,
          12.865022659301758,
          3.3728957176208496,
          19.870105743408203,
          11.291218757629395,
          17.30496597290039,
          2.2740557193756104,
          4.046693801879883,
          19.150314331054688,
          19.276351928710938,
          19.079383850097656,
          1.737418532371521,
          19.369054794311523,
          -14.893745422363281,
          -4.247828483581543,
          -4.31444787979126,
          16.960683822631836,
          20.29935073852539,
          32.76481628417969,
          20.44614028930664,
          15.23015308380127,
          19.547199249267578,
          -3.155961751937866,
          19.095991134643555,
          1.0906413793563843,
          15.599532127380371,
          15.062966346740723,
          -4.26638126373291,
          18.932525634765625,
          17.67658805847168,
          3.2815146446228027,
          19.433618545532227,
          19.178586959838867,
          33.85984420776367,
          12.54019546508789,
          19.972259521484375,
          -6.58012056350708,
          -5.642770290374756,
          5.183305263519287,
          -4.04251766204834,
          15.577239036560059,
          -0.6249769926071167,
          20.24378776550293,
          20.477828979492188,
          -4.63015079498291,
          17.24227523803711,
          -3.9152443408966064,
          -0.0433003194630146,
          -3.0216596126556396,
          15.154566764831543,
          -7.9302825927734375,
          1.4264944791793823,
          21.24241828918457,
          24.699697494506836,
          -7.406143665313721,
          23.29848861694336,
          18.705808639526367,
          -7.697272777557373,
          18.586271286010742,
          18.846145629882812,
          18.412960052490234,
          10.444283485412598,
          0.636590838432312,
          -5.0522236824035645,
          3.1770472526550293,
          -6.792560577392578,
          -7.99601936340332,
          3.0517380237579346,
          14.214052200317383,
          -11.780811309814453,
          -15.104703903198242,
          15.042747497558594,
          14.108107566833496,
          5.552954196929932,
          -2.3767356872558594,
          -10.668975830078125,
          10.9644193649292,
          23.114734649658203,
          -5.6017255783081055,
          -3.0226552486419678,
          8.315723419189453,
          18.746700286865234,
          7.508615493774414,
          15.495601654052734,
          3.500804901123047,
          15.631021499633789,
          4.519692420959473,
          -5.075870990753174,
          7.830352783203125,
          20.727163314819336,
          3.1663718223571777,
          4.844353675842285,
          19.3510799407959,
          9.803956031799316,
          9.913175582885742,
          0.29662859439849854,
          10.339999198913574,
          -1.0871238708496094,
          -4.384950637817383,
          -5.003722667694092,
          -5.789926052093506,
          16.8065242767334,
          4.793725967407227,
          -3.255333662033081,
          5.1762824058532715,
          17.300561904907227,
          6.016164302825928,
          7.800262451171875,
          -2.9341049194335938,
          -8.399210929870605,
          3.618252754211426,
          1.465620994567871,
          -8.328861236572266,
          10.131878852844238,
          -7.607686996459961,
          0.2188686579465866,
          9.50571060180664,
          30.810911178588867,
          -3.6791672706604004,
          9.602741241455078,
          -6.441585540771484,
          8.856586456298828,
          31.35626220703125,
          4.43556022644043,
          5.785397529602051,
          7.019222736358643,
          9.47732925415039,
          8.759671211242676,
          8.01303482055664,
          32.248355865478516,
          17.366958618164062,
          -0.17820322513580322,
          23.288053512573242,
          -9.672378540039062,
          4.039267063140869,
          -2.1520841121673584,
          -16.771305084228516,
          -8.72884464263916,
          -1.1875849962234497,
          8.738554954528809,
          10.207919120788574,
          31.441940307617188,
          -20.23615837097168,
          -11.399330139160156,
          14.591228485107422,
          33.55780792236328,
          19.223472595214844,
          -0.6472212076187134,
          3.902167797088623,
          4.996362209320068,
          7.426983833312988,
          2.460702419281006,
          -13.156817436218262,
          -0.8680334091186523,
          -15.195282936096191,
          23.9189395904541,
          18.259008407592773,
          -4.7925262451171875,
          6.073273658752441,
          8.132001876831055,
          31.120786666870117,
          -14.244427680969238,
          32.62861251831055,
          24.37818717956543,
          -13.622566223144531,
          19.0841121673584,
          16.629701614379883,
          8.441554069519043,
          -4.174811840057373,
          -17.07059097290039,
          14.050827980041504,
          24.976715087890625,
          -12.321163177490234,
          -2.504453182220459,
          33.2414436340332,
          -3.5270485877990723,
          8.530221939086914,
          1.9779189825057983,
          16.650999069213867,
          18.117813110351562,
          -4.459600925445557,
          -3.8389010429382324,
          16.40379524230957,
          5.477504253387451,
          7.630714416503906,
          -15.295732498168945,
          -0.9291616082191467,
          -3.2699923515319824,
          -3.078451633453369,
          -3.3722176551818848,
          6.502376556396484,
          12.087897300720215,
          18.555273056030273,
          -5.364185333251953,
          -0.04589324817061424,
          33.260215759277344,
          20.809532165527344,
          9.3059720993042,
          9.630997657775879,
          15.353618621826172,
          -9.495651245117188,
          21.12624740600586,
          -8.802979469299316,
          10.632030487060547,
          -7.9683146476745605,
          -0.6589491963386536,
          -0.6984609961509705,
          3.9200024604797363,
          17.16044807434082,
          -0.8909665942192078,
          -8.293944358825684,
          -9.071592330932617,
          31.78586769104004,
          -2.1388938426971436,
          1.382831335067749,
          24.776596069335938,
          32.593170166015625,
          24.859416961669922,
          25.578243255615234,
          2.962057590484619,
          32.30316162109375,
          9.09614086151123,
          4.0259904861450195,
          2.9002721309661865,
          6.241092681884766,
          2.0335395336151123,
          24.427143096923828,
          -8.670429229736328,
          25.63888931274414,
          -4.205528259277344,
          25.824169158935547,
          24.626752853393555,
          26.376604080200195,
          32.121856689453125,
          25.619426727294922,
          32.09960174560547,
          32.659217834472656,
          25.31620216369629,
          24.36874771118164,
          30.90088653564453,
          25.70586395263672,
          25.413928985595703,
          26.13292121887207,
          25.619943618774414,
          24.54747772216797,
          24.78089141845703,
          24.814044952392578,
          14.431435585021973,
          24.796981811523438,
          24.794233322143555,
          33.26557159423828,
          25.610549926757812,
          33.236228942871094,
          33.862754821777344,
          15.130430221557617,
          25.894113540649414,
          24.853023529052734,
          18.814851760864258,
          -1.902318000793457,
          18.49901580810547,
          -9.56395435333252,
          -1.9463528394699097,
          32.74457931518555,
          -12.050894737243652,
          32.0206413269043,
          15.818737030029297,
          10.168967247009277,
          14.767797470092773,
          -8.76606273651123,
          -13.084094047546387,
          17.344877243041992,
          1.4332209825515747,
          33.92417907714844,
          -0.07260674238204956,
          -6.927793502807617,
          16.752559661865234,
          -7.96165657043457,
          20.534778594970703,
          23.927200317382812,
          2.2447659969329834,
          6.834082126617432,
          -8.039107322692871,
          -4.623979568481445,
          32.13047409057617,
          -3.8981356620788574,
          32.32720947265625,
          -6.783208847045898,
          31.95072364807129,
          1.75437331199646,
          -2.8855013847351074,
          24.243125915527344,
          5.949268341064453,
          -4.69858455657959,
          15.808267593383789,
          3.1872100830078125,
          21.146400451660156,
          -19.086688995361328,
          -1.9380472898483276,
          0.4369688928127289,
          14.19409465789795,
          8.461915969848633,
          15.57109546661377,
          15.541080474853516,
          17.615310668945312,
          14.169632911682129,
          31.478816986083984,
          14.06523609161377,
          31.507959365844727,
          15.579663276672363,
          14.022252082824707,
          30.03367805480957,
          -6.7122321128845215,
          7.971461772918701,
          31.823572158813477,
          31.295351028442383,
          -2.295447826385498,
          13.993385314941406,
          33.5113639831543,
          15.532852172851562,
          30.86615753173828,
          31.643516540527344,
          13.529716491699219,
          30.73775291442871,
          33.19081497192383,
          30.381799697875977,
          15.819965362548828,
          -5.418869972229004,
          7.595590591430664,
          21.9973087310791,
          20.949617385864258,
          24.250226974487305,
          21.581911087036133,
          19.071077346801758,
          -16.758380889892578,
          30.796052932739258,
          16.900638580322266,
          18.97785186767578,
          18.772096633911133,
          17.04443359375,
          19.114831924438477,
          24.022397994995117,
          16.357107162475586,
          11.318604469299316,
          6.334706783294678,
          32.40115737915039,
          15.95826530456543,
          8.469329833984375,
          22.703344345092773,
          18.97174835205078,
          18.95051383972168,
          19.595748901367188,
          9.799880027770996
         ],
         "yaxis": "y"
        }
       ],
       "layout": {
        "coloraxis": {
         "colorbar": {
          "title": {
           "text": "popularity"
          }
         },
         "colorscale": [
          [
           0,
           "#0d0887"
          ],
          [
           0.1111111111111111,
           "#46039f"
          ],
          [
           0.2222222222222222,
           "#7201a8"
          ],
          [
           0.3333333333333333,
           "#9c179e"
          ],
          [
           0.4444444444444444,
           "#bd3786"
          ],
          [
           0.5555555555555556,
           "#d8576b"
          ],
          [
           0.6666666666666666,
           "#ed7953"
          ],
          [
           0.7777777777777778,
           "#fb9f3a"
          ],
          [
           0.8888888888888888,
           "#fdca26"
          ],
          [
           1,
           "#f0f921"
          ]
         ]
        },
        "legend": {
         "tracegroupgap": 0
        },
        "margin": {
         "t": 60
        },
        "template": {
         "data": {
          "bar": [
           {
            "error_x": {
             "color": "#2a3f5f"
            },
            "error_y": {
             "color": "#2a3f5f"
            },
            "marker": {
             "line": {
              "color": "#E5ECF6",
              "width": 0.5
             },
             "pattern": {
              "fillmode": "overlay",
              "size": 10,
              "solidity": 0.2
             }
            },
            "type": "bar"
           }
          ],
          "barpolar": [
           {
            "marker": {
             "line": {
              "color": "#E5ECF6",
              "width": 0.5
             },
             "pattern": {
              "fillmode": "overlay",
              "size": 10,
              "solidity": 0.2
             }
            },
            "type": "barpolar"
           }
          ],
          "carpet": [
           {
            "aaxis": {
             "endlinecolor": "#2a3f5f",
             "gridcolor": "white",
             "linecolor": "white",
             "minorgridcolor": "white",
             "startlinecolor": "#2a3f5f"
            },
            "baxis": {
             "endlinecolor": "#2a3f5f",
             "gridcolor": "white",
             "linecolor": "white",
             "minorgridcolor": "white",
             "startlinecolor": "#2a3f5f"
            },
            "type": "carpet"
           }
          ],
          "choropleth": [
           {
            "colorbar": {
             "outlinewidth": 0,
             "ticks": ""
            },
            "type": "choropleth"
           }
          ],
          "contour": [
           {
            "colorbar": {
             "outlinewidth": 0,
             "ticks": ""
            },
            "colorscale": [
             [
              0,
              "#0d0887"
             ],
             [
              0.1111111111111111,
              "#46039f"
             ],
             [
              0.2222222222222222,
              "#7201a8"
             ],
             [
              0.3333333333333333,
              "#9c179e"
             ],
             [
              0.4444444444444444,
              "#bd3786"
             ],
             [
              0.5555555555555556,
              "#d8576b"
             ],
             [
              0.6666666666666666,
              "#ed7953"
             ],
             [
              0.7777777777777778,
              "#fb9f3a"
             ],
             [
              0.8888888888888888,
              "#fdca26"
             ],
             [
              1,
              "#f0f921"
             ]
            ],
            "type": "contour"
           }
          ],
          "contourcarpet": [
           {
            "colorbar": {
             "outlinewidth": 0,
             "ticks": ""
            },
            "type": "contourcarpet"
           }
          ],
          "heatmap": [
           {
            "colorbar": {
             "outlinewidth": 0,
             "ticks": ""
            },
            "colorscale": [
             [
              0,
              "#0d0887"
             ],
             [
              0.1111111111111111,
              "#46039f"
             ],
             [
              0.2222222222222222,
              "#7201a8"
             ],
             [
              0.3333333333333333,
              "#9c179e"
             ],
             [
              0.4444444444444444,
              "#bd3786"
             ],
             [
              0.5555555555555556,
              "#d8576b"
             ],
             [
              0.6666666666666666,
              "#ed7953"
             ],
             [
              0.7777777777777778,
              "#fb9f3a"
             ],
             [
              0.8888888888888888,
              "#fdca26"
             ],
             [
              1,
              "#f0f921"
             ]
            ],
            "type": "heatmap"
           }
          ],
          "heatmapgl": [
           {
            "colorbar": {
             "outlinewidth": 0,
             "ticks": ""
            },
            "colorscale": [
             [
              0,
              "#0d0887"
             ],
             [
              0.1111111111111111,
              "#46039f"
             ],
             [
              0.2222222222222222,
              "#7201a8"
             ],
             [
              0.3333333333333333,
              "#9c179e"
             ],
             [
              0.4444444444444444,
              "#bd3786"
             ],
             [
              0.5555555555555556,
              "#d8576b"
             ],
             [
              0.6666666666666666,
              "#ed7953"
             ],
             [
              0.7777777777777778,
              "#fb9f3a"
             ],
             [
              0.8888888888888888,
              "#fdca26"
             ],
             [
              1,
              "#f0f921"
             ]
            ],
            "type": "heatmapgl"
           }
          ],
          "histogram": [
           {
            "marker": {
             "pattern": {
              "fillmode": "overlay",
              "size": 10,
              "solidity": 0.2
             }
            },
            "type": "histogram"
           }
          ],
          "histogram2d": [
           {
            "colorbar": {
             "outlinewidth": 0,
             "ticks": ""
            },
            "colorscale": [
             [
              0,
              "#0d0887"
             ],
             [
              0.1111111111111111,
              "#46039f"
             ],
             [
              0.2222222222222222,
              "#7201a8"
             ],
             [
              0.3333333333333333,
              "#9c179e"
             ],
             [
              0.4444444444444444,
              "#bd3786"
             ],
             [
              0.5555555555555556,
              "#d8576b"
             ],
             [
              0.6666666666666666,
              "#ed7953"
             ],
             [
              0.7777777777777778,
              "#fb9f3a"
             ],
             [
              0.8888888888888888,
              "#fdca26"
             ],
             [
              1,
              "#f0f921"
             ]
            ],
            "type": "histogram2d"
           }
          ],
          "histogram2dcontour": [
           {
            "colorbar": {
             "outlinewidth": 0,
             "ticks": ""
            },
            "colorscale": [
             [
              0,
              "#0d0887"
             ],
             [
              0.1111111111111111,
              "#46039f"
             ],
             [
              0.2222222222222222,
              "#7201a8"
             ],
             [
              0.3333333333333333,
              "#9c179e"
             ],
             [
              0.4444444444444444,
              "#bd3786"
             ],
             [
              0.5555555555555556,
              "#d8576b"
             ],
             [
              0.6666666666666666,
              "#ed7953"
             ],
             [
              0.7777777777777778,
              "#fb9f3a"
             ],
             [
              0.8888888888888888,
              "#fdca26"
             ],
             [
              1,
              "#f0f921"
             ]
            ],
            "type": "histogram2dcontour"
           }
          ],
          "mesh3d": [
           {
            "colorbar": {
             "outlinewidth": 0,
             "ticks": ""
            },
            "type": "mesh3d"
           }
          ],
          "parcoords": [
           {
            "line": {
             "colorbar": {
              "outlinewidth": 0,
              "ticks": ""
             }
            },
            "type": "parcoords"
           }
          ],
          "pie": [
           {
            "automargin": true,
            "type": "pie"
           }
          ],
          "scatter": [
           {
            "fillpattern": {
             "fillmode": "overlay",
             "size": 10,
             "solidity": 0.2
            },
            "type": "scatter"
           }
          ],
          "scatter3d": [
           {
            "line": {
             "colorbar": {
              "outlinewidth": 0,
              "ticks": ""
             }
            },
            "marker": {
             "colorbar": {
              "outlinewidth": 0,
              "ticks": ""
             }
            },
            "type": "scatter3d"
           }
          ],
          "scattercarpet": [
           {
            "marker": {
             "colorbar": {
              "outlinewidth": 0,
              "ticks": ""
             }
            },
            "type": "scattercarpet"
           }
          ],
          "scattergeo": [
           {
            "marker": {
             "colorbar": {
              "outlinewidth": 0,
              "ticks": ""
             }
            },
            "type": "scattergeo"
           }
          ],
          "scattergl": [
           {
            "marker": {
             "colorbar": {
              "outlinewidth": 0,
              "ticks": ""
             }
            },
            "type": "scattergl"
           }
          ],
          "scattermapbox": [
           {
            "marker": {
             "colorbar": {
              "outlinewidth": 0,
              "ticks": ""
             }
            },
            "type": "scattermapbox"
           }
          ],
          "scatterpolar": [
           {
            "marker": {
             "colorbar": {
              "outlinewidth": 0,
              "ticks": ""
             }
            },
            "type": "scatterpolar"
           }
          ],
          "scatterpolargl": [
           {
            "marker": {
             "colorbar": {
              "outlinewidth": 0,
              "ticks": ""
             }
            },
            "type": "scatterpolargl"
           }
          ],
          "scatterternary": [
           {
            "marker": {
             "colorbar": {
              "outlinewidth": 0,
              "ticks": ""
             }
            },
            "type": "scatterternary"
           }
          ],
          "surface": [
           {
            "colorbar": {
             "outlinewidth": 0,
             "ticks": ""
            },
            "colorscale": [
             [
              0,
              "#0d0887"
             ],
             [
              0.1111111111111111,
              "#46039f"
             ],
             [
              0.2222222222222222,
              "#7201a8"
             ],
             [
              0.3333333333333333,
              "#9c179e"
             ],
             [
              0.4444444444444444,
              "#bd3786"
             ],
             [
              0.5555555555555556,
              "#d8576b"
             ],
             [
              0.6666666666666666,
              "#ed7953"
             ],
             [
              0.7777777777777778,
              "#fb9f3a"
             ],
             [
              0.8888888888888888,
              "#fdca26"
             ],
             [
              1,
              "#f0f921"
             ]
            ],
            "type": "surface"
           }
          ],
          "table": [
           {
            "cells": {
             "fill": {
              "color": "#EBF0F8"
             },
             "line": {
              "color": "white"
             }
            },
            "header": {
             "fill": {
              "color": "#C8D4E3"
             },
             "line": {
              "color": "white"
             }
            },
            "type": "table"
           }
          ]
         },
         "layout": {
          "annotationdefaults": {
           "arrowcolor": "#2a3f5f",
           "arrowhead": 0,
           "arrowwidth": 1
          },
          "autotypenumbers": "strict",
          "coloraxis": {
           "colorbar": {
            "outlinewidth": 0,
            "ticks": ""
           }
          },
          "colorscale": {
           "diverging": [
            [
             0,
             "#8e0152"
            ],
            [
             0.1,
             "#c51b7d"
            ],
            [
             0.2,
             "#de77ae"
            ],
            [
             0.3,
             "#f1b6da"
            ],
            [
             0.4,
             "#fde0ef"
            ],
            [
             0.5,
             "#f7f7f7"
            ],
            [
             0.6,
             "#e6f5d0"
            ],
            [
             0.7,
             "#b8e186"
            ],
            [
             0.8,
             "#7fbc41"
            ],
            [
             0.9,
             "#4d9221"
            ],
            [
             1,
             "#276419"
            ]
           ],
           "sequential": [
            [
             0,
             "#0d0887"
            ],
            [
             0.1111111111111111,
             "#46039f"
            ],
            [
             0.2222222222222222,
             "#7201a8"
            ],
            [
             0.3333333333333333,
             "#9c179e"
            ],
            [
             0.4444444444444444,
             "#bd3786"
            ],
            [
             0.5555555555555556,
             "#d8576b"
            ],
            [
             0.6666666666666666,
             "#ed7953"
            ],
            [
             0.7777777777777778,
             "#fb9f3a"
            ],
            [
             0.8888888888888888,
             "#fdca26"
            ],
            [
             1,
             "#f0f921"
            ]
           ],
           "sequentialminus": [
            [
             0,
             "#0d0887"
            ],
            [
             0.1111111111111111,
             "#46039f"
            ],
            [
             0.2222222222222222,
             "#7201a8"
            ],
            [
             0.3333333333333333,
             "#9c179e"
            ],
            [
             0.4444444444444444,
             "#bd3786"
            ],
            [
             0.5555555555555556,
             "#d8576b"
            ],
            [
             0.6666666666666666,
             "#ed7953"
            ],
            [
             0.7777777777777778,
             "#fb9f3a"
            ],
            [
             0.8888888888888888,
             "#fdca26"
            ],
            [
             1,
             "#f0f921"
            ]
           ]
          },
          "colorway": [
           "#636efa",
           "#EF553B",
           "#00cc96",
           "#ab63fa",
           "#FFA15A",
           "#19d3f3",
           "#FF6692",
           "#B6E880",
           "#FF97FF",
           "#FECB52"
          ],
          "font": {
           "color": "#2a3f5f"
          },
          "geo": {
           "bgcolor": "white",
           "lakecolor": "white",
           "landcolor": "#E5ECF6",
           "showlakes": true,
           "showland": true,
           "subunitcolor": "white"
          },
          "hoverlabel": {
           "align": "left"
          },
          "hovermode": "closest",
          "mapbox": {
           "style": "light"
          },
          "paper_bgcolor": "white",
          "plot_bgcolor": "#E5ECF6",
          "polar": {
           "angularaxis": {
            "gridcolor": "white",
            "linecolor": "white",
            "ticks": ""
           },
           "bgcolor": "#E5ECF6",
           "radialaxis": {
            "gridcolor": "white",
            "linecolor": "white",
            "ticks": ""
           }
          },
          "scene": {
           "xaxis": {
            "backgroundcolor": "#E5ECF6",
            "gridcolor": "white",
            "gridwidth": 2,
            "linecolor": "white",
            "showbackground": true,
            "ticks": "",
            "zerolinecolor": "white"
           },
           "yaxis": {
            "backgroundcolor": "#E5ECF6",
            "gridcolor": "white",
            "gridwidth": 2,
            "linecolor": "white",
            "showbackground": true,
            "ticks": "",
            "zerolinecolor": "white"
           },
           "zaxis": {
            "backgroundcolor": "#E5ECF6",
            "gridcolor": "white",
            "gridwidth": 2,
            "linecolor": "white",
            "showbackground": true,
            "ticks": "",
            "zerolinecolor": "white"
           }
          },
          "shapedefaults": {
           "line": {
            "color": "#2a3f5f"
           }
          },
          "ternary": {
           "aaxis": {
            "gridcolor": "white",
            "linecolor": "white",
            "ticks": ""
           },
           "baxis": {
            "gridcolor": "white",
            "linecolor": "white",
            "ticks": ""
           },
           "bgcolor": "#E5ECF6",
           "caxis": {
            "gridcolor": "white",
            "linecolor": "white",
            "ticks": ""
           }
          },
          "title": {
           "x": 0.05
          },
          "xaxis": {
           "automargin": true,
           "gridcolor": "white",
           "linecolor": "white",
           "ticks": "",
           "title": {
            "standoff": 15
           },
           "zerolinecolor": "white",
           "zerolinewidth": 2
          },
          "yaxis": {
           "automargin": true,
           "gridcolor": "white",
           "linecolor": "white",
           "ticks": "",
           "title": {
            "standoff": 15
           },
           "zerolinecolor": "white",
           "zerolinewidth": 2
          }
         }
        },
        "xaxis": {
         "anchor": "y",
         "domain": [
          0,
          1
         ],
         "title": {
          "text": "tsne_1"
         }
        },
        "yaxis": {
         "anchor": "x",
         "domain": [
          0,
          1
         ],
         "title": {
          "text": "tsne_2"
         }
        }
       }
      }
     },
     "metadata": {},
     "output_type": "display_data"
    }
   ],
   "source": [
    "import plotly.express as px\n",
    "\n",
    "tsne_df = pd.DataFrame(item_tsne, columns=[\"tsne_1\", \"tsne_2\"])\n",
    "tsne_df[\"item_id\"] = np.arange(item_tsne.shape[0])\n",
    "tsne_df = tsne_df.merge(items.reset_index())\n",
    "\n",
    "px.scatter(tsne_df, x=\"tsne_1\", y=\"tsne_2\",\n",
    "           color=\"popularity\",\n",
    "           hover_data=[\"item_id\", \"title\", \"popularity\"])"
   ]
  },
  {
   "cell_type": "markdown",
   "metadata": {},
   "source": [
    "### Exercises\n",
    "\n",
    " - Add another layer to the neural network and retrain, compare train/test error.\n",
    " - Try adding more dropout and change layer sizes.\n"
   ]
  },
  {
   "cell_type": "markdown",
   "metadata": {},
   "source": [
    "### A recommendation function for a given user\n",
    "\n",
    "Once the model is trained, the system can be used to recommend a few items for a user that they haven't seen before. The following code does that.\n",
    "\n",
    "- we use the `model.predict` to compute the ratings a user would have given to all items\n",
    "- we build a function that sorts these items and excludes those the user has already seen."
   ]
  },
  {
   "cell_type": "code",
   "execution_count": 50,
   "metadata": {
    "scrolled": true
   },
   "outputs": [],
   "source": [
    "def recommend(user_id, top_n=10):\n",
    "    item_ids = range(1, items['item_id'].max())\n",
    "    seen_mask = all_ratings[\"user_id\"] == user_id\n",
    "    seen_movies = set(all_ratings[seen_mask][\"item_id\"])\n",
    "    item_ids = list(filter(lambda x: x not in seen_movies, item_ids))\n",
    "\n",
    "    user = np.zeros_like(item_ids)\n",
    "    user[:len(item_ids)] = user_id\n",
    "    items_ = np.array(item_ids)\n",
    "    ratings = model.predict([user, items_]).flatten()\n",
    "    top_items = ratings.argsort()[-top_n:][::-1]\n",
    "    return [(indexed_items.loc[item_id][\"title\"], ratings[item_id]) for item_id in top_items]"
   ]
  },
  {
   "cell_type": "code",
   "execution_count": 46,
   "metadata": {},
   "outputs": [
    {
     "name": "stdout",
     "output_type": "stream",
     "text": [
      "\u001b[1m48/48\u001b[0m \u001b[32m━━━━━━━━━━━━━━━━━━━━\u001b[0m\u001b[37m\u001b[0m \u001b[1m0s\u001b[0m 893us/step\n",
      "    4.5: Dead Man Walking (1995)\n",
      "    4.4: Eat Drink Man Woman (1994)\n",
      "    4.1: Young Guns (1988)\n",
      "    4.1: 20,000 Leagues Under the Sea (1954)\n",
      "    4.1: Faster Pussycat! Kill! Kill! (1965)\n",
      "    4.1: Terminator 2: Judgment Day (1991)\n",
      "    4.0: Letter From Death Row, A (1998)\n",
      "    4.0: Get Shorty (1995)\n",
      "    4.0: Robert A. Heinlein's The Puppet Masters (1994)\n",
      "    4.0: Rock, The (1996)\n"
     ]
    }
   ],
   "source": [
    "for title, pred_rating in recommend(5):\n",
    "    print(\"    %0.1f: %s\" % (pred_rating, title))"
   ]
  },
  {
   "cell_type": "markdown",
   "metadata": {
    "collapsed": false
   },
   "source": [
    "### Exercises\n",
    "\n",
    "- Try modifying our neural network to improve recommendation. You could try adding more layers, or using a different loss function. \n",
    "- Your goal is to improve the Mean Absolute Error on the test set. Show the results of your best model."
   ]
  },
  {
   "cell_type": "code",
   "execution_count": 47,
   "metadata": {
    "collapsed": false
   },
   "outputs": [
    {
     "name": "stderr",
     "output_type": "stream",
     "text": [
      "/opt/miniconda3/envs/dsi_participant/lib/python3.9/site-packages/keras/src/layers/core/embedding.py:90: UserWarning:\n",
      "\n",
      "Argument `input_length` is deprecated. Just remove it.\n",
      "\n"
     ]
    }
   ],
   "source": [
    "# Extend and improve the model below -  NOTE: modified model are added in the end\n",
    "class RegressionModel(Model):\n",
    "    def __init__(self, embedding_size, max_user_id, max_item_id):\n",
    "        super().__init__()\n",
    "\n",
    "        self.user_embedding = Embedding(output_dim=embedding_size,\n",
    "                                        input_dim=max_user_id + 1,\n",
    "                                        input_length=1,\n",
    "                                        name='user_embedding')\n",
    "        self.item_embedding = Embedding(output_dim=embedding_size,\n",
    "                                        input_dim=max_item_id + 1,\n",
    "                                        input_length=1,\n",
    "                                        name='item_embedding')\n",
    "\n",
    "        # The following two layers don't have parameters.\n",
    "        self.flatten = Flatten()\n",
    "        self.dot = Dot(axes=1)\n",
    "\n",
    "    def call(self, inputs):\n",
    "        user_inputs = inputs[0]\n",
    "        item_inputs = inputs[1]\n",
    "\n",
    "        user_vecs = self.flatten(self.user_embedding(user_inputs))\n",
    "        item_vecs = self.flatten(self.item_embedding(item_inputs))\n",
    "\n",
    "        y = self.dot([user_vecs, item_vecs])\n",
    "        return y\n",
    "\n",
    "\n",
    "model = RegressionModel(embedding_size=64, max_user_id=all_ratings['user_id'].max(), max_item_id=all_ratings['item_id'].max())\n",
    "model.compile(optimizer=\"adam\", loss='mae')"
   ]
  },
  {
   "cell_type": "code",
   "execution_count": 73,
   "metadata": {
    "collapsed": false
   },
   "outputs": [
    {
     "name": "stdout",
     "output_type": "stream",
     "text": [
      "Epoch 1/10\n",
      "\u001b[1m1125/1125\u001b[0m \u001b[32m━━━━━━━━━━━━━━━━━━━━\u001b[0m\u001b[37m\u001b[0m \u001b[1m2s\u001b[0m 1ms/step - loss: 7.6627 - mae: 2.5291 - val_loss: 7.6706 - val_mae: 2.5280\n",
      "Epoch 2/10\n",
      "\u001b[1m1125/1125\u001b[0m \u001b[32m━━━━━━━━━━━━━━━━━━━━\u001b[0m\u001b[37m\u001b[0m \u001b[1m2s\u001b[0m 1ms/step - loss: 7.6442 - mae: 2.5255 - val_loss: 7.6705 - val_mae: 2.5280\n",
      "Epoch 3/10\n",
      "\u001b[1m1125/1125\u001b[0m \u001b[32m━━━━━━━━━━━━━━━━━━━━\u001b[0m\u001b[37m\u001b[0m \u001b[1m1s\u001b[0m 1ms/step - loss: 7.6464 - mae: 2.5252 - val_loss: 7.6705 - val_mae: 2.5280\n",
      "Epoch 4/10\n",
      "\u001b[1m1125/1125\u001b[0m \u001b[32m━━━━━━━━━━━━━━━━━━━━\u001b[0m\u001b[37m\u001b[0m \u001b[1m2s\u001b[0m 1ms/step - loss: 7.6640 - mae: 2.5307 - val_loss: 7.6705 - val_mae: 2.5280\n",
      "Epoch 5/10\n",
      "\u001b[1m1125/1125\u001b[0m \u001b[32m━━━━━━━━━━━━━━━━━━━━\u001b[0m\u001b[37m\u001b[0m \u001b[1m2s\u001b[0m 2ms/step - loss: 7.6744 - mae: 2.5314 - val_loss: 7.6705 - val_mae: 2.5280\n",
      "Epoch 6/10\n",
      "\u001b[1m1125/1125\u001b[0m \u001b[32m━━━━━━━━━━━━━━━━━━━━\u001b[0m\u001b[37m\u001b[0m \u001b[1m2s\u001b[0m 2ms/step - loss: 7.6416 - mae: 2.5258 - val_loss: 7.6705 - val_mae: 2.5280\n",
      "Epoch 7/10\n",
      "\u001b[1m1125/1125\u001b[0m \u001b[32m━━━━━━━━━━━━━━━━━━━━\u001b[0m\u001b[37m\u001b[0m \u001b[1m2s\u001b[0m 1ms/step - loss: 7.6322 - mae: 2.5223 - val_loss: 7.6705 - val_mae: 2.5280\n",
      "Epoch 8/10\n",
      "\u001b[1m1125/1125\u001b[0m \u001b[32m━━━━━━━━━━━━━━━━━━━━\u001b[0m\u001b[37m\u001b[0m \u001b[1m2s\u001b[0m 1ms/step - loss: 7.6374 - mae: 2.5239 - val_loss: 7.6705 - val_mae: 2.5280\n",
      "Epoch 9/10\n",
      "\u001b[1m1125/1125\u001b[0m \u001b[32m━━━━━━━━━━━━━━━━━━━━\u001b[0m\u001b[37m\u001b[0m \u001b[1m2s\u001b[0m 1ms/step - loss: 7.6445 - mae: 2.5245 - val_loss: 7.6705 - val_mae: 2.5280\n",
      "Epoch 10/10\n",
      "\u001b[1m1125/1125\u001b[0m \u001b[32m━━━━━━━━━━━━━━━━━━━━\u001b[0m\u001b[37m\u001b[0m \u001b[1m2s\u001b[0m 1ms/step - loss: 7.6692 - mae: 2.5294 - val_loss: 7.6705 - val_mae: 2.5280\n",
      "\u001b[1m313/313\u001b[0m \u001b[32m━━━━━━━━━━━━━━━━━━━━\u001b[0m\u001b[37m\u001b[0m \u001b[1m0s\u001b[0m 497us/step\n",
      "\u001b[1m625/625\u001b[0m \u001b[32m━━━━━━━━━━━━━━━━━━━━\u001b[0m\u001b[37m\u001b[0m \u001b[1m0s\u001b[0m 352us/step - loss: 7.6517 - mae: 2.5244\n",
      "Test MAE: 2.5350499153137207\n"
     ]
    }
   ],
   "source": [
    "# Training the model\n",
    "history = model.fit([user_id_train, item_id_train], rating_train,\n",
    "                    batch_size=64, epochs=10, validation_split=0.1,\n",
    "                    shuffle=True)\n",
    "\n",
    "#predict on the test data\n",
    "test_predictions = model.predict([user_id_test, item_id_test], batch_size=64)\n",
    "\n",
    "# Evaluate the test MAE\n",
    "test_loss, test_mae = model.evaluate(\n",
    "    [user_id_test, item_id_test], \n",
    "    rating_test, \n",
    "    verbose=1\n",
    ")\n",
    "\n",
    "# Output the test MAE\n",
    "print(\"Test MAE:\", test_mae)"
   ]
  },
  {
   "cell_type": "code",
   "execution_count": 74,
   "metadata": {},
   "outputs": [
    {
     "name": "stdout",
     "output_type": "stream",
     "text": [
      "Epoch 1/10\n",
      "\u001b[1m1125/1125\u001b[0m \u001b[32m━━━━━━━━━━━━━━━━━━━━\u001b[0m\u001b[37m\u001b[0m \u001b[1m2s\u001b[0m 2ms/step - loss: 8.1540 - mae: 2.4807 - val_loss: 0.9787 - val_mae: 0.7780\n",
      "Epoch 2/10\n",
      "\u001b[1m1125/1125\u001b[0m \u001b[32m━━━━━━━━━━━━━━━━━━━━\u001b[0m\u001b[37m\u001b[0m \u001b[1m2s\u001b[0m 1ms/step - loss: 0.8778 - mae: 0.7317 - val_loss: 0.9150 - val_mae: 0.7470\n",
      "Epoch 3/10\n",
      "\u001b[1m1125/1125\u001b[0m \u001b[32m━━━━━━━━━━━━━━━━━━━━\u001b[0m\u001b[37m\u001b[0m \u001b[1m1s\u001b[0m 1ms/step - loss: 0.6594 - mae: 0.6231 - val_loss: 0.9245 - val_mae: 0.7438\n",
      "Epoch 4/10\n",
      "\u001b[1m1125/1125\u001b[0m \u001b[32m━━━━━━━━━━━━━━━━━━━━\u001b[0m\u001b[37m\u001b[0m \u001b[1m2s\u001b[0m 1ms/step - loss: 0.4424 - mae: 0.4956 - val_loss: 0.9894 - val_mae: 0.7691\n",
      "Epoch 5/10\n",
      "\u001b[1m1125/1125\u001b[0m \u001b[32m━━━━━━━━━━━━━━━━━━━━\u001b[0m\u001b[37m\u001b[0m \u001b[1m2s\u001b[0m 1ms/step - loss: 0.3015 - mae: 0.3935 - val_loss: 1.0473 - val_mae: 0.7947\n",
      "Epoch 6/10\n",
      "\u001b[1m1125/1125\u001b[0m \u001b[32m━━━━━━━━━━━━━━━━━━━━\u001b[0m\u001b[37m\u001b[0m \u001b[1m2s\u001b[0m 1ms/step - loss: 0.2167 - mae: 0.3229 - val_loss: 1.0877 - val_mae: 0.8091\n",
      "Epoch 7/10\n",
      "\u001b[1m1125/1125\u001b[0m \u001b[32m━━━━━━━━━━━━━━━━━━━━\u001b[0m\u001b[37m\u001b[0m \u001b[1m2s\u001b[0m 1ms/step - loss: 0.1665 - mae: 0.2788 - val_loss: 1.1399 - val_mae: 0.8273\n",
      "Epoch 8/10\n",
      "\u001b[1m1125/1125\u001b[0m \u001b[32m━━━━━━━━━━━━━━━━━━━━\u001b[0m\u001b[37m\u001b[0m \u001b[1m2s\u001b[0m 1ms/step - loss: 0.1301 - mae: 0.2433 - val_loss: 1.1666 - val_mae: 0.8402\n",
      "Epoch 9/10\n",
      "\u001b[1m1125/1125\u001b[0m \u001b[32m━━━━━━━━━━━━━━━━━━━━\u001b[0m\u001b[37m\u001b[0m \u001b[1m1s\u001b[0m 1ms/step - loss: 0.1078 - mae: 0.2206 - val_loss: 1.2027 - val_mae: 0.8525\n",
      "Epoch 10/10\n",
      "\u001b[1m1125/1125\u001b[0m \u001b[32m━━━━━━━━━━━━━━━━━━━━\u001b[0m\u001b[37m\u001b[0m \u001b[1m1s\u001b[0m 1ms/step - loss: 0.0910 - mae: 0.2012 - val_loss: 1.2191 - val_mae: 0.8591\n",
      "\u001b[1m313/313\u001b[0m \u001b[32m━━━━━━━━━━━━━━━━━━━━\u001b[0m\u001b[37m\u001b[0m \u001b[1m0s\u001b[0m 501us/step\n",
      "\u001b[1m625/625\u001b[0m \u001b[32m━━━━━━━━━━━━━━━━━━━━\u001b[0m\u001b[37m\u001b[0m \u001b[1m0s\u001b[0m 352us/step - loss: 1.2384 - mae: 0.8640\n",
      "Test MAE: 0.8568745851516724\n"
     ]
    }
   ],
   "source": [
    "### modified model with better MAE:\n",
    "\n",
    "from keras.regularizers import l2\n",
    "\n",
    "# Extend and improve the model below -  NOTE: modified model are added in the end\n",
    "class RegressionModel(Model):\n",
    "    def __init__(self, embedding_size, max_user_id, max_item_id):\n",
    "        super().__init__()\n",
    "\n",
    "        self.user_embedding = Embedding(output_dim=embedding_size,\n",
    "                                        input_dim=max_user_id + 1,\n",
    "                                        input_length=1,\n",
    "                                        name='user_embedding')\n",
    "        self.item_embedding = Embedding(output_dim=embedding_size,\n",
    "                                        input_dim=max_item_id + 1,\n",
    "                                        input_length=1,\n",
    "                                        name='item_embedding')\n",
    "\n",
    "        # The following two layers don't have parameters.\n",
    "        self.flatten = Flatten()\n",
    "        self.dot = Dot(axes=1)\n",
    "\n",
    "        # Adding hidden layers\n",
    "        self.dense_1 = Dense(8, activation='relu', kernel_regularizer=l2(0.01))\n",
    "        self.dropout_1 = Dropout(0.1)\n",
    "        self.output_layer = Dense(1, activation='linear')\n",
    "\n",
    "    def call(self, inputs):\n",
    "        user_inputs = inputs[0]\n",
    "        item_inputs = inputs[1]\n",
    "\n",
    "        user_vecs = self.flatten(self.user_embedding(user_inputs))\n",
    "        item_vecs = self.flatten(self.item_embedding(item_inputs))\n",
    "\n",
    "        y = self.dot([user_vecs, item_vecs])\n",
    "\n",
    "        # Pass through hidden layers with Leaky ReLU\n",
    "        x = self.dense_1(y)\n",
    "        x = self.dropout_1(x)\n",
    "        predictions = self.output_layer(x)\n",
    "\n",
    "        return predictions\n",
    "\n",
    "\n",
    "model = RegressionModel(embedding_size=64, max_user_id=all_ratings['user_id'].max(), max_item_id=all_ratings['item_id'].max())\n",
    "# the loss function is changed to mse to train the model, while we still use mae to evaluate the model's performance \n",
    "model.compile(optimizer=\"adam\", loss='mse', metrics=['mae'])\n",
    "\n",
    "# Training the model\n",
    "history = model.fit([user_id_train, item_id_train], rating_train,\n",
    "                    batch_size=64, epochs=10, validation_split=0.1,\n",
    "                    shuffle=True)\n",
    "\n",
    "#predict on the test data\n",
    "test_predictions = model.predict([user_id_test, item_id_test], batch_size=64)\n",
    "\n",
    "# Evaluate the test MAE\n",
    "test_loss, test_mae = model.evaluate(\n",
    "    [user_id_test, item_id_test], \n",
    "    rating_test, \n",
    "    verbose=1\n",
    ")\n",
    "\n",
    "# Output the test MAE\n",
    "print(\"Test MAE:\", test_mae)"
   ]
  }
 ],
 "metadata": {
  "kernelspec": {
   "display_name": "Python 3 (ipykernel)",
   "language": "python",
   "name": "python3"
  },
  "language_info": {
   "codemirror_mode": {
    "name": "ipython",
    "version": 3
   },
   "file_extension": ".py",
   "mimetype": "text/x-python",
   "name": "python",
   "nbconvert_exporter": "python",
   "pygments_lexer": "ipython3",
   "version": "3.9.19"
  }
 },
 "nbformat": 4,
 "nbformat_minor": 4
}
